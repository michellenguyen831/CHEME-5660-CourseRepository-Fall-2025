{
 "cells": [
  {
   "cell_type": "markdown",
   "id": "217a6f23",
   "metadata": {},
   "source": [
    "# L6b: Portfolio Simulation using Multiple Asset Geometric Brownian Motion\n",
    "In this lecture, we take our first steps twoard developing optimal portfolios, i.e., collections of equity, ETFs and fixed income assets. Today, we'll focus on one key aspect of portfolio development, namely, the simulation of portfolio performance.\n",
    "\n",
    "> __Learning Objectives__\n",
    ">\n",
    "> Fill me in.\n",
    "\n",
    "This is going to be an interesting lecture, so let's get started!\n",
    "___"
   ]
  },
  {
   "cell_type": "markdown",
   "id": "c0a31619",
   "metadata": {},
   "source": [
    "## Examples\n",
    "Fill me in.\n",
    "\n",
    "___"
   ]
  },
  {
   "cell_type": "markdown",
   "id": "4eb2c3cb",
   "metadata": {},
   "source": [
    "## Concept Review: Multiple Asset Geometric Brownian Motion (MAGBM)\n",
    "In the previous lecture, we extended the single asset geometric Brownian motion (GBM) model to describe multiple assets. The key new ingredient in the multiple asset GBM (MAGBM) model is the covariance matrix $\\mathbf{\\Sigma}$ which captures how different firms' returns move together.\n",
    "\n",
    "Fill me in.\n",
    "\n",
    "While MAGBM is a powerful model, it requires knowledge of the covariance matrix $\\mathbf{\\Sigma}$, which can be challenging to estimate accurately. Furthermore, we have all the caveats of GBM, such as the constant drift and volatility assumption, and the assumption of a Normal distribution of returns.\n",
    "\n",
    "Finally, suppose we wanted to use MAGBM to simulate the prices of a portfolio of assets. In that case, we need to know the fraction of the total portfolio value invested in each asset, which adds another layer of complexity, and our topic for today's lecture.\n",
    "___"
   ]
  },
  {
   "cell_type": "markdown",
   "id": "bf1889a3",
   "metadata": {},
   "source": [
    "## Modern Portfolio Theory (MPT)\n",
    "Modern Portfolio Theory (MPT) is a framework for constructing investment portfolios that aims to maximize expected return for a given level of risk, or equivalently, minimize risk for a given level of expected return. \n",
    "\n",
    "> __Reference:__ Modern Portfolio Theory was introduced by Harry Markowitz in the 1950s and has since become a foundational concept in finance. Markowitz was awarded the Nobel Prize in Economic Sciences in 1990 for his pioneering work in this area. The original publication is given here: [Portfolio Selection, The Journal of Finance, Vol. 7, No. 1 (Mar., 1952), pp. 77-91](https://www.jstor.org/stable/2975974). The Noble Prize information is available here: [The Sveriges Riksbank Prize in Economic Sciences in Memory of Alfred Nobel 1990](https://www.nobelprize.org/prizes/economic-sciences/1990/markowitz/facts/).\n",
    "\n",
    "The key idea of this approach is to optimally balance risk and reward by diversifying investments across different assets. Let's dig into this argument by frist exploring what we mean by risk and reward of a portfolio. Let's start with the reward.\n",
    "\n",
    "### Portfolio Reward\n",
    "The reward of a portfolio is typically measured by its expected growth (return), which is the weighted average of the expected growth rates (returns) of the individual assets in the portfolio. \n",
    "\n",
    "Suppose we have a portfolio $\\mathcal{P}$ consisting of $M$ assets. Let $w_i\\in\\mathbb{R}_{\\geq 0}$ be the weight of asset $i$ in the portfolio (i.e., the dollar fraction of the total portfolio value invested in asset $i$), and let $\\mathbb{E}[g_i]$ be the expected growth rate (return) of asset $i$. Then, the expected growth rate (return) of the portfolio, denoted as $\\mathbb{E}[g_p]$, is given by:\n",
    "$$\n",
    "\\mathbb{E}[g_p] = \\sum_{i=1}^{M} w_i \\mathbb{E}[g_i]\\quad\\Longrightarrow\\;\\mathbf{w}^{\\top}\\mathbb{E}[\\mathbf{g}]\n",
    "$$\n",
    "where $M$ is the total number of assets in the portfolio, i.e., $|\\mathcal{P}| = M$, the weight vector is $\\mathbf{w}^{\\top} = [w_1, w_2, \\dots, w_M]$, and $\\mathbb{E}[\\mathbf{g}] = [\\mathbb{E}[g_1], \\mathbb{E}[g_2], \\dots, \\mathbb{E}[g_M]]^{\\top}$ is the vector of expected growth rates (returns) of the individual assets.\n",
    "\n",
    "\n",
    " Note, that we could also write this with respect to the annualized returns, i.e., $\\mathbb{E}[r_i]$ and $\\mathbb{E}[r_p]$, but the argument is the same.\n",
    "\n",
    "### Portfolio Risk\n",
    "The risk of a portfolio is typically measured by its variance (or standard deviation) of returns, which takes into account the variances of the individual assets as well as the covariances between them. "
   ]
  },
  {
   "cell_type": "markdown",
   "id": "398fcc83",
   "metadata": {},
   "source": [
    "## Risk and Reward of a Portfolio\n",
    "Risky assets can be arranged into a portfolio $\\mathcal{P}$. \n",
    "The individual logarithmic return $\\bar{r}^{(a)}_{t,t-1}$ of asset $a\\in\\mathcal{P}$ over time horizon \n",
    "$\\Delta{t}$ is defined as:\n",
    "$$\n",
    "\\begin{equation*}\n",
    "\\bar{r}^{(a)}_{t,t-1} \\equiv \\ln\\left(\\frac{S_{a,t}}{S_{a,t-1}}\\right) = \\mu^{(a)}_{t,t-1}\\cdot{\\Delta{t}}\n",
    "\\end{equation*}\n",
    "$$\n",
    "where $\\bar{r}^{(a)}_{t,t-1}$ (dimensionless) is the product of the growth rate $\\mu^{(a)}_{t,t-1}$ (units: inverse time) and the time interval $\\Delta{t}$, and $S_{a,\\star}$ is the share price of asset $a$ at time $t = \\star$. \n",
    "The annualized expected return of portfolio $\\mathcal{P}$ denoted by $\\mathbb{E}\\left(r_{\\mathcal{P}}\\right)$ is given by:\n",
    "$$\n",
    "\\begin{equation*}\n",
    "\\mathbb{E}\\left(r_{\\mathcal{P}}\\right) = \\sum_{a\\in\\mathcal{P}}\\omega_{a}\\cdot\\mathbb{E}\\left(r_{a}\\right)\n",
    "\\end{equation*}\n",
    "$$\n",
    "where $\\omega_{a}$ denotes the (dollar) fraction of asset $a$ in the portfolio $\\mathcal{P}$, and $\\mathbb{E}\\left(r_{a}\\right)$ denotes the annual expected return of asset $a$."
   ]
  },
  {
   "cell_type": "markdown",
   "id": "564ed496",
   "metadata": {
    "vscode": {
     "languageId": "plaintext"
    }
   },
   "source": [
    "## Net Present Value of a Portfolio\n",
    "Suppose we intially invest wealth $W_{\\mathcal{P}}(0)$ (units: USD) in a portfolio $\\mathcal{P}$ at time $t = 0$. Then, the net present value (NPV) of the portfolio $\\mathcal{P}$ at time $T$ (written from our perspective) is given by:\n",
    "$$\n",
    "\\begin{equation*}\n",
    "\\texttt{NPV}(\\bar{r}, T) = \\underbrace{-W_{\\mathcal{P}}(0)}_{\\text{initial investment}} + \n",
    "\\underbrace{W_{\\mathcal{P}}(T)\\cdot\\mathcal{D}_{T,0}^{-1}(\\bar{r})}_{\\text{exit at $T$}}\n",
    "\\end{equation*}\n",
    "$$\n",
    "where $\\mathcal{D}^{-1}_{T,0}(\\bar{r})$ denotes the (inverse) continuous discount factor, $\\bar{r}$ denotes the (constant) discount rate. Dividing by the initial wealth gives the scaled NPV of the portfolio $\\mathcal{P}$:\n",
    "$$\n",
    "\\boxed{\n",
    "\\begin{equation*}\n",
    "\\underbrace{\\frac{\\texttt{NPV}(\\bar{r},T)}{W_{\\mathcal{P}}(0)}}_{\\text{fractional return}} = \\left[\\frac{W_{\\mathcal{P}}(T)}{W_{\\mathcal{P}}(0)}\\right]\\cdot\\mathcal{D}_{T,0}^{-1}(\\bar{r}) - 1\n",
    "\\end{equation*}\\quad\\blacksquare}\n",
    "$$\n",
    "Ok, we know the initial investment. However, how much is the portfolio worth at the end of holding period $T$? Let's use a multiasset geometric Brownian motion model! The wealth of the portfolio $\\mathcal{P}$ at any time $t$ is given by\n",
    "$$\n",
    "\\begin{equation*}\n",
    "W_{\\mathcal{P}}(t) = \\sum_{a\\in\\mathcal{P}}n_{a}(t)\\;{S}_{a}(t)\n",
    "\\end{equation*}\n",
    "$$\n",
    "where $n_{a}(t)$ is the number shares of asset $a\\in\\mathcal{P}$ held at $t$, and\n",
    "$S_{a}(t)$ denotes the share price of asset $a\\in\\mathcal{P}$ at time $t$. "
   ]
  },
  {
   "cell_type": "markdown",
   "id": "13855d34",
   "metadata": {
    "vscode": {
     "languageId": "plaintext"
    }
   },
   "source": []
  },
  {
   "cell_type": "markdown",
   "id": "44fe2b74",
   "metadata": {},
   "source": [
    "## Summary\n",
    "Fill me in\n",
    "\n",
    "> __Key Takeaways__\n",
    "> \n",
    "> Fill me in."
   ]
  },
  {
   "cell_type": "markdown",
   "id": "adcb4c30",
   "metadata": {},
   "source": [
    "## Disclaimer and Risks\n",
    "__This content is offered solely for training and informational purposes__. No offer or solicitation to buy or sell securities or derivative products or any investment or trading advice or strategy is made, given, or endorsed by the teaching team. \n",
    "\n",
    "__Trading involves risk__. Carefully review your financial situation before investing in securities, futures contracts, options, or commodity interests. Past performance, whether actual or indicated by historical tests of strategies, is no guarantee of future performance or success. Trading is generally inappropriate for someone with limited resources, investment or trading experience, or a low-risk tolerance. Only risk capital that is not required for living expenses should be used.\n",
    "\n",
    "__You are fully responsible for any investment or trading decisions you make__. Such decisions should be based solely on evaluating your financial circumstances, investment or trading objectives, risk tolerance, and liquidity needs.\n",
    "\n",
    "___"
   ]
  }
 ],
 "metadata": {
  "language_info": {
   "name": "python"
  }
 },
 "nbformat": 4,
 "nbformat_minor": 5
}
