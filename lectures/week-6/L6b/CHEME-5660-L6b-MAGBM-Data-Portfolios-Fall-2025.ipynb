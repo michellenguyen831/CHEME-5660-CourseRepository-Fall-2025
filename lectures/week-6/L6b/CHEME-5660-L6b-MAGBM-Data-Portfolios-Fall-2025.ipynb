{
 "cells": [
  {
   "cell_type": "markdown",
   "id": "217a6f23",
   "metadata": {},
   "source": [
    "# L6b: Portfolio Simulation using Multiple Asset Geometric Brownian Motion\n",
    "In this lecture, we take our first steps twoard developing optimal portfolios, i.e., collections of equity, ETFs and fixed income assets. Today, we'll focus on one key aspect of portfolio development, namely, the simulation of portfolio performance.\n",
    "\n",
    "> __Learning Objectives__\n",
    ">\n",
    "> Fill me in.\n",
    "\n",
    "This is going to be an interesting lecture, so let's get started!\n",
    "___"
   ]
  },
  {
   "cell_type": "markdown",
   "id": "c0a31619",
   "metadata": {},
   "source": [
    "## Examples\n",
    "Fill me in.\n",
    "\n",
    "___"
   ]
  },
  {
   "cell_type": "markdown",
   "id": "564ed496",
   "metadata": {
    "vscode": {
     "languageId": "plaintext"
    }
   },
   "source": [
    "## Net Present Value of a Portfolio\n",
    "Suppose we intially invest wealth $W_{\\mathcal{P}}(0)$ (units: USD) in a portfolio $\\mathcal{P}$ at time $t = 0$. Then, the net present value (NPV) of the portfolio $\\mathcal{P}$ at time $T$ (written from our perspective) is given by:\n",
    "$$\n",
    "\\begin{equation*}\n",
    "\\texttt{NPV}(\\bar{r}, T) = \\underbrace{-W_{\\mathcal{P}}(0)}_{\\text{initial investment}} + \n",
    "\\underbrace{W_{\\mathcal{P}}(T)\\cdot\\mathcal{D}_{T,0}^{-1}(\\bar{r})}_{\\text{exit at $T$}}\n",
    "\\end{equation*}\n",
    "$$\n",
    "where $\\mathcal{D}^{-1}_{T,0}(\\bar{r})$ denotes the (inverse) continuous discount factor, $\\bar{r}$ denotes the (constant) discount rate. Dividing by the initial wealth gives the scaled NPV of the portfolio $\\mathcal{P}$:\n",
    "$$\n",
    "\\boxed{\n",
    "\\begin{equation*}\n",
    "\\underbrace{\\frac{\\texttt{NPV}(\\bar{r},T)}{W_{\\mathcal{P}}(0)}}_{\\text{fractional return}} = \\left[\\frac{W_{\\mathcal{P}}(T)}{W_{\\mathcal{P}}(0)}\\right]\\cdot\\mathcal{D}_{T,0}^{-1}(\\bar{r}) - 1\n",
    "\\end{equation*}\\quad\\blacksquare}\n",
    "$$\n",
    "Ok, we know the initial investment. However, how much is the portfolio worth at the end of holding period $T$? Let's use a multiasset geometric Brownian motion model!"
   ]
  },
  {
   "cell_type": "markdown",
   "id": "398fcc83",
   "metadata": {},
   "source": [
    "## Wealth, Risk and Reward of a Portfolio\n",
    "The wealth of the portfolio $\\mathcal{P}$ at any time $t$ is given by\n",
    "$$\n",
    "\\begin{equation*}\n",
    "W_{\\mathcal{P}}(t) = \\sum_{a\\in\\mathcal{P}}n_{a}(t)\\;{S}_{a}(t)\n",
    "\\end{equation*}\n",
    "$$\n",
    "where $n_{a}(t)$ is the number shares of asset $a\\in\\mathcal{P}$ held at $t$, and\n",
    "$S_{a}(t)$ denotes the share price of asset $a\\in\\mathcal{P}$ at time $t$. "
   ]
  },
  {
   "cell_type": "markdown",
   "id": "44fe2b74",
   "metadata": {},
   "source": [
    "## Summary\n",
    "Fill me in\n",
    "\n",
    "> __Key Takeaways__\n",
    "> \n",
    "> Fill me in."
   ]
  },
  {
   "cell_type": "markdown",
   "id": "adcb4c30",
   "metadata": {},
   "source": [
    "## Disclaimer and Risks\n",
    "__This content is offered solely for training and informational purposes__. No offer or solicitation to buy or sell securities or derivative products or any investment or trading advice or strategy is made, given, or endorsed by the teaching team. \n",
    "\n",
    "__Trading involves risk__. Carefully review your financial situation before investing in securities, futures contracts, options, or commodity interests. Past performance, whether actual or indicated by historical tests of strategies, is no guarantee of future performance or success. Trading is generally inappropriate for someone with limited resources, investment or trading experience, or a low-risk tolerance. Only risk capital that is not required for living expenses should be used.\n",
    "\n",
    "__You are fully responsible for any investment or trading decisions you make__. Such decisions should be based solely on evaluating your financial circumstances, investment or trading objectives, risk tolerance, and liquidity needs.\n",
    "\n",
    "___"
   ]
  }
 ],
 "metadata": {
  "language_info": {
   "name": "python"
  }
 },
 "nbformat": 4,
 "nbformat_minor": 5
}
