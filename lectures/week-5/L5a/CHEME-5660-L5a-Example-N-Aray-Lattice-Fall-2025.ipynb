{
 "cells": [
  {
   "cell_type": "markdown",
   "id": "674c1299-b654-4b76-a488-203603829349",
   "metadata": {},
   "source": [
    "# Example: N-Ary Recombining Lattice Models\n",
    "Fill me in.\n",
    "\n",
    "___"
   ]
  },
  {
   "cell_type": "markdown",
   "id": "a60d7511-ead0-4147-974c-1e3261c12776",
   "metadata": {
    "vscode": {
     "languageId": "julia"
    }
   },
   "source": [
    "## Setup, Data, and Prerequisites\n",
    "First, we set up the computational environment by including the `Include.jl` file and loading any needed resources.\n",
    "\n",
    ">__Include:__ The [`include(...)` command](https://docs.julialang.org/en/v1/base/base/#include) evaluates the contents of the input source file, `Include.jl`, in the notebook's global scope. The `Include.jl` file sets paths, loads required external packages, etc. For additional information on functions and types used in this material, see the [Julia programming language documentation](https://docs.julialang.org/en/v1/). \n",
    "\n",
    "Let's set up our code environment:"
   ]
  },
  {
   "cell_type": "code",
   "execution_count": 1,
   "id": "a6dcacc3",
   "metadata": {},
   "outputs": [],
   "source": [
    "include(joinpath(@__DIR__, \"Include.jl\")); # include the Include.jl file"
   ]
  },
  {
   "cell_type": "markdown",
   "id": "de39a46e",
   "metadata": {},
   "source": [
    "For additional information on functions and types used in this material, see the [Julia programming language documentation](https://docs.julialang.org/en/v1/) and the [VLQuantitativeFinancePackage.jl documentation](https://github.com/varnerlab/VLQuantitativeFinancePackage.jl). "
   ]
  },
  {
   "cell_type": "markdown",
   "id": "6a89d94c",
   "metadata": {},
   "source": [
    "### Data\n",
    "We gathered daily open-high-low-close (OHLC) data for each firm in the [S&P500](https://en.wikipedia.org/wiki/S%26P_500) from `01-03-2014` until `12-31-2024`, along with data for a few exchange-traded funds and volatility products during that time period. \n",
    "\n",
    "Let's load the `original_dataset::DataFrame` by calling [the `MyTrainingMarketDataSet()` function](https://varnerlab.github.io/VLQuantitativeFinancePackage.jl/dev/data/#VLQuantitativeFinancePackage.MyTrainingMarketDataSet) and remove firms that do not have the maximum number of trading days. The cleaned dataset $\\mathcal{D}$ will be stored in the `dataset` variable."
   ]
  },
  {
   "cell_type": "code",
   "execution_count": 2,
   "id": "e72f2f44",
   "metadata": {},
   "outputs": [],
   "source": [
    "original_dataset = MyTrainingMarketDataSet() |> x-> x[\"dataset\"];"
   ]
  },
  {
   "cell_type": "markdown",
   "id": "99586311",
   "metadata": {},
   "source": [
    "Not all tickers in our dataset have the maximum number of trading days for various reasons, e.g., acquisition or delisting events. Let's collect only those tickers with the maximum number of trading days.\n",
    "\n",
    "First, let's compute the number of records for a firm that we know has the maximum value, e.g., `AAPL`, and save that value in the `maximum_number_trading_days::Int64` variable:"
   ]
  },
  {
   "cell_type": "code",
   "execution_count": 3,
   "id": "6c3e9c02",
   "metadata": {},
   "outputs": [
    {
     "data": {
      "text/plain": [
       "2767"
      ]
     },
     "metadata": {},
     "output_type": "display_data"
    }
   ],
   "source": [
    "maximum_number_trading_days = original_dataset[\"AAPL\"] |> nrow # nrow? (check out: DataFrames.jl)"
   ]
  },
  {
   "cell_type": "markdown",
   "id": "c6491a42",
   "metadata": {},
   "source": [
    "Now, let's iterate through our data and collect only tickers with `maximum_number_trading_days` records. We'll save that data in the `dataset::Dict{String,DataFrame}` variable:"
   ]
  },
  {
   "cell_type": "code",
   "execution_count": 4,
   "id": "40e81ee7",
   "metadata": {},
   "outputs": [],
   "source": [
    "dataset = let\n",
    "\n",
    "    # initialize -\n",
    "    dataset = Dict{String, DataFrame}();\n",
    "\n",
    "    # iterate through the dictionary; we can't guarantee a particular order\n",
    "    for (ticker, data) ∈ original_dataset  # we get each (K, V) pair!\n",
    "        if (nrow(data) == maximum_number_trading_days) # what is this doing?\n",
    "            dataset[ticker] = data;\n",
    "        end\n",
    "    end\n",
    "    dataset; # return\n",
    "end;"
   ]
  },
  {
   "cell_type": "markdown",
   "id": "a2aacf16",
   "metadata": {},
   "source": [
    "Finally, let's get a list of the firms in our cleaned dataset and sort them alphabetically. We store the sorted firm ticker symbols in the `list_of_tickers::Array{String,1}` variable."
   ]
  },
  {
   "cell_type": "code",
   "execution_count": 5,
   "id": "02f8c6f1",
   "metadata": {},
   "outputs": [
    {
     "data": {
      "text/plain": [
       "424-element Vector{String}:\n",
       " \"A\"\n",
       " \"AAL\"\n",
       " \"AAP\"\n",
       " \"AAPL\"\n",
       " \"ABBV\"\n",
       " \"ABT\"\n",
       " \"ACN\"\n",
       " \"ADBE\"\n",
       " \"ADI\"\n",
       " \"ADM\"\n",
       " ⋮\n",
       " \"WYNN\"\n",
       " \"XEL\"\n",
       " \"XOM\"\n",
       " \"XRAY\"\n",
       " \"XYL\"\n",
       " \"YUM\"\n",
       " \"ZBRA\"\n",
       " \"ZION\"\n",
       " \"ZTS\""
      ]
     },
     "metadata": {},
     "output_type": "display_data"
    }
   ],
   "source": [
    "list_of_tickers = keys(dataset) |> collect |> sort # list of firm \"ticker\" symbols in alphabetical order"
   ]
  },
  {
   "cell_type": "markdown",
   "id": "b133734b",
   "metadata": {},
   "source": [
    "### Constants\n",
    "Finally, let's set some constants we'll use later in this notebook. The comments describe the constants, their units, and permissible values."
   ]
  },
  {
   "cell_type": "code",
   "execution_count": null,
   "id": "28115102",
   "metadata": {},
   "outputs": [],
   "source": [
    "TSIM = 8; # number of trading days to simulate\n",
    "Δt = (1.0/252); # step size: 1 trading day in units of years\n",
    "r̄ = 0.05; # risk-free rate (annualized)\n",
    "n = 3; # number of branches in the N-ary lattice"
   ]
  },
  {
   "cell_type": "markdown",
   "id": "05c2cd26",
   "metadata": {},
   "source": [
    "Fill me in."
   ]
  },
  {
   "cell_type": "code",
   "execution_count": 7,
   "id": "2f289382",
   "metadata": {},
   "outputs": [
    {
     "data": {
      "text/plain": [
       "level_offset (generic function with 1 method)"
      ]
     },
     "metadata": {},
     "output_type": "display_data"
    }
   ],
   "source": [
    "nodes_at_level(i::Integer, n::Integer) = binomial(i + n - 1, i)\n",
    "level_offset(i::Integer, n::Integer) = i == 0 ? 0 : binomial(i + n - 1, i - 1) # start of level i"
   ]
  },
  {
   "cell_type": "markdown",
   "id": "8456faea",
   "metadata": {},
   "source": [
    "___"
   ]
  },
  {
   "cell_type": "markdown",
   "id": "85893309",
   "metadata": {},
   "source": [
    "## Task 1: Compute lattice parameters and future prices from historical data\n",
    "Fill me in."
   ]
  },
  {
   "cell_type": "code",
   "execution_count": 8,
   "id": "c21b6d23",
   "metadata": {},
   "outputs": [],
   "source": [
    "# random_firm_ticker = rand(list_of_tickers);\n",
    "random_firm_ticker = \"AAPL\"\n",
    "random_firm_index = findfirst(x-> x == random_firm_ticker, list_of_tickers);\n",
    "random_firm_data = dataset[random_firm_ticker];"
   ]
  },
  {
   "cell_type": "markdown",
   "id": "2d8ae89f",
   "metadata": {},
   "source": [
    "\n",
    "Next, we randomly specify the `start_index` as the trading day index in the dataset, which will serve as the tree's starting point or `L = 0`. Finally, we set the variable `Sₒ`, which corresponds to the initial price per share at the root of the tree; we use the [volume-weighted average price (VWAP)](https://en.wikipedia.org/wiki/Volume-weighted_average_price) as the initial condition:"
   ]
  },
  {
   "cell_type": "code",
   "execution_count": 9,
   "id": "c1e089e5",
   "metadata": {},
   "outputs": [
    {
     "name": "stdout",
     "output_type": "stream",
     "text": [
      "Visualize Firm-4 between trading days (1135 -> 1143)\n"
     ]
    }
   ],
   "source": [
    "start_index = rand(1:(maximum_number_trading_days - TSIM - 1))\n",
    "stop_index = start_index + TSIM\n",
    "println(\"Visualize Firm-$(random_firm_index) between trading days ($(start_index) -> $(stop_index))\")"
   ]
  },
  {
   "cell_type": "markdown",
   "id": "01afc727",
   "metadata": {},
   "source": [
    "Fill me in"
   ]
  },
  {
   "cell_type": "code",
   "execution_count": 10,
   "id": "1fe1b523",
   "metadata": {},
   "outputs": [
    {
     "data": {
      "text/plain": [
       "2766-element Vector{Float64}:\n",
       " -1.9954223478275546\n",
       "  0.15124876922831154\n",
       "  0.9224750663536962\n",
       " -1.4261203338251638\n",
       " -3.0008957287125435\n",
       "  1.5049147899343094\n",
       "  2.9156076155145367\n",
       "  6.502627170431676\n",
       " -1.2561327051214097\n",
       " -4.024741418592851\n",
       "  ⋮\n",
       " -2.325529514930973\n",
       " -0.7888121514647656\n",
       "  3.27667430452004\n",
       "  1.6089944655721826\n",
       "  2.6547619721872575\n",
       "  1.4556917537856608\n",
       " -3.6286559032528003\n",
       " -2.934268163874707\n",
       " -1.5398398549769603"
      ]
     },
     "metadata": {},
     "output_type": "display_data"
    }
   ],
   "source": [
    "log_growth_array = log_growth_matrix(dataset, random_firm_ticker) # array holding growth rate time series"
   ]
  },
  {
   "cell_type": "code",
   "execution_count": 11,
   "id": "b2339bfa",
   "metadata": {},
   "outputs": [],
   "source": [
    "result = build_nary_lattice_from_growth_rate(log_growth_array; n = n, dt = Δt, method = :quantile);"
   ]
  },
  {
   "cell_type": "code",
   "execution_count": 12,
   "id": "5f2cb573",
   "metadata": {},
   "outputs": [
    {
     "data": {
      "text/plain": [
       "(:edges, :avg_factor, :freq, :counts, :labels, :method, :dt, :N)"
      ]
     },
     "metadata": {},
     "output_type": "display_data"
    }
   ],
   "source": [
    "typeof(result) |> T-> fieldnames(T) # check out the fields of the returned struct"
   ]
  },
  {
   "cell_type": "code",
   "execution_count": 13,
   "id": "5b4536bb",
   "metadata": {},
   "outputs": [
    {
     "data": {
      "text/plain": [
       "2-element Vector{Float64}:\n",
       " 0.9904558965137503\n",
       " 1.0116107772330392"
      ]
     },
     "metadata": {},
     "output_type": "display_data"
    }
   ],
   "source": [
    "result.avg_factor"
   ]
  },
  {
   "cell_type": "markdown",
   "id": "50c516a5",
   "metadata": {},
   "source": [
    "Fill me in."
   ]
  },
  {
   "cell_type": "code",
   "execution_count": 14,
   "id": "034e67ba",
   "metadata": {},
   "outputs": [
    {
     "data": {
      "text/plain": [
       "2-element Vector{Float64}:\n",
       " 0.5\n",
       " 0.5"
      ]
     },
     "metadata": {},
     "output_type": "display_data"
    }
   ],
   "source": [
    "result.freq"
   ]
  },
  {
   "cell_type": "code",
   "execution_count": 15,
   "id": "5717ab2a",
   "metadata": {},
   "outputs": [
    {
     "name": "stdout",
     "output_type": "stream",
     "text": [
      "n-ary lattice (method=quantile, Δt=0.003968253968253968, N=2766)\n",
      "State μ-bin [low, high)               avg factor    freq      count\n",
      "S1    [-21.211458 , 0.317856)         0.990456      0.5       1383\n",
      "S2    [0.317856 , 21.706078]          1.011611      0.5       1383\n"
     ]
    }
   ],
   "source": [
    "print_lattice(result)"
   ]
  },
  {
   "cell_type": "markdown",
   "id": "0a59b62e",
   "metadata": {},
   "source": [
    "Fill me in."
   ]
  },
  {
   "cell_type": "code",
   "execution_count": 16,
   "id": "81facc54",
   "metadata": {},
   "outputs": [
    {
     "name": "stdout",
     "output_type": "stream",
     "text": [
      "Starting price: 46.8394 USD for firm AAPL\n"
     ]
    }
   ],
   "source": [
    "my_nary_lattice_model = let\n",
    "\n",
    "    # initialize -\n",
    "    model = nothing;\n",
    "    Sₒ = random_firm_data[start_index,:volume_weighted_average_price];\n",
    "    Δ = result.avg_factor |> reverse; # average growth factors (up to down)\n",
    "\n",
    "    # build an empty model -\n",
    "    model = build(MyGeneralAdjacencyRecombiningCommodityPriceTree, (\n",
    "        n = n,\n",
    "        h = TSIM, # how many days to simulate \n",
    "    ));\n",
    "\n",
    "    # populate the data in the model -\n",
    "    model = populate(model, Sₒ, Δ);\n",
    "\n",
    "    # print -\n",
    "    println(\"Starting price: $(Sₒ) USD for firm $(random_firm_ticker)\");\n",
    "\n",
    "    model; # return\n",
    "end;"
   ]
  },
  {
   "cell_type": "markdown",
   "id": "75e83301",
   "metadata": {},
   "source": [
    "What's in the `my_nary_lattice_model::MyGeneralAdjacencyRecombiningCommodityPriceTree` instance?"
   ]
  },
  {
   "cell_type": "code",
   "execution_count": 17,
   "id": "c1b03bf7",
   "metadata": {},
   "outputs": [
    {
     "data": {
      "text/plain": [
       "(:data, :connectivity, :h, :n)"
      ]
     },
     "metadata": {},
     "output_type": "display_data"
    }
   ],
   "source": [
    "typeof(my_nary_lattice_model) |> T-> fieldnames(T) # check out the fields of the returned struct"
   ]
  },
  {
   "cell_type": "code",
   "execution_count": 18,
   "id": "e42f6b78",
   "metadata": {},
   "outputs": [
    {
     "data": {
      "text/plain": [
       "Dict{Int64, Vector{Int64}} with 45 entries:\n",
       "  5  => [8, 9]\n",
       "  35 => [43, 44]\n",
       "  30 => [38, 39]\n",
       "  32 => [40, 41]\n",
       "  6  => [10, 11]\n",
       "  4  => [7, 8]\n",
       "  13 => [18, 19]\n",
       "  12 => [17, 18]\n",
       "  28 => [36, 37]\n",
       "  23 => [30, 31]\n",
       "  41 => [50, 51]\n",
       "  43 => [52, 53]\n",
       "  11 => [16, 17]\n",
       "  36 => [45, 46]\n",
       "  39 => [48, 49]\n",
       "  7  => [11, 12]\n",
       "  25 => [32, 33]\n",
       "  34 => [42, 43]\n",
       "  2  => [4, 5]\n",
       "  ⋮  => ⋮"
      ]
     },
     "metadata": {},
     "output_type": "display_data"
    }
   ],
   "source": [
    "my_nary_lattice_model.connectivity"
   ]
  },
  {
   "cell_type": "code",
   "execution_count": 19,
   "id": "6d1ed1b2",
   "metadata": {},
   "outputs": [
    {
     "data": {
      "text/plain": [
       "Dict{Int64, NamedTuple} with 45 entries:\n",
       "  5  => (price = 45.9496, path = [0, 2])\n",
       "  35 => (price = 43.7983, path = [0, 7])\n",
       "  30 => (price = 48.6798, path = [5, 2])\n",
       "  32 => (price = 46.6651, path = [3, 4])\n",
       "  6  => (price = 48.4899, path = [3, 0])\n",
       "  4  => (price = 46.931, path = [1, 1])\n",
       "  13 => (price = 46.0395, path = [1, 3])\n",
       "  12 => (price = 47.0228, path = [2, 2])\n",
       "  28 => (price = 50.7815, path = [7, 0])\n",
       "  23 => (price = 48.1211, path = [4, 2])\n",
       "  41 => (price = 46.2197, path = [3, 5])\n",
       "  43 => (price = 44.3068, path = [1, 7])\n",
       "  11 => (price = 48.0271, path = [3, 1])\n",
       "  36 => (price = 51.3711, path = [8, 0])\n",
       "  39 => (price = 48.2152, path = [5, 3])\n",
       "  7  => (price = 47.4759, path = [2, 1])\n",
       "  25 => (price = 46.1295, path = [2, 4])\n",
       "  34 => (price = 44.7338, path = [1, 6])\n",
       "  2  => (price = 46.3924, path = [0, 1])\n",
       "  ⋮  => ⋮"
      ]
     },
     "metadata": {},
     "output_type": "display_data"
    }
   ],
   "source": [
    "my_nary_lattice_model.data"
   ]
  },
  {
   "cell_type": "markdown",
   "id": "87cd66ab",
   "metadata": {},
   "source": [
    "## Task 2: Let's compute the probability of each price path\n",
    "Fill me in."
   ]
  },
  {
   "cell_type": "code",
   "execution_count": 20,
   "id": "3a452e07",
   "metadata": {},
   "outputs": [
    {
     "data": {
      "text/plain": [
       "9-element Vector{Int64}:\n",
       " 36\n",
       " 37\n",
       " 38\n",
       " 39\n",
       " 40\n",
       " 41\n",
       " 42\n",
       " 43\n",
       " 44"
      ]
     },
     "metadata": {},
     "output_type": "display_data"
    }
   ],
   "source": [
    "nodes_at_tree_level = let\n",
    "\n",
    "    # initialize -\n",
    "    l = 8; # level\n",
    "    start = level_offset(l, n);\n",
    "    stop = start + nodes_at_level(l, n) - 1;\n",
    "\n",
    "    # compute the nodes indices at level l -\n",
    "    nodes = range(start, stop=stop, step=1) |> collect;\n",
    "end"
   ]
  },
  {
   "cell_type": "code",
   "execution_count": 21,
   "id": "94f4b6e6",
   "metadata": {},
   "outputs": [
    {
     "data": {
      "text/plain": [
       "9×2 Matrix{Float64}:\n",
       " 43.3803  0.00390625\n",
       " 44.3068  0.03125\n",
       " 45.2532  0.109375\n",
       " 46.2197  0.21875\n",
       " 47.2069  0.273438\n",
       " 48.2152  0.21875\n",
       " 49.245   0.109375\n",
       " 50.2968  0.03125\n",
       " 51.3711  0.00390625"
      ]
     },
     "metadata": {},
     "output_type": "display_data"
    }
   ],
   "source": [
    "data_array_at_level = let\n",
    "   \n",
    "    # initialize -\n",
    "    n = TSIM;\n",
    "    number_of_nodes = length(nodes_at_tree_level);\n",
    "    results_array = Array{Float64, 2}(undef, number_of_nodes, 2);\n",
    "    Δ = result.avg_factor |> reverse; # average growth factors (up to down)\n",
    "    p = result.freq |> reverse; # real-world probabilities (up to down)\n",
    "    d = Multinomial(n, p)\n",
    "\n",
    "    for i ∈ 1:number_of_nodes\n",
    "        \n",
    "        # get node index -\n",
    "        j = nodes_at_tree_level[i];\n",
    "        nodemodel = my_nary_lattice_model.data[j];\n",
    "\n",
    "        # get the price from the node model -\n",
    "        price = nodemodel.price;\n",
    "\n",
    "        # ok: let's compute the probability of reaching this node -\n",
    "        path = nodemodel.path; # path to reach this node\n",
    "       \n",
    "        # capture the results -\n",
    "        results_array[i, 1] = price;\n",
    "        results_array[i, 2] = pdf(d,path);\n",
    "    end\n",
    "\n",
    "    tmp = results_array[:,1];\n",
    "    sorted_results_array = sortperm(tmp) |> I-> results_array[I, :]; # sort by price\n",
    "end"
   ]
  },
  {
   "cell_type": "markdown",
   "id": "d4062b7e",
   "metadata": {},
   "source": [
    "__Check:__ The sum of the probabilities at each level should equal `1.0`. Let's check that for level `l = 3` (the close price on Friday from today's perspective):"
   ]
  },
  {
   "cell_type": "code",
   "execution_count": 22,
   "id": "73d194be",
   "metadata": {},
   "outputs": [],
   "source": [
    "@assert data_array_at_level[:,2] |> sum ≈ 1.0 # should be 1.0"
   ]
  },
  {
   "cell_type": "markdown",
   "id": "377b158f",
   "metadata": {},
   "source": [
    "Let's visualize the possible price distribution for Friday:"
   ]
  },
  {
   "cell_type": "code",
   "execution_count": 23,
   "id": "e16cd9dc",
   "metadata": {},
   "outputs": [
    {
     "data": {
      "image/png": "[encoded data removed]",
      "image/svg+xml": [
       "<?xml version=\"1.0\" encoding=\"utf-8\"?>\n",
       "<svg xmlns=\"http://www.w3.org/2000/svg\" xmlns:xlink=\"http://www.w3.org/1999/xlink\" width=\"600\" height=\"400\" viewBox=\"0 0 2400 1600\">\n",
       "<defs>\n",
       "  <clipPath id=\"clip120\">\n",
       "    <rect x=\"0\" y=\"0\" width=\"2400\" height=\"1600\"/>\n",
       "  </clipPath>\n",
       "</defs>\n",
       "<path clip-path=\"url(#clip120)\" d=\"M0 1600 L2400 1600 L2400 8.88178e-14 L0 8.88178e-14  Z\" fill=\"#ffffff\" fill-rule=\"evenodd\" fill-opacity=\"1\"/>\n",
       "<defs>\n",
       "  <clipPath id=\"clip121\">\n",
       "    <rect x=\"480\" y=\"0\" width=\"1681\" height=\"1600\"/>\n",
       "  </clipPath>\n",
       "</defs>\n",
       "<path clip-path=\"url(#clip120)\" d=\"M186.274 1486.45 L2352.76 1486.45 L2352.76 47.2441 L186.274 47.2441  Z\" fill=\"#ffffff\" fill-rule=\"evenodd\" fill-opacity=\"1\"/>\n",
       "<defs>\n",
       "  <clipPath id=\"clip122\">\n",
       "    <rect x=\"186\" y=\"47\" width=\"2167\" height=\"1440\"/>\n",
       "  </clipPath>\n",
       "</defs>\n",
       "<polyline clip-path=\"url(#clip122)\" style=\"stroke:#000000; stroke-linecap:round; stroke-linejoin:round; stroke-width:2; stroke-opacity:0.1; fill:none\" points=\"406.096,1486.45 406.096,47.2441 \"/>\n",
       "<polyline clip-path=\"url(#clip122)\" style=\"stroke:#000000; stroke-linecap:round; stroke-linejoin:round; stroke-width:2; stroke-opacity:0.1; fill:none\" points=\"917.646,1486.45 917.646,47.2441 \"/>\n",
       "<polyline clip-path=\"url(#clip122)\" style=\"stroke:#000000; stroke-linecap:round; stroke-linejoin:round; stroke-width:2; stroke-opacity:0.1; fill:none\" points=\"1429.2,1486.45 1429.2,47.2441 \"/>\n",
       "<polyline clip-path=\"url(#clip122)\" style=\"stroke:#000000; stroke-linecap:round; stroke-linejoin:round; stroke-width:2; stroke-opacity:0.1; fill:none\" points=\"1940.75,1486.45 1940.75,47.2441 \"/>\n",
       "<polyline clip-path=\"url(#clip122)\" style=\"stroke:#000000; stroke-linecap:round; stroke-linejoin:round; stroke-width:2; stroke-opacity:0.1; fill:none\" points=\"186.274,1465.39 2352.76,1465.39 \"/>\n",
       "<polyline clip-path=\"url(#clip122)\" style=\"stroke:#000000; stroke-linecap:round; stroke-linejoin:round; stroke-width:2; stroke-opacity:0.1; fill:none\" points=\"186.274,1213.52 2352.76,1213.52 \"/>\n",
       "<polyline clip-path=\"url(#clip122)\" style=\"stroke:#000000; stroke-linecap:round; stroke-linejoin:round; stroke-width:2; stroke-opacity:0.1; fill:none\" points=\"186.274,961.652 2352.76,961.652 \"/>\n",
       "<polyline clip-path=\"url(#clip122)\" style=\"stroke:#000000; stroke-linecap:round; stroke-linejoin:round; stroke-width:2; stroke-opacity:0.1; fill:none\" points=\"186.274,709.782 2352.76,709.782 \"/>\n",
       "<polyline clip-path=\"url(#clip122)\" style=\"stroke:#000000; stroke-linecap:round; stroke-linejoin:round; stroke-width:2; stroke-opacity:0.1; fill:none\" points=\"186.274,457.911 2352.76,457.911 \"/>\n",
       "<polyline clip-path=\"url(#clip122)\" style=\"stroke:#000000; stroke-linecap:round; stroke-linejoin:round; stroke-width:2; stroke-opacity:0.1; fill:none\" points=\"186.274,206.041 2352.76,206.041 \"/>\n",
       "<polyline clip-path=\"url(#clip120)\" style=\"stroke:#000000; stroke-linecap:round; stroke-linejoin:round; stroke-width:4; stroke-opacity:1; fill:none\" points=\"186.274,1486.45 2352.76,1486.45 \"/>\n",
       "<polyline clip-path=\"url(#clip120)\" style=\"stroke:#000000; stroke-linecap:round; stroke-linejoin:round; stroke-width:4; stroke-opacity:1; fill:none\" points=\"406.096,1486.45 406.096,1467.55 \"/>\n",
       "<polyline clip-path=\"url(#clip120)\" style=\"stroke:#000000; stroke-linecap:round; stroke-linejoin:round; stroke-width:4; stroke-opacity:1; fill:none\" points=\"917.646,1486.45 917.646,1467.55 \"/>\n",
       "<polyline clip-path=\"url(#clip120)\" style=\"stroke:#000000; stroke-linecap:round; stroke-linejoin:round; stroke-width:4; stroke-opacity:1; fill:none\" points=\"1429.2,1486.45 1429.2,1467.55 \"/>\n",
       "<polyline clip-path=\"url(#clip120)\" style=\"stroke:#000000; stroke-linecap:round; stroke-linejoin:round; stroke-width:4; stroke-opacity:1; fill:none\" points=\"1940.75,1486.45 1940.75,1467.55 \"/>\n",
       "<path clip-path=\"url(#clip120)\" d=\"M394.024 1518.36 L382.219 1536.81 L394.024 1536.81 L394.024 1518.36 M392.797 1514.29 L398.677 1514.29 L398.677 1536.81 L403.607 1536.81 L403.607 1540.7 L398.677 1540.7 L398.677 1548.85 L394.024 1548.85 L394.024 1540.7 L378.422 1540.7 L378.422 1536.19 L392.797 1514.29 Z\" fill=\"#000000\" fill-rule=\"nonzero\" fill-opacity=\"1\" /><path clip-path=\"url(#clip120)\" d=\"M424.186 1518.36 L412.38 1536.81 L424.186 1536.81 L424.186 1518.36 M422.959 1514.29 L428.839 1514.29 L428.839 1536.81 L433.769 1536.81 L433.769 1540.7 L428.839 1540.7 L428.839 1548.85 L424.186 1548.85 L424.186 1540.7 L408.584 1540.7 L408.584 1536.19 L422.959 1514.29 Z\" fill=\"#000000\" fill-rule=\"nonzero\" fill-opacity=\"1\" /><path clip-path=\"url(#clip120)\" d=\"M905.736 1518.36 L893.931 1536.81 L905.736 1536.81 L905.736 1518.36 M904.509 1514.29 L910.389 1514.29 L910.389 1536.81 L915.319 1536.81 L915.319 1540.7 L910.389 1540.7 L910.389 1548.85 L905.736 1548.85 L905.736 1540.7 L890.134 1540.7 L890.134 1536.19 L904.509 1514.29 Z\" fill=\"#000000\" fill-rule=\"nonzero\" fill-opacity=\"1\" /><path clip-path=\"url(#clip120)\" d=\"M933.63 1529.7 Q930.481 1529.7 928.63 1531.86 Q926.801 1534.01 926.801 1537.76 Q926.801 1541.49 928.63 1543.66 Q930.481 1545.82 933.63 1545.82 Q936.778 1545.82 938.606 1543.66 Q940.458 1541.49 940.458 1537.76 Q940.458 1534.01 938.606 1531.86 Q936.778 1529.7 933.63 1529.7 M942.912 1515.05 L942.912 1519.31 Q941.153 1518.48 939.347 1518.04 Q937.565 1517.6 935.805 1517.6 Q931.176 1517.6 928.722 1520.72 Q926.292 1523.85 925.944 1530.17 Q927.31 1528.15 929.37 1527.09 Q931.43 1526 933.907 1526 Q939.116 1526 942.125 1529.17 Q945.157 1532.32 945.157 1537.76 Q945.157 1543.08 942.009 1546.3 Q938.861 1549.52 933.63 1549.52 Q927.634 1549.52 924.463 1544.94 Q921.292 1540.33 921.292 1531.6 Q921.292 1523.41 925.181 1518.55 Q929.069 1513.66 935.62 1513.66 Q937.38 1513.66 939.162 1514.01 Q940.967 1514.36 942.912 1515.05 Z\" fill=\"#000000\" fill-rule=\"nonzero\" fill-opacity=\"1\" /><path clip-path=\"url(#clip120)\" d=\"M1417.41 1518.36 L1405.61 1536.81 L1417.41 1536.81 L1417.41 1518.36 M1416.19 1514.29 L1422.07 1514.29 L1422.07 1536.81 L1427 1536.81 L1427 1540.7 L1422.07 1540.7 L1422.07 1548.85 L1417.41 1548.85 L1417.41 1540.7 L1401.81 1540.7 L1401.81 1536.19 L1416.19 1514.29 Z\" fill=\"#000000\" fill-rule=\"nonzero\" fill-opacity=\"1\" /><path clip-path=\"url(#clip120)\" d=\"M1444.73 1532.44 Q1441.39 1532.44 1439.47 1534.22 Q1437.58 1536 1437.58 1539.13 Q1437.58 1542.25 1439.47 1544.03 Q1441.39 1545.82 1444.73 1545.82 Q1448.06 1545.82 1449.98 1544.03 Q1451.9 1542.23 1451.9 1539.13 Q1451.9 1536 1449.98 1534.22 Q1448.08 1532.44 1444.73 1532.44 M1440.05 1530.45 Q1437.04 1529.7 1435.35 1527.64 Q1433.69 1525.58 1433.69 1522.62 Q1433.69 1518.48 1436.63 1516.07 Q1439.59 1513.66 1444.73 1513.66 Q1449.89 1513.66 1452.83 1516.07 Q1455.77 1518.48 1455.77 1522.62 Q1455.77 1525.58 1454.08 1527.64 Q1452.41 1529.7 1449.43 1530.45 Q1452.81 1531.23 1454.68 1533.52 Q1456.58 1535.82 1456.58 1539.13 Q1456.58 1544.15 1453.5 1546.83 Q1450.45 1549.52 1444.73 1549.52 Q1439.01 1549.52 1435.93 1546.83 Q1432.88 1544.15 1432.88 1539.13 Q1432.88 1535.82 1434.77 1533.52 Q1436.67 1531.23 1440.05 1530.45 M1438.34 1523.06 Q1438.34 1525.75 1440.01 1527.25 Q1441.7 1528.76 1444.73 1528.76 Q1447.74 1528.76 1449.43 1527.25 Q1451.14 1525.75 1451.14 1523.06 Q1451.14 1520.38 1449.43 1518.87 Q1447.74 1517.37 1444.73 1517.37 Q1441.7 1517.37 1440.01 1518.87 Q1438.34 1520.38 1438.34 1523.06 Z\" fill=\"#000000\" fill-rule=\"nonzero\" fill-opacity=\"1\" /><path clip-path=\"url(#clip120)\" d=\"M1915.45 1514.29 L1933.8 1514.29 L1933.8 1518.22 L1919.73 1518.22 L1919.73 1526.7 Q1920.75 1526.35 1921.76 1526.19 Q1922.78 1526 1923.8 1526 Q1929.59 1526 1932.97 1529.17 Q1936.35 1532.34 1936.35 1537.76 Q1936.35 1543.34 1932.88 1546.44 Q1929.4 1549.52 1923.08 1549.52 Q1920.91 1549.52 1918.64 1549.15 Q1916.39 1548.78 1913.99 1548.04 L1913.99 1543.34 Q1916.07 1544.47 1918.29 1545.03 Q1920.51 1545.58 1922.99 1545.58 Q1927 1545.58 1929.33 1543.48 Q1931.67 1541.37 1931.67 1537.76 Q1931.67 1534.15 1929.33 1532.04 Q1927 1529.94 1922.99 1529.94 Q1921.12 1529.94 1919.24 1530.35 Q1917.39 1530.77 1915.45 1531.65 L1915.45 1514.29 Z\" fill=\"#000000\" fill-rule=\"nonzero\" fill-opacity=\"1\" /><path clip-path=\"url(#clip120)\" d=\"M1955.56 1517.37 Q1951.95 1517.37 1950.12 1520.93 Q1948.32 1524.47 1948.32 1531.6 Q1948.32 1538.71 1950.12 1542.27 Q1951.95 1545.82 1955.56 1545.82 Q1959.2 1545.82 1961 1542.27 Q1962.83 1538.71 1962.83 1531.6 Q1962.83 1524.47 1961 1520.93 Q1959.2 1517.37 1955.56 1517.37 M1955.56 1513.66 Q1961.37 1513.66 1964.43 1518.27 Q1967.51 1522.85 1967.51 1531.6 Q1967.51 1540.33 1964.43 1544.94 Q1961.37 1549.52 1955.56 1549.52 Q1949.75 1549.52 1946.67 1544.94 Q1943.62 1540.33 1943.62 1531.6 Q1943.62 1522.85 1946.67 1518.27 Q1949.75 1513.66 1955.56 1513.66 Z\" fill=\"#000000\" fill-rule=\"nonzero\" fill-opacity=\"1\" /><polyline clip-path=\"url(#clip120)\" style=\"stroke:#000000; stroke-linecap:round; stroke-linejoin:round; stroke-width:4; stroke-opacity:1; fill:none\" points=\"186.274,1486.45 186.274,47.2441 \"/>\n",
       "<polyline clip-path=\"url(#clip120)\" style=\"stroke:#000000; stroke-linecap:round; stroke-linejoin:round; stroke-width:4; stroke-opacity:1; fill:none\" points=\"186.274,1465.39 205.172,1465.39 \"/>\n",
       "<polyline clip-path=\"url(#clip120)\" style=\"stroke:#000000; stroke-linecap:round; stroke-linejoin:round; stroke-width:4; stroke-opacity:1; fill:none\" points=\"186.274,1213.52 205.172,1213.52 \"/>\n",
       "<polyline clip-path=\"url(#clip120)\" style=\"stroke:#000000; stroke-linecap:round; stroke-linejoin:round; stroke-width:4; stroke-opacity:1; fill:none\" points=\"186.274,961.652 205.172,961.652 \"/>\n",
       "<polyline clip-path=\"url(#clip120)\" style=\"stroke:#000000; stroke-linecap:round; stroke-linejoin:round; stroke-width:4; stroke-opacity:1; fill:none\" points=\"186.274,709.782 205.172,709.782 \"/>\n",
       "<polyline clip-path=\"url(#clip120)\" style=\"stroke:#000000; stroke-linecap:round; stroke-linejoin:round; stroke-width:4; stroke-opacity:1; fill:none\" points=\"186.274,457.911 205.172,457.911 \"/>\n",
       "<polyline clip-path=\"url(#clip120)\" style=\"stroke:#000000; stroke-linecap:round; stroke-linejoin:round; stroke-width:4; stroke-opacity:1; fill:none\" points=\"186.274,206.041 205.172,206.041 \"/>\n",
       "<path clip-path=\"url(#clip120)\" d=\"M62.9365 1451.19 Q59.3254 1451.19 57.4967 1454.76 Q55.6912 1458.3 55.6912 1465.43 Q55.6912 1472.53 57.4967 1476.1 Q59.3254 1479.64 62.9365 1479.64 Q66.5707 1479.64 68.3763 1476.1 Q70.205 1472.53 70.205 1465.43 Q70.205 1458.3 68.3763 1454.76 Q66.5707 1451.19 62.9365 1451.19 M62.9365 1447.49 Q68.7467 1447.49 71.8022 1452.09 Q74.8809 1456.68 74.8809 1465.43 Q74.8809 1474.15 71.8022 1478.76 Q68.7467 1483.34 62.9365 1483.34 Q57.1264 1483.34 54.0477 1478.76 Q50.9921 1474.15 50.9921 1465.43 Q50.9921 1456.68 54.0477 1452.09 Q57.1264 1447.49 62.9365 1447.49 Z\" fill=\"#000000\" fill-rule=\"nonzero\" fill-opacity=\"1\" /><path clip-path=\"url(#clip120)\" d=\"M83.0984 1476.79 L87.9827 1476.79 L87.9827 1482.67 L83.0984 1482.67 L83.0984 1476.79 Z\" fill=\"#000000\" fill-rule=\"nonzero\" fill-opacity=\"1\" /><path clip-path=\"url(#clip120)\" d=\"M108.168 1451.19 Q104.557 1451.19 102.728 1454.76 Q100.922 1458.3 100.922 1465.43 Q100.922 1472.53 102.728 1476.1 Q104.557 1479.64 108.168 1479.64 Q111.802 1479.64 113.608 1476.1 Q115.436 1472.53 115.436 1465.43 Q115.436 1458.3 113.608 1454.76 Q111.802 1451.19 108.168 1451.19 M108.168 1447.49 Q113.978 1447.49 117.033 1452.09 Q120.112 1456.68 120.112 1465.43 Q120.112 1474.15 117.033 1478.76 Q113.978 1483.34 108.168 1483.34 Q102.358 1483.34 99.2789 1478.76 Q96.2234 1474.15 96.2234 1465.43 Q96.2234 1456.68 99.2789 1452.09 Q102.358 1447.49 108.168 1447.49 Z\" fill=\"#000000\" fill-rule=\"nonzero\" fill-opacity=\"1\" /><path clip-path=\"url(#clip120)\" d=\"M138.33 1451.19 Q134.719 1451.19 132.89 1454.76 Q131.084 1458.3 131.084 1465.43 Q131.084 1472.53 132.89 1476.1 Q134.719 1479.64 138.33 1479.64 Q141.964 1479.64 143.769 1476.1 Q145.598 1472.53 145.598 1465.43 Q145.598 1458.3 143.769 1454.76 Q141.964 1451.19 138.33 1451.19 M138.33 1447.49 Q144.14 1447.49 147.195 1452.09 Q150.274 1456.68 150.274 1465.43 Q150.274 1474.15 147.195 1478.76 Q144.14 1483.34 138.33 1483.34 Q132.519 1483.34 129.441 1478.76 Q126.385 1474.15 126.385 1465.43 Q126.385 1456.68 129.441 1452.09 Q132.519 1447.49 138.33 1447.49 Z\" fill=\"#000000\" fill-rule=\"nonzero\" fill-opacity=\"1\" /><path clip-path=\"url(#clip120)\" d=\"M63.9319 1199.32 Q60.3208 1199.32 58.4921 1202.89 Q56.6865 1206.43 56.6865 1213.56 Q56.6865 1220.66 58.4921 1224.23 Q60.3208 1227.77 63.9319 1227.77 Q67.5661 1227.77 69.3717 1224.23 Q71.2004 1220.66 71.2004 1213.56 Q71.2004 1206.43 69.3717 1202.89 Q67.5661 1199.32 63.9319 1199.32 M63.9319 1195.62 Q69.742 1195.62 72.7976 1200.22 Q75.8763 1204.81 75.8763 1213.56 Q75.8763 1222.28 72.7976 1226.89 Q69.742 1231.47 63.9319 1231.47 Q58.1217 1231.47 55.043 1226.89 Q51.9875 1222.28 51.9875 1213.56 Q51.9875 1204.81 55.043 1200.22 Q58.1217 1195.62 63.9319 1195.62 Z\" fill=\"#000000\" fill-rule=\"nonzero\" fill-opacity=\"1\" /><path clip-path=\"url(#clip120)\" d=\"M84.0938 1224.92 L88.978 1224.92 L88.978 1230.8 L84.0938 1230.8 L84.0938 1224.92 Z\" fill=\"#000000\" fill-rule=\"nonzero\" fill-opacity=\"1\" /><path clip-path=\"url(#clip120)\" d=\"M109.163 1199.32 Q105.552 1199.32 103.723 1202.89 Q101.918 1206.43 101.918 1213.56 Q101.918 1220.66 103.723 1224.23 Q105.552 1227.77 109.163 1227.77 Q112.797 1227.77 114.603 1224.23 Q116.432 1220.66 116.432 1213.56 Q116.432 1206.43 114.603 1202.89 Q112.797 1199.32 109.163 1199.32 M109.163 1195.62 Q114.973 1195.62 118.029 1200.22 Q121.107 1204.81 121.107 1213.56 Q121.107 1222.28 118.029 1226.89 Q114.973 1231.47 109.163 1231.47 Q103.353 1231.47 100.274 1226.89 Q97.2187 1222.28 97.2187 1213.56 Q97.2187 1204.81 100.274 1200.22 Q103.353 1195.62 109.163 1195.62 Z\" fill=\"#000000\" fill-rule=\"nonzero\" fill-opacity=\"1\" /><path clip-path=\"url(#clip120)\" d=\"M129.371 1196.24 L147.728 1196.24 L147.728 1200.18 L133.654 1200.18 L133.654 1208.65 Q134.672 1208.3 135.691 1208.14 Q136.709 1207.96 137.728 1207.96 Q143.515 1207.96 146.894 1211.13 Q150.274 1214.3 150.274 1219.71 Q150.274 1225.29 146.802 1228.4 Q143.33 1231.47 137.01 1231.47 Q134.834 1231.47 132.566 1231.1 Q130.32 1230.73 127.913 1229.99 L127.913 1225.29 Q129.996 1226.43 132.219 1226.98 Q134.441 1227.54 136.918 1227.54 Q140.922 1227.54 143.26 1225.43 Q145.598 1223.33 145.598 1219.71 Q145.598 1216.1 143.26 1214 Q140.922 1211.89 136.918 1211.89 Q135.043 1211.89 133.168 1212.31 Q131.316 1212.72 129.371 1213.6 L129.371 1196.24 Z\" fill=\"#000000\" fill-rule=\"nonzero\" fill-opacity=\"1\" /><path clip-path=\"url(#clip120)\" d=\"M62.9365 947.451 Q59.3254 947.451 57.4967 951.016 Q55.6912 954.557 55.6912 961.687 Q55.6912 968.793 57.4967 972.358 Q59.3254 975.9 62.9365 975.9 Q66.5707 975.9 68.3763 972.358 Q70.205 968.793 70.205 961.687 Q70.205 954.557 68.3763 951.016 Q66.5707 947.451 62.9365 947.451 M62.9365 943.747 Q68.7467 943.747 71.8022 948.354 Q74.8809 952.937 74.8809 961.687 Q74.8809 970.414 71.8022 975.02 Q68.7467 979.603 62.9365 979.603 Q57.1264 979.603 54.0477 975.02 Q50.9921 970.414 50.9921 961.687 Q50.9921 952.937 54.0477 948.354 Q57.1264 943.747 62.9365 943.747 Z\" fill=\"#000000\" fill-rule=\"nonzero\" fill-opacity=\"1\" /><path clip-path=\"url(#clip120)\" d=\"M83.0984 973.052 L87.9827 973.052 L87.9827 978.932 L83.0984 978.932 L83.0984 973.052 Z\" fill=\"#000000\" fill-rule=\"nonzero\" fill-opacity=\"1\" /><path clip-path=\"url(#clip120)\" d=\"M98.978 974.997 L106.617 974.997 L106.617 948.631 L98.3067 950.298 L98.3067 946.039 L106.571 944.372 L111.246 944.372 L111.246 974.997 L118.885 974.997 L118.885 978.932 L98.978 978.932 L98.978 974.997 Z\" fill=\"#000000\" fill-rule=\"nonzero\" fill-opacity=\"1\" /><path clip-path=\"url(#clip120)\" d=\"M138.33 947.451 Q134.719 947.451 132.89 951.016 Q131.084 954.557 131.084 961.687 Q131.084 968.793 132.89 972.358 Q134.719 975.9 138.33 975.9 Q141.964 975.9 143.769 972.358 Q145.598 968.793 145.598 961.687 Q145.598 954.557 143.769 951.016 Q141.964 947.451 138.33 947.451 M138.33 943.747 Q144.14 943.747 147.195 948.354 Q150.274 952.937 150.274 961.687 Q150.274 970.414 147.195 975.02 Q144.14 979.603 138.33 979.603 Q132.519 979.603 129.441 975.02 Q126.385 970.414 126.385 961.687 Q126.385 952.937 129.441 948.354 Q132.519 943.747 138.33 943.747 Z\" fill=\"#000000\" fill-rule=\"nonzero\" fill-opacity=\"1\" /><path clip-path=\"url(#clip120)\" d=\"M63.9319 695.58 Q60.3208 695.58 58.4921 699.145 Q56.6865 702.687 56.6865 709.816 Q56.6865 716.923 58.4921 720.488 Q60.3208 724.029 63.9319 724.029 Q67.5661 724.029 69.3717 720.488 Q71.2004 716.923 71.2004 709.816 Q71.2004 702.687 69.3717 699.145 Q67.5661 695.58 63.9319 695.58 M63.9319 691.877 Q69.742 691.877 72.7976 696.483 Q75.8763 701.066 75.8763 709.816 Q75.8763 718.543 72.7976 723.15 Q69.742 727.733 63.9319 727.733 Q58.1217 727.733 55.043 723.15 Q51.9875 718.543 51.9875 709.816 Q51.9875 701.066 55.043 696.483 Q58.1217 691.877 63.9319 691.877 Z\" fill=\"#000000\" fill-rule=\"nonzero\" fill-opacity=\"1\" /><path clip-path=\"url(#clip120)\" d=\"M84.0938 721.182 L88.978 721.182 L88.978 727.062 L84.0938 727.062 L84.0938 721.182 Z\" fill=\"#000000\" fill-rule=\"nonzero\" fill-opacity=\"1\" /><path clip-path=\"url(#clip120)\" d=\"M99.9733 723.126 L107.612 723.126 L107.612 696.761 L99.3021 698.427 L99.3021 694.168 L107.566 692.502 L112.242 692.502 L112.242 723.126 L119.881 723.126 L119.881 727.062 L99.9733 727.062 L99.9733 723.126 Z\" fill=\"#000000\" fill-rule=\"nonzero\" fill-opacity=\"1\" /><path clip-path=\"url(#clip120)\" d=\"M129.371 692.502 L147.728 692.502 L147.728 696.437 L133.654 696.437 L133.654 704.909 Q134.672 704.562 135.691 704.4 Q136.709 704.214 137.728 704.214 Q143.515 704.214 146.894 707.386 Q150.274 710.557 150.274 715.974 Q150.274 721.552 146.802 724.654 Q143.33 727.733 137.01 727.733 Q134.834 727.733 132.566 727.362 Q130.32 726.992 127.913 726.251 L127.913 721.552 Q129.996 722.687 132.219 723.242 Q134.441 723.798 136.918 723.798 Q140.922 723.798 143.26 721.691 Q145.598 719.585 145.598 715.974 Q145.598 712.363 143.26 710.256 Q140.922 708.15 136.918 708.15 Q135.043 708.15 133.168 708.566 Q131.316 708.983 129.371 709.863 L129.371 692.502 Z\" fill=\"#000000\" fill-rule=\"nonzero\" fill-opacity=\"1\" /><path clip-path=\"url(#clip120)\" d=\"M62.9365 443.71 Q59.3254 443.71 57.4967 447.275 Q55.6912 450.816 55.6912 457.946 Q55.6912 465.052 57.4967 468.617 Q59.3254 472.159 62.9365 472.159 Q66.5707 472.159 68.3763 468.617 Q70.205 465.052 70.205 457.946 Q70.205 450.816 68.3763 447.275 Q66.5707 443.71 62.9365 443.71 M62.9365 440.006 Q68.7467 440.006 71.8022 444.613 Q74.8809 449.196 74.8809 457.946 Q74.8809 466.673 71.8022 471.279 Q68.7467 475.862 62.9365 475.862 Q57.1264 475.862 54.0477 471.279 Q50.9921 466.673 50.9921 457.946 Q50.9921 449.196 54.0477 444.613 Q57.1264 440.006 62.9365 440.006 Z\" fill=\"#000000\" fill-rule=\"nonzero\" fill-opacity=\"1\" /><path clip-path=\"url(#clip120)\" d=\"M83.0984 469.311 L87.9827 469.311 L87.9827 475.191 L83.0984 475.191 L83.0984 469.311 Z\" fill=\"#000000\" fill-rule=\"nonzero\" fill-opacity=\"1\" /><path clip-path=\"url(#clip120)\" d=\"M102.196 471.256 L118.515 471.256 L118.515 475.191 L96.5706 475.191 L96.5706 471.256 Q99.2326 468.501 103.816 463.872 Q108.422 459.219 109.603 457.876 Q111.848 455.353 112.728 453.617 Q113.631 451.858 113.631 450.168 Q113.631 447.413 111.686 445.677 Q109.765 443.941 106.663 443.941 Q104.464 443.941 102.01 444.705 Q99.5798 445.469 96.8021 447.02 L96.8021 442.298 Q99.6261 441.163 102.08 440.585 Q104.534 440.006 106.571 440.006 Q111.941 440.006 115.135 442.691 Q118.33 445.376 118.33 449.867 Q118.33 451.997 117.52 453.918 Q116.733 455.816 114.626 458.409 Q114.047 459.08 110.946 462.298 Q107.844 465.492 102.196 471.256 Z\" fill=\"#000000\" fill-rule=\"nonzero\" fill-opacity=\"1\" /><path clip-path=\"url(#clip120)\" d=\"M138.33 443.71 Q134.719 443.71 132.89 447.275 Q131.084 450.816 131.084 457.946 Q131.084 465.052 132.89 468.617 Q134.719 472.159 138.33 472.159 Q141.964 472.159 143.769 468.617 Q145.598 465.052 145.598 457.946 Q145.598 450.816 143.769 447.275 Q141.964 443.71 138.33 443.71 M138.33 440.006 Q144.14 440.006 147.195 444.613 Q150.274 449.196 150.274 457.946 Q150.274 466.673 147.195 471.279 Q144.14 475.862 138.33 475.862 Q132.519 475.862 129.441 471.279 Q126.385 466.673 126.385 457.946 Q126.385 449.196 129.441 444.613 Q132.519 440.006 138.33 440.006 Z\" fill=\"#000000\" fill-rule=\"nonzero\" fill-opacity=\"1\" /><path clip-path=\"url(#clip120)\" d=\"M63.9319 191.839 Q60.3208 191.839 58.4921 195.404 Q56.6865 198.946 56.6865 206.075 Q56.6865 213.182 58.4921 216.747 Q60.3208 220.288 63.9319 220.288 Q67.5661 220.288 69.3717 216.747 Q71.2004 213.182 71.2004 206.075 Q71.2004 198.946 69.3717 195.404 Q67.5661 191.839 63.9319 191.839 M63.9319 188.136 Q69.742 188.136 72.7976 192.742 Q75.8763 197.325 75.8763 206.075 Q75.8763 214.802 72.7976 219.409 Q69.742 223.992 63.9319 223.992 Q58.1217 223.992 55.043 219.409 Q51.9875 214.802 51.9875 206.075 Q51.9875 197.325 55.043 192.742 Q58.1217 188.136 63.9319 188.136 Z\" fill=\"#000000\" fill-rule=\"nonzero\" fill-opacity=\"1\" /><path clip-path=\"url(#clip120)\" d=\"M84.0938 217.441 L88.978 217.441 L88.978 223.321 L84.0938 223.321 L84.0938 217.441 Z\" fill=\"#000000\" fill-rule=\"nonzero\" fill-opacity=\"1\" /><path clip-path=\"url(#clip120)\" d=\"M103.191 219.385 L119.51 219.385 L119.51 223.321 L97.566 223.321 L97.566 219.385 Q100.228 216.631 104.811 212.001 Q109.418 207.348 110.598 206.006 Q112.844 203.483 113.723 201.747 Q114.626 199.987 114.626 198.298 Q114.626 195.543 112.682 193.807 Q110.76 192.071 107.658 192.071 Q105.459 192.071 103.006 192.835 Q100.575 193.599 97.7974 195.149 L97.7974 190.427 Q100.621 189.293 103.075 188.714 Q105.529 188.136 107.566 188.136 Q112.936 188.136 116.131 190.821 Q119.325 193.506 119.325 197.997 Q119.325 200.126 118.515 202.048 Q117.728 203.946 115.621 206.538 Q115.043 207.21 111.941 210.427 Q108.839 213.622 103.191 219.385 Z\" fill=\"#000000\" fill-rule=\"nonzero\" fill-opacity=\"1\" /><path clip-path=\"url(#clip120)\" d=\"M129.371 188.761 L147.728 188.761 L147.728 192.696 L133.654 192.696 L133.654 201.168 Q134.672 200.821 135.691 200.659 Q136.709 200.473 137.728 200.473 Q143.515 200.473 146.894 203.645 Q150.274 206.816 150.274 212.233 Q150.274 217.811 146.802 220.913 Q143.33 223.992 137.01 223.992 Q134.834 223.992 132.566 223.621 Q130.32 223.251 127.913 222.51 L127.913 217.811 Q129.996 218.946 132.219 219.501 Q134.441 220.057 136.918 220.057 Q140.922 220.057 143.26 217.95 Q145.598 215.844 145.598 212.233 Q145.598 208.622 143.26 206.515 Q140.922 204.409 136.918 204.409 Q135.043 204.409 133.168 204.825 Q131.316 205.242 129.371 206.122 L129.371 188.761 Z\" fill=\"#000000\" fill-rule=\"nonzero\" fill-opacity=\"1\" /><circle clip-path=\"url(#clip122)\" cx=\"247.59\" cy=\"1445.72\" r=\"14.4\" fill=\"#009af9\" fill-rule=\"evenodd\" fill-opacity=\"1\" stroke=\"#000000\" stroke-opacity=\"1\" stroke-width=\"3.2\"/>\n",
       "<circle clip-path=\"url(#clip122)\" cx=\"484.577\" cy=\"1307.97\" r=\"14.4\" fill=\"#009af9\" fill-rule=\"evenodd\" fill-opacity=\"1\" stroke=\"#000000\" stroke-opacity=\"1\" stroke-width=\"3.2\"/>\n",
       "<circle clip-path=\"url(#clip122)\" cx=\"726.627\" cy=\"914.426\" r=\"14.4\" fill=\"#009af9\" fill-rule=\"evenodd\" fill-opacity=\"1\" stroke=\"#000000\" stroke-opacity=\"1\" stroke-width=\"3.2\"/>\n",
       "<circle clip-path=\"url(#clip122)\" cx=\"973.846\" cy=\"363.46\" r=\"14.4\" fill=\"#009af9\" fill-rule=\"evenodd\" fill-opacity=\"1\" stroke=\"#000000\" stroke-opacity=\"1\" stroke-width=\"3.2\"/>\n",
       "<circle clip-path=\"url(#clip122)\" cx=\"1226.35\" cy=\"87.9763\" r=\"14.4\" fill=\"#009af9\" fill-rule=\"evenodd\" fill-opacity=\"1\" stroke=\"#000000\" stroke-opacity=\"1\" stroke-width=\"3.2\"/>\n",
       "<circle clip-path=\"url(#clip122)\" cx=\"1484.24\" cy=\"363.46\" r=\"14.4\" fill=\"#009af9\" fill-rule=\"evenodd\" fill-opacity=\"1\" stroke=\"#000000\" stroke-opacity=\"1\" stroke-width=\"3.2\"/>\n",
       "<circle clip-path=\"url(#clip122)\" cx=\"1747.64\" cy=\"914.426\" r=\"14.4\" fill=\"#009af9\" fill-rule=\"evenodd\" fill-opacity=\"1\" stroke=\"#000000\" stroke-opacity=\"1\" stroke-width=\"3.2\"/>\n",
       "<circle clip-path=\"url(#clip122)\" cx=\"2016.67\" cy=\"1307.97\" r=\"14.4\" fill=\"#009af9\" fill-rule=\"evenodd\" fill-opacity=\"1\" stroke=\"#000000\" stroke-opacity=\"1\" stroke-width=\"3.2\"/>\n",
       "<circle clip-path=\"url(#clip122)\" cx=\"2291.44\" cy=\"1445.72\" r=\"14.4\" fill=\"#009af9\" fill-rule=\"evenodd\" fill-opacity=\"1\" stroke=\"#000000\" stroke-opacity=\"1\" stroke-width=\"3.2\"/>\n",
       "<path clip-path=\"url(#clip120)\" d=\"M2011.46 198.898 L2280.54 198.898 L2280.54 95.2176 L2011.46 95.2176  Z\" fill=\"#ffffff\" fill-rule=\"evenodd\" fill-opacity=\"1\"/>\n",
       "<polyline clip-path=\"url(#clip120)\" style=\"stroke:#000000; stroke-linecap:round; stroke-linejoin:round; stroke-width:4; stroke-opacity:1; fill:none\" points=\"2011.46,198.898 2280.54,198.898 2280.54,95.2176 2011.46,95.2176 2011.46,198.898 \"/>\n",
       "<circle clip-path=\"url(#clip120)\" cx=\"2107.75\" cy=\"147.058\" r=\"20.48\" fill=\"#009af9\" fill-rule=\"evenodd\" fill-opacity=\"1\" stroke=\"#000000\" stroke-opacity=\"1\" stroke-width=\"4.55111\"/>\n",
       "<path clip-path=\"url(#clip120)\" d=\"M2217.88 166.745 Q2216.07 171.375 2214.36 172.787 Q2212.65 174.199 2209.78 174.199 L2206.38 174.199 L2206.38 170.634 L2208.88 170.634 Q2210.63 170.634 2211.61 169.8 Q2212.58 168.967 2213.76 165.865 L2214.52 163.921 L2204.04 138.412 L2208.55 138.412 L2216.65 158.689 L2224.76 138.412 L2229.27 138.412 L2217.88 166.745 Z\" fill=\"#000000\" fill-rule=\"nonzero\" fill-opacity=\"1\" /><path clip-path=\"url(#clip120)\" d=\"M2236.56 160.402 L2244.2 160.402 L2244.2 134.037 L2235.89 135.703 L2235.89 131.444 L2244.15 129.778 L2248.83 129.778 L2248.83 160.402 L2256.47 160.402 L2256.47 164.338 L2236.56 164.338 L2236.56 160.402 Z\" fill=\"#000000\" fill-rule=\"nonzero\" fill-opacity=\"1\" /></svg>\n"
      ],
      "text/html": [
       "<img src=\"data:image/png;base64,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\" />"
      ]
     },
     "metadata": {},
     "output_type": "display_data"
    }
   ],
   "source": [
    "let\n",
    "\n",
    "   density(data_array_at_level[:,1])\n",
    "   scatter(data_array_at_level[:,1], data_array_at_level[:,2])\n",
    "    \n",
    "\n",
    "end"
   ]
  },
  {
   "cell_type": "markdown",
   "id": "8ecdc6a6",
   "metadata": {},
   "source": [
    "## Disclaimer and Risks\n",
    "__This content is offered solely for training and informational purposes__. No offer or solicitation to buy or sell securities or derivative products, or any investment or trading advice or strategy, is made, given, or endorsed by the teaching team. \n",
    "\n",
    "__Trading involves risk__. Carefully review your financial situation before investing in securities, futures contracts, options, or commodity interests. Past performance, whether actual or indicated by historical tests of strategies, is no guarantee of future performance or success. Trading is generally inappropriate for someone with limited resources, investment or trading experience, or a low-risk tolerance. Only risk capital that is not required for living expenses should be used.\n",
    "\n",
    "__You are fully responsible for any investment or trading decisions you make__. Such decisions should be based solely on evaluating your financial circumstances, investment or trading objectives, risk tolerance, and liquidity needs."
   ]
  }
 ],
 "metadata": {
  "kernelspec": {
   "display_name": "Julia 1.11.7",
   "language": "julia",
   "name": "julia-1.11"
  },
  "language_info": {
   "file_extension": ".jl",
   "mimetype": "application/julia",
   "name": "julia",
   "version": "1.11.7"
  }
 },
 "nbformat": 4,
 "nbformat_minor": 5
}
