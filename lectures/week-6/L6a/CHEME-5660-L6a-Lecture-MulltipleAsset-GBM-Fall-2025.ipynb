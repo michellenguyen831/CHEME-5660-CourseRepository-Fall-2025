{
 "cells": [
  {
   "cell_type": "markdown",
   "id": "61c159bd",
   "metadata": {},
   "source": [
    "# L6a: Multiple Asset Geometric Brownian Motion (MAGBM) Model\n",
    "In this lecture, we will extend our single asset geometric Brownian motion (SAGBM) model to multiple assets. We will also develop expressions for trade entry and exit rules based on the net present value (NPV) of a trade.\n",
    "\n",
    "> __Learning Objectives:__\n",
    "> \n",
    "> Fill me in later.\n",
    "\n",
    "This is going to be fun, so let's get started!\n",
    "___"
   ]
  },
  {
   "cell_type": "markdown",
   "id": "097c2116",
   "metadata": {},
   "source": [
    "## Multiple Asset Geometric Brownian Motion (MAGBM) Model\n",
    "Consider an equity portfolio $\\mathcal{P}$ with an annualized return covariance matrix $\\mathbf{\\Sigma}$ and drift vector $\\mathbf{\\mu}$. A multi-asset geometric Brownian motion model describing the share price $S_{i}(t)$ for asset $i\\in\\mathcal{P}$ is given by: \n",
    "$$\n",
    "\\begin{equation*}\n",
    "\\frac{dS_{i}\\left(t\\right)}{S_{i}(t)} = \\mu_{i}\\,{dt}+\\sum_{j\\in\\mathcal{P}}a_{ij}\\cdot{dW_{j}(t)}\\qquad\\text{for}\\quad{i\\in\\mathcal{P}}\n",
    "\\end{equation*}\n",
    "$$\n",
    "where $a_{ij}\\in\\mathbf{A}$ and $\\mathbf{A}\\mathbf{A}^{\\top} = \\mathbf{\\Sigma}$, and $\\mu_{i}$ denotes the drift parameter for asset $i$. \n",
    "The multi-asset geometric Brownian model has the solution $S_{i}(t_{k})$ at time $t_{k}$ given by:\n",
    "$$\n",
    "\\begin{equation*}\n",
    "S_{i}(t_{k}) = S_{i}(t_{k-1})\\cdot\\exp\\Biggl[\\left(\\mu_{i}-\\frac{\\sigma_{i}^{2}}{2}\\right)\\cdot\\Delta{t} + \\sqrt{\\Delta{t}}\\cdot\\sum_{j\\in\\mathcal{P}}a_{ij}\\cdot{Z_{j}}\\Biggr]\\quad{i\\in\\mathcal{P}}\n",
    "\\end{equation*}\n",
    "$$\n",
    "where $S_{i}(t_{k-1})$ is the share price of asset $i\\in\\mathcal{P}$ at time $t_{k-1}$,  $\\Delta{t} = t_{k} - t_{k-1}$ is the time-step size (fixed), and $Z_{j}\\sim\\mathcal{N}(0,1)$. \n",
    "\n",
    "Let's dig into this a bit more, starting with the covariance matrix $\\mathbf{\\Sigma}$.\n",
    "\n",
    "___"
   ]
  },
  {
   "cell_type": "markdown",
   "id": "d88d4b89",
   "metadata": {},
   "source": [
    "## Empirical Covariance Matrix\n",
    "The covariance matrix is a key concept in statistics and machine learning that describes the relationships between different features in a dataset. \n",
    "Suppose we have a dataset $\\mathcal{D} = \\left\\{\\mathbf{x}_{1},\\mathbf{x}_{2},\\dots,\\mathbf{x}_{n}\\right\\}$ where $\\mathbf{x}_{i}\\in\\mathbb{R}^{m}$. \n",
    "The empirical covariance matrix $\\hat{\\mathbf{\\Sigma}}\\in\\mathbb{R}^{m\\times{m}}$ is a square symmetric matrix whose eigenvalues and eigenvectors have some _magical properties_.\n",
    "\n",
    "Let $x_k^{(i)}$ be the value of feature $i$ on sample $k$.  Collect these into the vector $\\mathbf{x}^{(i)}=[x_1^{(i)},\\dots,x_n^{(i)}]^\\top$. Then, the covariance between feature(s) $i$ and $j$ is given by: \n",
    "$$\n",
    "\\begin{align*}\n",
    "    \\hat{\\Sigma}_{ij} &= \\frac{1}{n-1}\\sum_{k=1}^{n}\\bigl(x^{(i)}_k-\\bar{x}_i\\bigr)\\,\\bigl(x^{(j)}_k-\\bar{x}_j\\bigr) \\quad\\Longrightarrow\\quad\n",
    "\\hat\\Sigma_{ij}=\\sigma_i\\,\\sigma_j\\,\\rho_{ij}\\\\\n",
    "\\end{align*}\n",
    "$$\n",
    "where $\\mathbf{x}^{(\\star)}$ denotes the $n$ samples for feature $\\star$ in the dataset $\\mathcal{D}$, the mean $\\bar{x}_\\star$ is the average of feature $\\star$ across all samples, i.e., $\\bar{x}_\\star = \\frac{1}{n}\\sum_{k=1}^{n}x_k^{(\\star)}$, the terms $\\sigma_{\\star}$ denotes the standard deviation computed over the $n$ samples for feature $\\star$ in the dataset $\\mathcal{D}$, and $\\rho_{ij}\\in\\left[-1,1\\right]$ denotes the correlation between features $i$ and $j$ in the dataset $\\mathcal{D}$. But where does this come from? Let's break it down a bit more. Starting with the definition of the covariance between features $i$ and $j$:\n",
    "$$\n",
    "\\begin{align*}\n",
    "\\hat{\\Sigma}_{ij} &= \\frac{1}{n-1}\\sum_{k=1}^{n}\\overbrace{\\bigl(x^{(i)}_k-\\bar{x}_i\\bigr)}^{\\text{distance from mean}}\\,\\bigl(x^{(j)}_k-\\bar{x}_j\\bigr)\\\\\n",
    "\\sigma_i^2 & = \\hat\\Sigma_{ii}=\\frac{1}{n-1}\\sum_{k=1}^{n}(x_k^{(i)}-\\bar x_i)^2,\\quad\\sigma_j^2=\\hat\\Sigma_{jj} = \\frac{1}{n-1}\\sum_{k=1}^{n}(x_k^{(j)}-\\bar x_j)^2\\\\\n",
    "\\rho_{ij} &= \\frac{\\displaystyle\n",
    "  \\overbrace{\\frac{1}{n-1}\\sum_{k=1}^n\\bigl(x^{(i)}_k-\\bar{x}_i\\bigr)\\,\\bigl(x^{(j)}_k-\\bar{x}_j\\bigr)}^{\\hat\\Sigma_{ij}}}{\n",
    "  \\underbrace{\\sqrt{\\frac{1}{n-1}\\sum_{k=1}^n\\bigl(x^{(i)}_k-\\bar{x}_i\\bigr)^2}}_{\\sigma_i}\n",
    "  \\;\\underbrace{\\sqrt{\\frac{1}{n-1}\\sum_{k=1}^n\\bigl(x^{(j)}_k-\\bar{x}_j\\bigr)^2}}_{\\sigma_j}\n",
    "} = \\frac{\\hat\\Sigma_{ij}}{\\sigma_i\\,\\sigma_j}  \\quad\\Longrightarrow\\quad \\hat\\Sigma_{ij} = \\sigma_i\\,\\sigma_j\\,\\rho_{ij}\\quad\\blacksquare\n",
    "\\end{align*}\n",
    "$$ \n",
    "\n",
    "However, computing the correlation $\\rho_{ij}$ is not necessary to compute the covariance matrix $\\hat{\\mathbf{\\Sigma}}$.  We can compute the covariance matrix directly from the centered feature vectors $\\tilde{\\mathbf{x}}^{(i)} = \\mathbf{x}^{(i)} - \\bar{x}_i\\mathbf{1}$ where $\\bar{x}_i$ is the mean (scalar) of feature $i$ (across all samples) and $\\mathbf{1}$ is a vector of ones. The empirical covariance matrix is then given by:\n",
    "$$\n",
    "\\hat{\\mathbf{\\Sigma}} = \\left(\\frac{1}{n-1}\\right)\\;\\tilde{\\mathbf{X}}^{\\top}\\tilde{\\mathbf{X}}\n",
    "$$\n",
    "where $\\tilde{\\mathbf{X}} = [\\tilde{\\mathbf{x}}^{(1)},\\dots,\\tilde{\\mathbf{x}}^{(m)}]\\in\\mathbb{R}^{n\\times m}$ is the matrix of centered feature vectors (samples on the rows, features on the columns), and $\\tilde{\\mathbf{X}}^\\top$ is the transpose of the matrix of centered feature vectors.\n",
    "\n",
    "The covariance matrix $\\hat{\\mathbf{\\Sigma}}$ has the following (interesting) properties:\n",
    "\n",
    "* _Elements_: The diagonal elements of the covariance matrix $\\hat{\\Sigma}_{ii}\\in\\hat{\\mathbf{\\Sigma}}$ are the variances of feature $i$ (non-negative),\n",
    "while the off-diagonal elements $\\hat{\\Sigma}_{ij}\\in\\hat{\\mathbf{\\Sigma}}$ for $i\\neq{j}$ measure the relationship between feature(s) $i$ and $j$ in the dataset $\\mathcal{D}$. The sign and magnitude of the covariance $\\hat{\\Sigma}_{ij}$ indicate the strength and direction of the linear relationship between features $i$ and $j$.\n",
    "* _Positive, negative of no relationship?_: The sign of the off-diagonal covariance elements $\\hat{\\Sigma}_{ij}\\in\\hat{\\mathbf{\\Sigma}}$ indicates whether features $i$ and $j$ are positively or negatively correlated, or they are uncorrelated. If $\\hat{\\Sigma}_{ij} > 0$, then features $i$ and $j$ are positively correlated, meaning that as one feature increases, the other feature also tends to increase. If $\\hat{\\Sigma}_{ij} < 0$, then features $i$ and $j$ are negatively correlated, meaning that as one feature increases, the other feature tends to decrease. If $\\hat{\\Sigma}_{ij} = 0$, then features $i$ and $j$ are uncorrelated, meaning that there is no linear relationship between the two features.\n",
    "* _Symmetry_: The covariance matrix $\\hat{\\mathbf{\\Sigma}}$ is symmetric, meaning that $\\hat{\\Sigma}_{ij} = \\hat{\\Sigma}_{ji}$ for all $i$ and $j$. This is because the covariance between features $i$ and $j$ is the same as the covariance between features $j$ and $i$."
   ]
  },
  {
   "cell_type": "markdown",
   "id": "01bb3d76",
   "metadata": {},
   "source": [
    "## Disclaimer and Risks\n",
    "__This content is offered solely for training and informational purposes__. No offer or solicitation to buy or sell securities or derivative products or any investment or trading advice or strategy is made, given, or endorsed by the teaching team. \n",
    "\n",
    "__Trading involves risk__. Carefully review your financial situation before investing in securities, futures contracts, options, or commodity interests. Past performance, whether actual or indicated by historical tests of strategies, is no guarantee of future performance or success. Trading is generally inappropriate for someone with limited resources, investment or trading experience, or a low-risk tolerance. Only risk capital that is not required for living expenses should be used.\n",
    "\n",
    "__You are fully responsible for any investment or trading decisions you make__. Such decisions should be based solely on evaluating your financial circumstances, investment or trading objectives, risk tolerance, and liquidity needs.\n",
    "\n",
    "___"
   ]
  }
 ],
 "metadata": {
  "language_info": {
   "name": "python"
  }
 },
 "nbformat": 4,
 "nbformat_minor": 5
}
