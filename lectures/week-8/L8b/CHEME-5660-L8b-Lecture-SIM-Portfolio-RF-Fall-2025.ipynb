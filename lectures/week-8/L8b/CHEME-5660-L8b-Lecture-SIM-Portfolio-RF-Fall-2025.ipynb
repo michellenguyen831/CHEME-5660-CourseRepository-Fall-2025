{
 "cells": [
  {
   "cell_type": "markdown",
   "id": "7f10c805",
   "metadata": {},
   "source": [
    "# L8b: Single Index Model Portfolio Optimization\n",
    "In this lecture, we will explore the Single Index Model (SIM) and its application in portfolio optimization. The SIM simplifies the analysis of asset returns by assuming that the returns of individual assets are influenced by a single common factor, typically the market return. Here, we'll look at using single index models to describe portfiolios composed of only risky assets and a combination of risky and risk-free assets.\n",
    "\n",
    "> __Learning Objectives:__\n",
    "> \n",
    "> By the end of this lecture, you should be able to:\n",
    "> \n",
    "> Three learning objectives goes here\n",
    "\n",
    "Let's get started!\n",
    "___"
   ]
  },
  {
   "cell_type": "markdown",
   "id": "0b2fe8aa",
   "metadata": {},
   "source": [
    "## Examples"
   ]
  },
  {
   "cell_type": "markdown",
   "id": "e1633e15",
   "metadata": {},
   "source": [
    "## Summary\n",
    "Single summary sentence goes here.\n",
    "\n",
    "> __Key Takeaways:__\n",
    ">\n",
    "> Three key takeaways goes here\n",
    "\n",
    "Single conclusion sentence goes here.\n",
    "___"
   ]
  },
  {
   "cell_type": "markdown",
   "id": "840610f7",
   "metadata": {},
   "source": [
    "## Disclaimer and Risks\n",
    "__This content is offered solely for training and informational purposes__. No offer or solicitation to buy or sell securities or derivative products or any investment or trading advice or strategy is made, given, or endorsed by the teaching team. \n",
    "\n",
    "__Trading involves risk__. Carefully review your financial situation before investing in securities, futures contracts, options, or commodity interests. Past performance, whether actual or indicated by historical tests of strategies, is no guarantee of future performance or success. Trading is generally inappropriate for someone with limited resources, investment or trading experience, or a low-risk tolerance. Only risk capital that is not required for living expenses should be used.\n",
    "\n",
    "__You are fully responsible for any investment or trading decisions you make__. Such decisions should be based solely on evaluating your financial circumstances, investment or trading objectives, risk tolerance, and liquidity needs.\n",
    "\n",
    "___"
   ]
  }
 ],
 "metadata": {
  "language_info": {
   "name": "python"
  }
 },
 "nbformat": 4,
 "nbformat_minor": 5
}
