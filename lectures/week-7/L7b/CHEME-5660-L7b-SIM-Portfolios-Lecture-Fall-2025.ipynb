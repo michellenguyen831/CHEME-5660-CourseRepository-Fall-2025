{
 "cells": [
  {
   "cell_type": "markdown",
   "id": "f282a53a-ef50-4f6e-a47e-5e36e5cd28a3",
   "metadata": {},
   "source": [
    "# L7a: Introduction to Single Index Models (SIMs) Portfolio Optimization\n",
    "Fill me in.\n",
    "\n",
    "> __Learning Objectives:__\n",
    ">\n",
    "> Fill me in\n",
    "\n",
    "This is going to be cool, let's get started!\n",
    "___"
   ]
  },
  {
   "cell_type": "markdown",
   "id": "cb917671",
   "metadata": {},
   "source": [
    "## Concept Review: Single Index Models (SIMs)\n",
    "Fill me in."
   ]
  },
  {
   "cell_type": "markdown",
   "id": "1420cb14",
   "metadata": {},
   "source": [
    "## Covariance Matrix Estimation Using Single Index Models (SIMs)\n",
    "Got it—let’s walk it like a story, then land the algebra cleanly.\n",
    "\n",
    "At each time $t$, every asset’s growth rate splits into three pieces:\n",
    "\n",
    "1. a constant tilt ($\\alpha_i$),\n",
    "2. a shared shove from the market ($\\beta_i,g_M^{(t)}$),\n",
    "3. a personal wobble ($\\epsilon_i^{(t)}$).\n",
    "\n",
    "So $g_i^{(t)}=\\alpha_i+\\beta_i,g_M^{(t)}+\\epsilon_i^{(t)}$. Covariance measures co-movement. Constants don’t co-move with anything, so $\\alpha_i$ will quietly exit the stage. What’s left is: how much of $g_i$ and $g_j$ move together because they both load on the same market shock, and how much they move together because their idiosyncratic wobbles happen to line up.\n",
    "\n",
    "The clean way to formalize that intuition is the law of total covariance—“within-market-state co-movement” plus “co-movement of their market-state means”:\n",
    "\n",
    "$\n",
    "\\mathrm{Cov}(g_i,g_j)\n",
    "=\\underbrace{\\mathbb{E}\\big[\\mathrm{Cov}(g_i,g_j\\mid g_M)\\big]}*{\\text{residual co-movement}}\n",
    "+\\underbrace{\\mathrm{Cov}\\big(\\mathbb{E}[g_i\\mid g_M],,\\mathbb{E}[g_j\\mid g_M]\\big)}*{\\text{market-driven co-movement}}.\n",
    "$\n",
    "\n",
    "* Conditional on $g_M$, the only randomness left is in $\\epsilon_i,\\epsilon_j$. Since constants drop, $\\mathbb{E}[g_i\\mid g_M]=\\alpha_i+\\beta_i g_M$, and $\\mathrm{Cov}(g_i,g_j\\mid g_M)=\\mathrm{Cov}(\\epsilon_i,\\epsilon_j\\mid g_M)$.\n",
    "* If we assume the standard single-index orthogonality $\\mathrm{Cov}(g_M,\\epsilon_i)=0$ (equivalently, $\\mathbb{E}[\\epsilon_i\\mid g_M]=0$), then the residual covariance does not depend on $g_M$, i.e. $\\mathrm{Cov}(\\epsilon_i,\\epsilon_j\\mid g_M)=\\mathrm{Cov}(\\epsilon_i,\\epsilon_j)$.\n",
    "* Meanwhile, the market-driven part is just the covariance of two linear functions of $g_M$:\n",
    "  $\n",
    "  \\mathrm{Cov}\\big(\\alpha_i+\\beta_i g_M,\\ \\alpha_j+\\beta_j g_M\\big)=\\beta_i\\beta_j,\\mathrm{Var}(g_M).\n",
    "  $\n",
    "\n",
    "Put those together:\n",
    "\n",
    "$\n",
    "\\boxed{\\ \\mathrm{Cov}(g_i,g_j)=\\mathrm{Cov}(\\epsilon_i,\\epsilon_j)+\\beta_i\\beta_j,\\mathrm{Var}(g_M)\\ }.\n",
    "$\n",
    "\n",
    "Now specialize to the common “idiosyncratic shocks are mutually uncorrelated” assumption,\n",
    "$\n",
    "\\mathrm{Cov}(\\epsilon_i,\\epsilon_j)=\n",
    "\\begin{cases}\n",
    "0,& i\\neq j,\\\n",
    "\\sigma_{\\epsilon,i}^2,& i=j,\n",
    "\\end{cases}\n",
    "\\quad\\text{and write }\\sigma_M^2=\\mathrm{Var}(g_M).\n",
    "$\n",
    "Then\n",
    "\n",
    "$\n",
    "\\boxed{\n",
    "\\mathrm{Cov}(g_i,g_j)=\n",
    "\\begin{cases}\n",
    "\\beta_i\\beta_j,\\sigma_M^2,& i\\neq j,[4pt]\n",
    "\\beta_i^2,\\sigma_M^2+\\sigma_{\\epsilon,i}^2,& i=j.\n",
    "\\end{cases}}\n",
    "$\n",
    "\n",
    "Vector form (paste-ready for your notes): let $\\boldsymbol\\beta=(\\beta_1,\\ldots,\\beta_n)^\\top$ and $D_\\epsilon=\\mathrm{diag}(\\sigma_{\\epsilon,1}^2,\\ldots,\\sigma_{\\epsilon,n}^2)$. Then\n",
    "\n",
    "$\n",
    "\\boxed{\\ \\Sigma_g=\\sigma_M^2,\\boldsymbol\\beta\\boldsymbol\\beta^\\top+D_\\epsilon\\ }.\n",
    "$\n",
    "\n",
    "If you want to allow residual cross-asset correlation, just replace $D_\\epsilon$ by a general positive semidefinite $\\Sigma_\\epsilon$:\n",
    "\n",
    "$\n",
    "\\boxed{\\ \\Sigma_g=\\sigma_M^2,\\boldsymbol\\beta\\boldsymbol\\beta^\\top+\\Sigma_\\epsilon\\ }.\n",
    "$\n",
    "\n",
    "That’s the whole picture: one low-rank market piece that ties everyone together, plus whatever cross-talk you permit in the residuals.\n",
    "\n"
   ]
  },
  {
   "cell_type": "markdown",
   "id": "49573859",
   "metadata": {},
   "source": [
    "## Single Index Model Portfolio Optimization\n",
    "Fill me in."
   ]
  },
  {
   "cell_type": "markdown",
   "id": "59e78f00",
   "metadata": {},
   "source": [
    "## Summary\n",
    "Fill me in.\n",
    "\n",
    "> __Key Takeaways:__\n",
    "> Fill me in\n",
    "\n",
    "Closing thoughts.\n",
    "___"
   ]
  },
  {
   "cell_type": "markdown",
   "id": "bfd217aa-fc94-4758-80b1-8a5d101c83be",
   "metadata": {},
   "source": [
    "## Disclaimer and Risks\n",
    "__This content is offered solely for training and informational purposes__. No offer or solicitation to buy or sell securities or derivative products or any investment or trading advice or strategy is made, given, or endorsed by the teaching team. \n",
    "\n",
    "__Trading involves risk__. Carefully review your financial situation before investing in securities, futures contracts, options, or commodity interests. Past performance, whether actual or indicated by historical tests of strategies, is no guarantee of future performance or success. Trading is generally inappropriate for someone with limited resources, investment or trading experience, or a low-risk tolerance.  Only risk capital that is not required for living expenses.\n",
    "\n",
    "__You are fully responsible for any investment or trading decisions you make__. Such decisions should be based solely on evaluating your financial circumstances, investment or trading objectives, risk tolerance, and liquidity needs.\n",
    "\n",
    "___"
   ]
  },
  {
   "cell_type": "markdown",
   "id": "89882d81",
   "metadata": {},
   "source": []
  }
 ],
 "metadata": {
  "kernelspec": {
   "display_name": "Julia 1.11.5",
   "language": "julia",
   "name": "julia-1.11"
  },
  "language_info": {
   "file_extension": ".jl",
   "mimetype": "application/julia",
   "name": "julia",
   "version": "1.11.5"
  }
 },
 "nbformat": 4,
 "nbformat_minor": 5
}
