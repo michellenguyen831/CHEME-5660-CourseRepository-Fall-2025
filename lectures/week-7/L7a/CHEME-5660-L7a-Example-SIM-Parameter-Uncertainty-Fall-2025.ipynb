{
 "cells": [
  {
   "cell_type": "markdown",
   "id": "6c7fb43c",
   "metadata": {},
   "source": [
    "# Example: Parameter Uncertainty in Single Index Models (SIMs)\n",
    "In this example, students will explore the question of parameter uncertainty in single index models. Single index models are widely used in finance to model the growth rate (return) of assets based on firm-specific factors and their relationship with a market index.\n",
    "\n",
    "> __Learning Objectives:__\n",
    ">\n",
    "> Fill me in\n",
    "\n",
    "Let's go!\n",
    "___"
   ]
  },
  {
   "cell_type": "markdown",
   "id": "9e1ad856",
   "metadata": {},
   "source": [
    "## Setup, Data, and Prerequisites\n",
    "First, we set up the computational environment by including the `Include.jl` file and loading any needed resources.\n",
    "\n",
    "> __Include:__ The [`include(...)` command](https://docs.julialang.org/en/v1/base/base/#include) evaluates the contents of the input source file, `Include.jl`, in the notebook's global scope. The `Include.jl` file sets paths, loads required external packages, etc. For additional information on functions and types used in this material, see the [Julia programming language documentation](https://docs.julialang.org/en/v1/). \n",
    "\n",
    "Let's set up our code environment:"
   ]
  },
  {
   "cell_type": "markdown",
   "id": "73d22eeb",
   "metadata": {},
   "source": [
    "## Task 1: Estimate Single Index Models for All Firms in our Dataset\n",
    "Fill me in."
   ]
  },
  {
   "cell_type": "markdown",
   "id": "c5e1f821",
   "metadata": {},
   "source": [
    "## Task 2: Compute R-Squared Values for Each Firm's SIM\n",
    "Fill me in."
   ]
  },
  {
   "cell_type": "markdown",
   "id": "1b444b00",
   "metadata": {},
   "source": [
    "## Task 3: Compute Parameter Uncertainty using Bootstrapping\n",
    "Fill me in."
   ]
  },
  {
   "cell_type": "markdown",
   "id": "554f11ab",
   "metadata": {},
   "source": [
    "## Disclaimer and Risks\n",
    "\n",
    "__This content is offered solely for training and informational purposes__. No offer or solicitation to buy or sell securities or derivative products or any investment or trading advice or strategy is made, given, or endorsed by the teaching team.\n",
    "\n",
    "__Trading involves risk__. Carefully review your financial situation before investing in securities, futures contracts, options, or commodity interests. Past performance, whether actual or indicated by historical tests of strategies, is no guarantee of future performance or success. Trading is generally inappropriate for someone with limited resources, investment or trading experience, or a low-risk tolerance. Only risk capital that is not required for living expenses.\n",
    "\n",
    "__You are fully responsible for any investment or trading decisions you make__. Such decisions should be based solely on evaluating your financial circumstances, investment or trading objectives, risk tolerance, and liquidity needs."
   ]
  },
  {
   "cell_type": "markdown",
   "id": "4c60aeaa",
   "metadata": {},
   "source": []
  }
 ],
 "metadata": {
  "language_info": {
   "name": "python"
  }
 },
 "nbformat": 4,
 "nbformat_minor": 5
}
