{
 "cells": [
  {
   "cell_type": "markdown",
   "id": "f282a53a-ef50-4f6e-a47e-5e36e5cd28a3",
   "metadata": {},
   "source": [
    "# L7a: Introduction to Single Index Models (SIMs) Portfolio Optimization\n",
    "Fill me in.\n",
    "\n",
    "> __Learning Objectives:__\n",
    ">\n",
    "> Fill me in\n",
    "\n",
    "This is going to be cool, let's get started!\n",
    "___"
   ]
  },
  {
   "cell_type": "markdown",
   "id": "cb917671",
   "metadata": {},
   "source": [
    "## Concept Review: Single Index Models (SIMs)\n",
    "Fill me in."
   ]
  },
  {
   "cell_type": "markdown",
   "id": "1420cb14",
   "metadata": {},
   "source": [
    "## Covariance Matrix Estimation Using Single Index Models (SIMs)\n",
    "Fill me in."
   ]
  },
  {
   "cell_type": "markdown",
   "id": "49573859",
   "metadata": {},
   "source": [
    "## Single Index Model Portfolio Optimization\n",
    "Fill me in."
   ]
  },
  {
   "cell_type": "markdown",
   "id": "59e78f00",
   "metadata": {},
   "source": [
    "## Summary\n",
    "Fill me in.\n",
    "\n",
    "> __Key Takeaways:__\n",
    "> Fill me in\n",
    "\n",
    "Closing thoughts.\n",
    "___"
   ]
  },
  {
   "cell_type": "markdown",
   "id": "bfd217aa-fc94-4758-80b1-8a5d101c83be",
   "metadata": {},
   "source": [
    "## Disclaimer and Risks\n",
    "__This content is offered solely for training and informational purposes__. No offer or solicitation to buy or sell securities or derivative products or any investment or trading advice or strategy is made, given, or endorsed by the teaching team. \n",
    "\n",
    "__Trading involves risk__. Carefully review your financial situation before investing in securities, futures contracts, options, or commodity interests. Past performance, whether actual or indicated by historical tests of strategies, is no guarantee of future performance or success. Trading is generally inappropriate for someone with limited resources, investment or trading experience, or a low-risk tolerance.  Only risk capital that is not required for living expenses.\n",
    "\n",
    "__You are fully responsible for any investment or trading decisions you make__. Such decisions should be based solely on evaluating your financial circumstances, investment or trading objectives, risk tolerance, and liquidity needs.\n",
    "\n",
    "___"
   ]
  },
  {
   "cell_type": "markdown",
   "id": "89882d81",
   "metadata": {},
   "source": []
  }
 ],
 "metadata": {
  "kernelspec": {
   "display_name": "Julia 1.11.5",
   "language": "julia",
   "name": "julia-1.11"
  },
  "language_info": {
   "file_extension": ".jl",
   "mimetype": "application/julia",
   "name": "julia",
   "version": "1.11.5"
  }
 },
 "nbformat": 4,
 "nbformat_minor": 5
}
