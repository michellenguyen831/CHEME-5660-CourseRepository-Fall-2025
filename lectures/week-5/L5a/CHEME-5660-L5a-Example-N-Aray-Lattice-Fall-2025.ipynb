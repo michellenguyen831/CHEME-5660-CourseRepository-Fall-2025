{
 "cells": [
  {
   "cell_type": "markdown",
   "id": "674c1299-b654-4b76-a488-203603829349",
   "metadata": {},
   "source": [
    "# Example: N-Ary Recombining Lattice Models\n",
    "Fill me in.\n",
    "\n",
    "___"
   ]
  },
  {
   "cell_type": "markdown",
   "id": "a60d7511-ead0-4147-974c-1e3261c12776",
   "metadata": {
    "vscode": {
     "languageId": "julia"
    }
   },
   "source": [
    "## Setup, Data, and Prerequisites\n",
    "First, we set up the computational environment by including the `Include.jl` file and loading any needed resources.\n",
    "\n",
    ">__Include:__ The [`include(...)` command](https://docs.julialang.org/en/v1/base/base/#include) evaluates the contents of the input source file, `Include.jl`, in the notebook's global scope. The `Include.jl` file sets paths, loads required external packages, etc. For additional information on functions and types used in this material, see the [Julia programming language documentation](https://docs.julialang.org/en/v1/). \n",
    "\n",
    "Let's set up our code environment:"
   ]
  },
  {
   "cell_type": "code",
   "execution_count": 1,
   "id": "a6dcacc3",
   "metadata": {},
   "outputs": [],
   "source": [
    "include(joinpath(@__DIR__, \"Include.jl\")); # include the Include.jl file"
   ]
  },
  {
   "cell_type": "markdown",
   "id": "de39a46e",
   "metadata": {},
   "source": [
    "For additional information on functions and types used in this material, see the [Julia programming language documentation](https://docs.julialang.org/en/v1/) and the [VLQuantitativeFinancePackage.jl documentation](https://github.com/varnerlab/VLQuantitativeFinancePackage.jl). "
   ]
  },
  {
   "cell_type": "markdown",
   "id": "6a89d94c",
   "metadata": {},
   "source": [
    "### Data\n",
    "We gathered daily open-high-low-close (OHLC) data for each firm in the [S&P500](https://en.wikipedia.org/wiki/S%26P_500) from `01-03-2014` until `12-31-2024`, along with data for a few exchange-traded funds and volatility products during that time period. \n",
    "\n",
    "Let's load the `original_dataset::DataFrame` by calling [the `MyTrainingMarketDataSet()` function](https://varnerlab.github.io/VLQuantitativeFinancePackage.jl/dev/data/#VLQuantitativeFinancePackage.MyTrainingMarketDataSet) and remove firms that do not have the maximum number of trading days. The cleaned dataset $\\mathcal{D}$ will be stored in the `dataset` variable."
   ]
  },
  {
   "cell_type": "code",
   "execution_count": 2,
   "id": "e72f2f44",
   "metadata": {},
   "outputs": [],
   "source": [
    "original_dataset = MyTrainingMarketDataSet() |> x-> x[\"dataset\"];"
   ]
  },
  {
   "cell_type": "markdown",
   "id": "99586311",
   "metadata": {},
   "source": [
    "Not all tickers in our dataset have the maximum number of trading days for various reasons, e.g., acquisition or delisting events. Let's collect only those tickers with the maximum number of trading days.\n",
    "\n",
    "First, let's compute the number of records for a firm that we know has the maximum value, e.g., `AAPL`, and save that value in the `maximum_number_trading_days::Int64` variable:"
   ]
  },
  {
   "cell_type": "code",
   "execution_count": 3,
   "id": "6c3e9c02",
   "metadata": {},
   "outputs": [
    {
     "data": {
      "text/plain": [
       "2767"
      ]
     },
     "metadata": {},
     "output_type": "display_data"
    }
   ],
   "source": [
    "maximum_number_trading_days = original_dataset[\"AAPL\"] |> nrow # nrow? (check out: DataFrames.jl)"
   ]
  },
  {
   "cell_type": "markdown",
   "id": "c6491a42",
   "metadata": {},
   "source": [
    "Now, let's iterate through our data and collect only tickers with `maximum_number_trading_days` records. We'll save that data in the `dataset::Dict{String,DataFrame}` variable:"
   ]
  },
  {
   "cell_type": "code",
   "execution_count": 4,
   "id": "40e81ee7",
   "metadata": {},
   "outputs": [],
   "source": [
    "dataset = let\n",
    "\n",
    "    # initialize -\n",
    "    dataset = Dict{String, DataFrame}();\n",
    "\n",
    "    # iterate through the dictionary; we can't guarantee a particular order\n",
    "    for (ticker, data) ∈ original_dataset  # we get each (K, V) pair!\n",
    "        if (nrow(data) == maximum_number_trading_days) # what is this doing?\n",
    "            dataset[ticker] = data;\n",
    "        end\n",
    "    end\n",
    "    dataset; # return\n",
    "end;"
   ]
  },
  {
   "cell_type": "markdown",
   "id": "a2aacf16",
   "metadata": {},
   "source": [
    "Finally, let's get a list of the firms in our cleaned dataset and sort them alphabetically. We store the sorted firm ticker symbols in the `list_of_tickers::Array{String,1}` variable."
   ]
  },
  {
   "cell_type": "code",
   "execution_count": 5,
   "id": "02f8c6f1",
   "metadata": {},
   "outputs": [
    {
     "data": {
      "text/plain": [
       "424-element Vector{String}:\n",
       " \"A\"\n",
       " \"AAL\"\n",
       " \"AAP\"\n",
       " \"AAPL\"\n",
       " \"ABBV\"\n",
       " \"ABT\"\n",
       " \"ACN\"\n",
       " \"ADBE\"\n",
       " \"ADI\"\n",
       " \"ADM\"\n",
       " ⋮\n",
       " \"WYNN\"\n",
       " \"XEL\"\n",
       " \"XOM\"\n",
       " \"XRAY\"\n",
       " \"XYL\"\n",
       " \"YUM\"\n",
       " \"ZBRA\"\n",
       " \"ZION\"\n",
       " \"ZTS\""
      ]
     },
     "metadata": {},
     "output_type": "display_data"
    }
   ],
   "source": [
    "list_of_tickers = keys(dataset) |> collect |> sort # list of firm \"ticker\" symbols in alphabetical order"
   ]
  },
  {
   "cell_type": "markdown",
   "id": "b133734b",
   "metadata": {},
   "source": [
    "### Constants\n",
    "Finally, let's set some constants we'll use later in this notebook. The comments describe the constants, their units, and permissible values."
   ]
  },
  {
   "cell_type": "code",
   "execution_count": null,
   "id": "28115102",
   "metadata": {},
   "outputs": [],
   "source": [
    "TSIM = 8; # number of trading days to simulate\n",
    "Δt = (1.0/252); # step size: 1 trading day in units of years\n",
    "r̄ = 0.05; # risk-free rate (annualized)\n",
    "n = 2; # number of branches in the N-ary lattice"
   ]
  },
  {
   "cell_type": "markdown",
   "id": "05c2cd26",
   "metadata": {},
   "source": [
    "Fill me in."
   ]
  },
  {
   "cell_type": "code",
   "execution_count": 7,
   "id": "2f289382",
   "metadata": {},
   "outputs": [
    {
     "data": {
      "text/plain": [
       "level_offset (generic function with 1 method)"
      ]
     },
     "metadata": {},
     "output_type": "display_data"
    }
   ],
   "source": [
    "nodes_at_level(i::Integer, n::Integer) = binomial(i + n - 1, i)\n",
    "level_offset(i::Integer, n::Integer) = i == 0 ? 0 : binomial(i + n - 1, i - 1) # start of level i"
   ]
  },
  {
   "cell_type": "markdown",
   "id": "8456faea",
   "metadata": {},
   "source": [
    "___"
   ]
  },
  {
   "cell_type": "markdown",
   "id": "85893309",
   "metadata": {},
   "source": [
    "## Task 1: Compute lattice parameters and future prices from historical data\n",
    "Fill me in."
   ]
  },
  {
   "cell_type": "code",
   "execution_count": 8,
   "id": "c21b6d23",
   "metadata": {},
   "outputs": [],
   "source": [
    "# random_firm_ticker = rand(list_of_tickers);\n",
    "random_firm_ticker = \"AAPL\"\n",
    "random_firm_index = findfirst(x-> x == random_firm_ticker, list_of_tickers);\n",
    "random_firm_data = dataset[random_firm_ticker];"
   ]
  },
  {
   "cell_type": "markdown",
   "id": "2d8ae89f",
   "metadata": {},
   "source": [
    "\n",
    "Next, we randomly specify the `start_index` as the trading day index in the dataset, which will serve as the tree's starting point or `L = 0`. Finally, we set the variable `Sₒ`, which corresponds to the initial price per share at the root of the tree; we use the [volume-weighted average price (VWAP)](https://en.wikipedia.org/wiki/Volume-weighted_average_price) as the initial condition:"
   ]
  },
  {
   "cell_type": "code",
   "execution_count": 9,
   "id": "c1e089e5",
   "metadata": {},
   "outputs": [
    {
     "name": "stdout",
     "output_type": "stream",
     "text": [
      "Visualize Firm-4 between trading days (1136 -> 1144)\n"
     ]
    }
   ],
   "source": [
    "start_index = rand(1:(maximum_number_trading_days - TSIM - 1))\n",
    "stop_index = start_index + TSIM\n",
    "println(\"Visualize Firm-$(random_firm_index) between trading days ($(start_index) -> $(stop_index))\")"
   ]
  },
  {
   "cell_type": "markdown",
   "id": "01afc727",
   "metadata": {},
   "source": [
    "Fill me in"
   ]
  },
  {
   "cell_type": "code",
   "execution_count": 10,
   "id": "1fe1b523",
   "metadata": {},
   "outputs": [
    {
     "data": {
      "text/plain": [
       "2766-element Vector{Float64}:\n",
       " -1.9954223478275546\n",
       "  0.15124876922831154\n",
       "  0.9224750663536962\n",
       " -1.4261203338251638\n",
       " -3.0008957287125435\n",
       "  1.5049147899343094\n",
       "  2.9156076155145367\n",
       "  6.502627170431676\n",
       " -1.2561327051214097\n",
       " -4.024741418592851\n",
       "  ⋮\n",
       " -2.325529514930973\n",
       " -0.7888121514647656\n",
       "  3.27667430452004\n",
       "  1.6089944655721826\n",
       "  2.6547619721872575\n",
       "  1.4556917537856608\n",
       " -3.6286559032528003\n",
       " -2.934268163874707\n",
       " -1.5398398549769603"
      ]
     },
     "metadata": {},
     "output_type": "display_data"
    }
   ],
   "source": [
    "log_growth_array = log_growth_matrix(dataset, random_firm_ticker) # array holding growth rate time series"
   ]
  },
  {
   "cell_type": "code",
   "execution_count": 11,
   "id": "b2339bfa",
   "metadata": {},
   "outputs": [],
   "source": [
    "result = build_nary_lattice_from_growth_rate(log_growth_array; n = n, dt = Δt, method = :equalwidth);"
   ]
  },
  {
   "cell_type": "code",
   "execution_count": 12,
   "id": "5f2cb573",
   "metadata": {},
   "outputs": [
    {
     "data": {
      "text/plain": [
       "(:edges, :avg_factor, :freq, :counts, :labels, :method, :dt, :N)"
      ]
     },
     "metadata": {},
     "output_type": "display_data"
    }
   ],
   "source": [
    "typeof(result) |> T-> fieldnames(T) # check out the fields of the returned struct"
   ]
  },
  {
   "cell_type": "code",
   "execution_count": 13,
   "id": "5b4536bb",
   "metadata": {},
   "outputs": [
    {
     "data": {
      "text/plain": [
       "7-element Vector{Float64}:\n",
       " 0.9300836130146076\n",
       " 0.9568933320775288\n",
       " 0.9813018182599933\n",
       " 1.0014819811236884\n",
       " 1.0206311663699725\n",
       " 1.04840834419366\n",
       " 1.076795419529746"
      ]
     },
     "metadata": {},
     "output_type": "display_data"
    }
   ],
   "source": [
    "result.avg_factor"
   ]
  },
  {
   "cell_type": "markdown",
   "id": "50c516a5",
   "metadata": {},
   "source": [
    "Fill me in."
   ]
  },
  {
   "cell_type": "code",
   "execution_count": 14,
   "id": "034e67ba",
   "metadata": {},
   "outputs": [
    {
     "data": {
      "text/plain": [
       "7-element Vector{Float64}:\n",
       " 0.0021691973969631237\n",
       " 0.013015184381778741\n",
       " 0.15112075198843095\n",
       " 0.6778741865509761\n",
       " 0.14461315979754158\n",
       " 0.009761388286334056\n",
       " 0.0014461315979754157"
      ]
     },
     "metadata": {},
     "output_type": "display_data"
    }
   ],
   "source": [
    "result.freq"
   ]
  },
  {
   "cell_type": "code",
   "execution_count": 15,
   "id": "5717ab2a",
   "metadata": {},
   "outputs": [
    {
     "name": "stdout",
     "output_type": "stream",
     "text": [
      "n-ary lattice (method=equalwidth, Δt=0.003968253968253968, N=2766)\n",
      "State μ-bin [low, high)               avg factor    freq      count\n",
      "S1    [-21.211458 , -15.080382)       0.930084      0.002169  6\n",
      "S2    [-15.080382 , -8.949305)        0.956893      0.013015  36\n",
      "S3    [-8.949305 , -2.818228)         0.981302      0.151121  418\n",
      "S4    [-2.818228 , 3.312848)          1.001482      0.677874  1875\n",
      "S5    [3.312848 , 9.443925)           1.020631      0.144613  400\n",
      "S6    [9.443925 , 15.575002)          1.048408      0.009761  27\n",
      "S7    [15.575002 , 21.706078]         1.076795      0.001446  4\n"
     ]
    }
   ],
   "source": [
    "print_lattice(result)"
   ]
  },
  {
   "cell_type": "code",
   "execution_count": 35,
   "id": "0d16c37f",
   "metadata": {},
   "outputs": [
    {
     "data": {
      "text/plain": [
       "                  \u001b[38;5;8m┌                                        ┐\u001b[0m \n",
       "   [-22.0, -20.0) \u001b[38;5;8m┤\u001b[0m\u001b[38;5;2m\u001b[0m\u001b[38;5;2m▎\u001b[0m 3                                     \u001b[38;5;8m \u001b[0m \u001b[38;5;8m\u001b[0m\n",
       "   [-20.0, -18.0) \u001b[38;5;8m┤\u001b[0m\u001b[38;5;2m\u001b[0m\u001b[38;5;2m \u001b[0m 0                                     \u001b[38;5;8m \u001b[0m \u001b[38;5;8m\u001b[0m\n",
       "   [-18.0, -16.0) \u001b[38;5;8m┤\u001b[0m\u001b[38;5;2m\u001b[0m\u001b[38;5;2m▏\u001b[0m 1                                     \u001b[38;5;8m \u001b[0m \u001b[38;5;8m\u001b[0m\n",
       "   [-16.0, -14.0) \u001b[38;5;8m┤\u001b[0m\u001b[38;5;2m\u001b[0m\u001b[38;5;2m▎\u001b[0m 3                                     \u001b[38;5;8m \u001b[0m \u001b[38;5;8m\u001b[0m\n",
       "   [-14.0, -12.0) \u001b[38;5;8m┤\u001b[0m\u001b[38;5;2m\u001b[0m\u001b[38;5;2m▌\u001b[0m 11                                    \u001b[38;5;8m \u001b[0m \u001b[38;5;8m\u001b[0m\n",
       "   [-12.0, -10.0) \u001b[38;5;8m┤\u001b[0m\u001b[38;5;2m\u001b[0m\u001b[38;5;2m▋\u001b[0m 13                                    \u001b[38;5;8m \u001b[0m \u001b[38;5;8m\u001b[0m\n",
       "   [-10.0,  -8.0) \u001b[38;5;8m┤\u001b[0m\u001b[38;5;2m█\u001b[0m\u001b[38;5;2m▍\u001b[0m 30                                   \u001b[38;5;8m \u001b[0m \u001b[38;5;8m\u001b[0m\n",
       "   [ -8.0,  -6.0) \u001b[38;5;8m┤\u001b[0m\u001b[38;5;2m███\u001b[0m\u001b[38;5;2m▍\u001b[0m 73                                 \u001b[38;5;8m \u001b[0m \u001b[38;5;8m\u001b[0m\n",
       "   [ -6.0,  -4.0) \u001b[38;5;8m┤\u001b[0m\u001b[38;5;2m███████\u001b[0m\u001b[38;5;2m▎\u001b[0m 159                            \u001b[38;5;8m \u001b[0m \u001b[38;5;8m\u001b[0m\n",
       "   [ -4.0,  -2.0) \u001b[38;5;8m┤\u001b[0m\u001b[38;5;2m█████████████\u001b[0m\u001b[38;5;2m▋\u001b[0m 300                      \u001b[38;5;8m \u001b[0m \u001b[38;5;8m\u001b[0m\n",
       "   [ -2.0,   0.0) \u001b[38;5;8m┤\u001b[0m\u001b[38;5;2m█████████████████████████████\u001b[0m\u001b[38;5;2m▍\u001b[0m 649      \u001b[38;5;8m \u001b[0m \u001b[38;5;8m\u001b[0m\n",
       "   [  0.0,   2.0) \u001b[38;5;8m┤\u001b[0m\u001b[38;5;2m███████████████████████████████████\u001b[0m\u001b[38;5;2m \u001b[0m 773\u001b[38;5;8m \u001b[0m \u001b[38;5;8m\u001b[0m\n",
       "   [  2.0,   4.0) \u001b[38;5;8m┤\u001b[0m\u001b[38;5;2m███████████████████\u001b[0m\u001b[38;5;2m▌\u001b[0m 431                \u001b[38;5;8m \u001b[0m \u001b[38;5;8m\u001b[0m\n",
       "   [  4.0,   6.0) \u001b[38;5;8m┤\u001b[0m\u001b[38;5;2m████████\u001b[0m\u001b[38;5;2m▊\u001b[0m 194                           \u001b[38;5;8m \u001b[0m \u001b[38;5;8m\u001b[0m\n",
       "   [  6.0,   8.0) \u001b[38;5;8m┤\u001b[0m\u001b[38;5;2m███\u001b[0m\u001b[38;5;2m▏\u001b[0m 67                                 \u001b[38;5;8m \u001b[0m \u001b[38;5;8m\u001b[0m\n",
       "   [  8.0,  10.0) \u001b[38;5;8m┤\u001b[0m\u001b[38;5;2m█\u001b[0m\u001b[38;5;2m▍\u001b[0m 30                                   \u001b[38;5;8m \u001b[0m \u001b[38;5;8m\u001b[0m\n",
       "   [ 10.0,  12.0) \u001b[38;5;8m┤\u001b[0m\u001b[38;5;2m\u001b[0m\u001b[38;5;2m▋\u001b[0m 14                                    \u001b[38;5;8m \u001b[0m \u001b[38;5;8m\u001b[0m\n",
       "   [ 12.0,  14.0) \u001b[38;5;8m┤\u001b[0m\u001b[38;5;2m\u001b[0m\u001b[38;5;2m▎\u001b[0m 5                                     \u001b[38;5;8m \u001b[0m \u001b[38;5;8m\u001b[0m\n",
       "   [ 14.0,  16.0) \u001b[38;5;8m┤\u001b[0m\u001b[38;5;2m\u001b[0m\u001b[38;5;2m▍\u001b[0m 7                                     \u001b[38;5;8m \u001b[0m \u001b[38;5;8m\u001b[0m\n",
       "   [ 16.0,  18.0) \u001b[38;5;8m┤\u001b[0m\u001b[38;5;2m\u001b[0m\u001b[38;5;2m▏\u001b[0m 1                                     \u001b[38;5;8m \u001b[0m \u001b[38;5;8m\u001b[0m\n",
       "   [ 18.0,  20.0) \u001b[38;5;8m┤\u001b[0m\u001b[38;5;2m\u001b[0m\u001b[38;5;2m▏\u001b[0m 1                                     \u001b[38;5;8m \u001b[0m \u001b[38;5;8m\u001b[0m\n",
       "   [ 20.0,  22.0) \u001b[38;5;8m┤\u001b[0m\u001b[38;5;2m\u001b[0m\u001b[38;5;2m▏\u001b[0m 1                                     \u001b[38;5;8m \u001b[0m \u001b[38;5;8m\u001b[0m\n",
       "                  \u001b[38;5;8m└                                        ┘\u001b[0m \n",
       "                                   Frequency                 "
      ]
     },
     "metadata": {},
     "output_type": "display_data"
    }
   ],
   "source": [
    "UnicodePlots.histogram(log_growth_array, nbins=21, closed=:left)"
   ]
  },
  {
   "cell_type": "markdown",
   "id": "0a59b62e",
   "metadata": {},
   "source": [
    "Fill me in."
   ]
  },
  {
   "cell_type": "code",
   "execution_count": 17,
   "id": "81facc54",
   "metadata": {},
   "outputs": [
    {
     "name": "stdout",
     "output_type": "stream",
     "text": [
      "Starting price: 47.555 USD for firm AAPL\n"
     ]
    }
   ],
   "source": [
    "my_nary_lattice_model = let\n",
    "\n",
    "    # initialize -\n",
    "    model = nothing;\n",
    "    Sₒ = random_firm_data[start_index,:volume_weighted_average_price];\n",
    "    Δ = result.avg_factor |> reverse; # average growth factors (up to down)\n",
    "\n",
    "    # build an empty model -\n",
    "    model = build(MyGeneralAdjacencyRecombiningCommodityPriceTree, (\n",
    "        n = n,\n",
    "        h = TSIM, # how many days to simulate \n",
    "    ));\n",
    "\n",
    "    # populate the data in the model -\n",
    "    model = populate(model, Sₒ, Δ);\n",
    "\n",
    "    # print -\n",
    "    println(\"Starting price: $(Sₒ) USD for firm $(random_firm_ticker)\");\n",
    "\n",
    "    model; # return\n",
    "end;"
   ]
  },
  {
   "cell_type": "markdown",
   "id": "75e83301",
   "metadata": {},
   "source": [
    "What's in the `my_nary_lattice_model::MyGeneralAdjacencyRecombiningCommodityPriceTree` instance?"
   ]
  },
  {
   "cell_type": "code",
   "execution_count": 18,
   "id": "c1b03bf7",
   "metadata": {},
   "outputs": [
    {
     "data": {
      "text/plain": [
       "(:data, :connectivity, :h, :n)"
      ]
     },
     "metadata": {},
     "output_type": "display_data"
    }
   ],
   "source": [
    "typeof(my_nary_lattice_model) |> T-> fieldnames(T) # check out the fields of the returned struct"
   ]
  },
  {
   "cell_type": "code",
   "execution_count": 19,
   "id": "e42f6b78",
   "metadata": {},
   "outputs": [
    {
     "data": {
      "text/plain": [
       "Dict{Int64, Vector{Int64}} with 6435 entries:\n",
       "  4986 => [8814, 8815, 8819, 8834, 8869, 9199, 9991]\n",
       "  4700 => [8383, 8384, 8387, 8393, 8403, 8418, 9705]\n",
       "  4576 => [8143, 8144, 8145, 8148, 8168, 8294, 9581]\n",
       "  6073 => [10668, 10669, 10670, 10680, 10700, 10826, 11078]\n",
       "  2288 => [4298, 4299, 4302, 4317, 4373, 4499, 5291]\n",
       "  1703 => [3383, 3384, 3386, 3389, 3393, 3398, 3419]\n",
       "  1956 => [3766, 3767, 3771, 3781, 3837, 4167, 4959]\n",
       "  2350 => [4400, 4401, 4405, 4415, 4435, 4561, 5353]\n",
       "  5975 => [10518, 10519, 10525, 10546, 10602, 10728, 10980]\n",
       "  3406 => [6353, 6354, 6357, 6363, 6373, 6388, 6409]\n",
       "  2841 => [5247, 5248, 5249, 5252, 5256, 5382, 5844]\n",
       "  2876 => [5306, 5307, 5309, 5312, 5347, 5417, 5879]\n",
       "  687  => [1450, 1451, 1454, 1460, 1470, 1485, 1611]\n",
       "  185  => [441, 442, 444, 447, 451, 521, 647]\n",
       "  1090 => [2177, 2178, 2180, 2183, 2218, 2344, 2806]\n",
       "  2015 => [3862, 3863, 3866, 3876, 3896, 4226, 5018]\n",
       "  3293 => [6100, 6101, 6105, 6115, 6135, 6170, 6296]\n",
       "  1704 => [3384, 3385, 3387, 3390, 3394, 3399, 3420]\n",
       "  3220 => [5962, 5963, 5964, 5965, 5966, 5971, 6223]\n",
       "  ⋮    => ⋮"
      ]
     },
     "metadata": {},
     "output_type": "display_data"
    }
   ],
   "source": [
    "my_nary_lattice_model.connectivity"
   ]
  },
  {
   "cell_type": "code",
   "execution_count": 20,
   "id": "6d1ed1b2",
   "metadata": {},
   "outputs": [
    {
     "data": {
      "text/plain": [
       "Dict{Int64, NamedTuple} with 6435 entries:\n",
       "  4986 => (price = 50.4881, path = [1, 2, 1, 0, 3, 0, 1])\n",
       "  4700 => (price = 40.1271, path = [0, 2, 0, 0, 0, 6, 0])\n",
       "  4576 => (price = 41.0721, path = [0, 0, 1, 2, 2, 3, 0])\n",
       "  6073 => (price = 39.1718, path = [0, 0, 3, 0, 2, 0, 3])\n",
       "  2288 => (price = 49.9304, path = [0, 2, 2, 1, 0, 2, 0])\n",
       "  1703 => (price = 36.6675, path = [1, 0, 0, 0, 0, 1, 4])\n",
       "  1956 => (price = 57.3439, path = [3, 0, 0, 2, 2, 0, 0])\n",
       "  2350 => (price = 48.3192, path = [0, 3, 0, 0, 2, 2, 0])\n",
       "  5975 => (price = 52.5077, path = [3, 2, 0, 0, 0, 0, 3])\n",
       "  3406 => (price = 36.3804, path = [0, 2, 0, 0, 0, 0, 5])\n",
       "  2841 => (price = 40.0554, path = [0, 0, 1, 0, 4, 1, 1])\n",
       "  2876 => (price = 42.6486, path = [0, 1, 0, 3, 0, 2, 1])\n",
       "  687  => (price = 46.9582, path = [2, 0, 0, 0, 0, 2, 1])\n",
       "  185  => (price = 48.3879, path = [1, 0, 0, 0, 3, 0, 0])\n",
       "  1090 => (price = 47.0243, path = [0, 1, 0, 3, 1, 1, 0])\n",
       "  2015 => (price = 52.1845, path = [2, 0, 1, 0, 4, 0, 0])\n",
       "  3293 => (price = 44.5064, path = [2, 1, 0, 0, 0, 1, 3])\n",
       "  1704 => (price = 35.7008, path = [0, 1, 0, 0, 0, 1, 4])\n",
       "  3220 => (price = 33.8452, path = [0, 0, 0, 0, 1, 4, 2])\n",
       "  ⋮    => ⋮"
      ]
     },
     "metadata": {},
     "output_type": "display_data"
    }
   ],
   "source": [
    "my_nary_lattice_model.data"
   ]
  },
  {
   "cell_type": "markdown",
   "id": "87cd66ab",
   "metadata": {},
   "source": [
    "## Task 2: Let's compute the probability of each price path\n",
    "Fill me in."
   ]
  },
  {
   "cell_type": "code",
   "execution_count": 21,
   "id": "3a452e07",
   "metadata": {},
   "outputs": [
    {
     "data": {
      "text/plain": [
       "3003-element Vector{Int64}:\n",
       " 3432\n",
       " 3433\n",
       " 3434\n",
       " 3435\n",
       " 3436\n",
       " 3437\n",
       " 3438\n",
       " 3439\n",
       " 3440\n",
       " 3441\n",
       "    ⋮\n",
       " 6426\n",
       " 6427\n",
       " 6428\n",
       " 6429\n",
       " 6430\n",
       " 6431\n",
       " 6432\n",
       " 6433\n",
       " 6434"
      ]
     },
     "metadata": {},
     "output_type": "display_data"
    }
   ],
   "source": [
    "nodes_at_tree_level = let\n",
    "\n",
    "    # initialize -\n",
    "    l = 8; # level\n",
    "    start = level_offset(l, n);\n",
    "    stop = start + nodes_at_level(l, n) - 1;\n",
    "\n",
    "    # compute the nodes indices at level l -\n",
    "    nodes = range(start, stop=stop, step=1) |> collect;\n",
    "end"
   ]
  },
  {
   "cell_type": "code",
   "execution_count": 22,
   "id": "94f4b6e6",
   "metadata": {},
   "outputs": [
    {
     "data": {
      "text/plain": [
       "3003×2 Matrix{Float64}:\n",
       " 26.6301  4.90222e-22\n",
       " 27.3977  2.35306e-20\n",
       " 28.0965  2.73217e-19\n",
       " 28.1874  4.94144e-19\n",
       " 28.6743  1.22555e-18\n",
       " 28.9064  1.14751e-17\n",
       " 28.9999  5.92972e-18\n",
       " 29.2226  2.61452e-19\n",
       " 29.5009  5.14733e-17\n",
       " 29.6438  6.66194e-17\n",
       "  ⋮       \n",
       " 77.8339  3.38919e-18\n",
       " 78.3306  1.59907e-20\n",
       " 79.3222  7.23027e-19\n",
       " 79.3329  3.29429e-19\n",
       " 79.9414  7.17288e-20\n",
       " 81.4699  1.53022e-20\n",
       " 81.481   2.44022e-20\n",
       " 83.6872  1.0329e-21\n",
       " 85.9531  1.91277e-23"
      ]
     },
     "metadata": {},
     "output_type": "display_data"
    }
   ],
   "source": [
    "data_array_at_level = let\n",
    "   \n",
    "    # initialize -\n",
    "    number_of_nodes = length(nodes_at_tree_level);\n",
    "    results_array = Array{Float64, 2}(undef, number_of_nodes, 2);\n",
    "    Δ = result.avg_factor |> reverse; # average growth factors (up to down)\n",
    "    p = result.freq |> reverse; # real-world probabilities (up to down)\n",
    "    d = Multinomial(TSIM, p)\n",
    "\n",
    "    for i ∈ 1:number_of_nodes\n",
    "        \n",
    "        # get node index -\n",
    "        j = nodes_at_tree_level[i];\n",
    "        nodemodel = my_nary_lattice_model.data[j];\n",
    "\n",
    "        # get the price from the node model -\n",
    "        price = nodemodel.price;\n",
    "\n",
    "        # ok: let's compute the probability of reaching this node -\n",
    "        path = nodemodel.path; # path to reach this node\n",
    "       \n",
    "        # capture the results -\n",
    "        results_array[i, 1] = price;\n",
    "        results_array[i, 2] = pdf(d, path);\n",
    "    end\n",
    "\n",
    "    tmp = results_array[:,1];\n",
    "    sorted_results_array = sortperm(tmp) |> I-> results_array[I, :]; # sort by price\n",
    "end"
   ]
  },
  {
   "cell_type": "markdown",
   "id": "d4062b7e",
   "metadata": {},
   "source": [
    "__Check:__ The sum of the probabilities at each level should equal `1.0`. Let's check that for level `l = 3` (the close price on Friday from today's perspective):"
   ]
  },
  {
   "cell_type": "code",
   "execution_count": 23,
   "id": "73d194be",
   "metadata": {},
   "outputs": [],
   "source": [
    "@assert data_array_at_level[:,2] |> sum ≈ 1.0 # should be 1.0"
   ]
  },
  {
   "cell_type": "markdown",
   "id": "377b158f",
   "metadata": {},
   "source": [
    "Let's visualize the possible price distribution for Friday:"
   ]
  },
  {
   "cell_type": "code",
   "execution_count": 36,
   "id": "e16cd9dc",
   "metadata": {},
   "outputs": [
    {
     "data": {
      "text/plain": [
       "                \u001b[38;5;8m┌                                        ┐\u001b[0m \n",
       "   [25.0, 30.0) \u001b[38;5;8m┤\u001b[0m\u001b[38;5;2m\u001b[0m\u001b[38;5;2m▋\u001b[0m 12                                    \u001b[38;5;8m \u001b[0m \u001b[38;5;8m\u001b[0m\n",
       "   [30.0, 35.0) \u001b[38;5;8m┤\u001b[0m\u001b[38;5;2m██████\u001b[0m\u001b[38;5;2m▎\u001b[0m 118                             \u001b[38;5;8m \u001b[0m \u001b[38;5;8m\u001b[0m\n",
       "   [35.0, 40.0) \u001b[38;5;8m┤\u001b[0m\u001b[38;5;2m██████████████████\u001b[0m\u001b[38;5;2m▊\u001b[0m 364                 \u001b[38;5;8m \u001b[0m \u001b[38;5;8m\u001b[0m\n",
       "   [40.0, 45.0) \u001b[38;5;8m┤\u001b[0m\u001b[38;5;2m███████████████████████████████\u001b[0m\u001b[38;5;2m▎\u001b[0m 601    \u001b[38;5;8m \u001b[0m \u001b[38;5;8m\u001b[0m\n",
       "   [45.0, 50.0) \u001b[38;5;8m┤\u001b[0m\u001b[38;5;2m███████████████████████████████████\u001b[0m\u001b[38;5;2m \u001b[0m 675\u001b[38;5;8m \u001b[0m \u001b[38;5;8m\u001b[0m\n",
       "   [50.0, 55.0) \u001b[38;5;8m┤\u001b[0m\u001b[38;5;2m███████████████████████████\u001b[0m\u001b[38;5;2m▋\u001b[0m 533        \u001b[38;5;8m \u001b[0m \u001b[38;5;8m\u001b[0m\n",
       "   [55.0, 60.0) \u001b[38;5;8m┤\u001b[0m\u001b[38;5;2m██████████████████\u001b[0m\u001b[38;5;2m▌\u001b[0m 357                 \u001b[38;5;8m \u001b[0m \u001b[38;5;8m\u001b[0m\n",
       "   [60.0, 65.0) \u001b[38;5;8m┤\u001b[0m\u001b[38;5;2m██████████\u001b[0m\u001b[38;5;2m▏\u001b[0m 194                         \u001b[38;5;8m \u001b[0m \u001b[38;5;8m\u001b[0m\n",
       "   [65.0, 70.0) \u001b[38;5;8m┤\u001b[0m\u001b[38;5;2m████\u001b[0m\u001b[38;5;2m▊\u001b[0m 93                                \u001b[38;5;8m \u001b[0m \u001b[38;5;8m\u001b[0m\n",
       "   [70.0, 75.0) \u001b[38;5;8m┤\u001b[0m\u001b[38;5;2m█\u001b[0m\u001b[38;5;2m▉\u001b[0m 37                                   \u001b[38;5;8m \u001b[0m \u001b[38;5;8m\u001b[0m\n",
       "   [75.0, 80.0) \u001b[38;5;8m┤\u001b[0m\u001b[38;5;2m\u001b[0m\u001b[38;5;2m▊\u001b[0m 15                                    \u001b[38;5;8m \u001b[0m \u001b[38;5;8m\u001b[0m\n",
       "   [80.0, 85.0) \u001b[38;5;8m┤\u001b[0m\u001b[38;5;2m\u001b[0m\u001b[38;5;2m▎\u001b[0m 3                                     \u001b[38;5;8m \u001b[0m \u001b[38;5;8m\u001b[0m\n",
       "   [85.0, 90.0) \u001b[38;5;8m┤\u001b[0m\u001b[38;5;2m\u001b[0m\u001b[38;5;2m▏\u001b[0m 1                                     \u001b[38;5;8m \u001b[0m \u001b[38;5;8m\u001b[0m\n",
       "                \u001b[38;5;8m└                                        ┘\u001b[0m \n",
       "                                 Frequency                 "
      ]
     },
     "metadata": {},
     "output_type": "display_data"
    }
   ],
   "source": [
    "UnicodePlots.histogram(data_array_at_level[:,1], nbins=21, closed=:left)"
   ]
  },
  {
   "cell_type": "markdown",
   "id": "8ecdc6a6",
   "metadata": {},
   "source": [
    "## Disclaimer and Risks\n",
    "__This content is offered solely for training and informational purposes__. No offer or solicitation to buy or sell securities or derivative products, or any investment or trading advice or strategy, is made, given, or endorsed by the teaching team. \n",
    "\n",
    "__Trading involves risk__. Carefully review your financial situation before investing in securities, futures contracts, options, or commodity interests. Past performance, whether actual or indicated by historical tests of strategies, is no guarantee of future performance or success. Trading is generally inappropriate for someone with limited resources, investment or trading experience, or a low-risk tolerance. Only risk capital that is not required for living expenses should be used.\n",
    "\n",
    "__You are fully responsible for any investment or trading decisions you make__. Such decisions should be based solely on evaluating your financial circumstances, investment or trading objectives, risk tolerance, and liquidity needs."
   ]
  }
 ],
 "metadata": {
  "kernelspec": {
   "display_name": "Julia 1.11.7",
   "language": "julia",
   "name": "julia-1.11"
  },
  "language_info": {
   "file_extension": ".jl",
   "mimetype": "application/julia",
   "name": "julia",
   "version": "1.11.7"
  }
 },
 "nbformat": 4,
 "nbformat_minor": 5
}
