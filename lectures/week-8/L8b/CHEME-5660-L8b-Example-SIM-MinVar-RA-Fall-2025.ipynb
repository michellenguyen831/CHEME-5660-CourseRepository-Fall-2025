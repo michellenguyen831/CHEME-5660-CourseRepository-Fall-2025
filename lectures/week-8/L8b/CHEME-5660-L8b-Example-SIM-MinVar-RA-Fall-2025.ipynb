{
 "cells": [
  {
   "cell_type": "markdown",
   "id": "d2534105-6383-4535-a269-6af6c4d1680b",
   "metadata": {},
   "source": [
    "## Example: Single Index Models and Minimum Variance Portfolio Allocation\n",
    "In this example, we will use single index models to construct a minimum variance portfolio from a set of risky assets. \n",
    "\n",
    "> __Learning Objectives:__\n",
    "> \n",
    "> By the end of this example, you should be able to:\n",
    "> Three learning objectives here.\n",
    "\n",
    "Let's get stared!\n",
    "___"
   ]
  },
  {
   "cell_type": "markdown",
   "id": "75c1691d-25c3-4f99-836d-5f01182c7842",
   "metadata": {},
   "source": [
    "## Setup, Data, and Prerequisites\n",
    "First, we set up the computational environment by including the `Include.jl` file and loading any needed resources.\n",
    "\n",
    "> __Include:__ The [`include(...)` command](https://docs.julialang.org/en/v1/base/base/#include) evaluates the contents of the input source file, `Include.jl`, in the notebook's global scope. The `Include.jl` file sets paths, loads required external packages, etc. For additional information on functions and types used in this material, see the [Julia programming language documentation](https://docs.julialang.org/en/v1/). \n",
    "\n",
    "Let's set up our code environment:"
   ]
  },
  {
   "cell_type": "code",
   "execution_count": 1,
   "id": "914fab8e-454d-4f98-bbce-bd4ec2edaf29",
   "metadata": {
    "tags": []
   },
   "outputs": [],
   "source": [
    "include(joinpath(@__DIR__, \"Include.jl\")); # include the Include.jl file"
   ]
  },
  {
   "cell_type": "markdown",
   "id": "f4a165c6-1a16-4d94-8ec7-e33cc54913a4",
   "metadata": {},
   "source": [
    "### Data\n",
    "We gathered daily open-high-low-close (OHLC) data for each firm in the [S&P 500](https://en.wikipedia.org/wiki/S%26P_500) from `01-03-2025` until `09-26-2025`, along with data for several exchange-traded funds and volatility products during that time period.\n",
    "\n",
    "Let's load the `original_dataset::DataFrame` by calling [the `MyTestingMarketDataSet()` function](https://varnerlab.github.io/VLQuantitativeFinancePackage.jl/dev/data/#VLQuantitativeFinancePackage.MyTestingMarketDataSet)."
   ]
  },
  {
   "cell_type": "code",
   "execution_count": 2,
   "id": "ede4f7d8-de2a-4c06-81d9-5e462afc6df2",
   "metadata": {
    "tags": []
   },
   "outputs": [
    {
     "data": {
      "text/plain": [
       "Dict{String, DataFrame} with 482 entries:\n",
       "  \"NI\"   => \u001b[1m182×8 DataFrame\u001b[0m\u001b[0m…\n",
       "  \"EMR\"  => \u001b[1m182×8 DataFrame\u001b[0m\u001b[0m…\n",
       "  \"CTAS\" => \u001b[1m182×8 DataFrame\u001b[0m\u001b[0m…\n",
       "  \"HSIC\" => \u001b[1m182×8 DataFrame\u001b[0m\u001b[0m…\n",
       "  \"KIM\"  => \u001b[1m182×8 DataFrame\u001b[0m\u001b[0m…\n",
       "  \"PLD\"  => \u001b[1m182×8 DataFrame\u001b[0m\u001b[0m…\n",
       "  \"IEX\"  => \u001b[1m182×8 DataFrame\u001b[0m\u001b[0m…\n",
       "  \"BAC\"  => \u001b[1m182×8 DataFrame\u001b[0m\u001b[0m…\n",
       "  \"CBOE\" => \u001b[1m182×8 DataFrame\u001b[0m\u001b[0m…\n",
       "  \"EXR\"  => \u001b[1m182×8 DataFrame\u001b[0m\u001b[0m…\n",
       "  \"NCLH\" => \u001b[1m182×8 DataFrame\u001b[0m\u001b[0m…\n",
       "  \"CVS\"  => \u001b[1m182×8 DataFrame\u001b[0m\u001b[0m…\n",
       "  \"DRI\"  => \u001b[1m182×8 DataFrame\u001b[0m\u001b[0m…\n",
       "  \"DTE\"  => \u001b[1m182×8 DataFrame\u001b[0m\u001b[0m…\n",
       "  \"ZION\" => \u001b[1m182×8 DataFrame\u001b[0m\u001b[0m…\n",
       "  \"AVY\"  => \u001b[1m182×8 DataFrame\u001b[0m\u001b[0m…\n",
       "  \"EW\"   => \u001b[1m182×8 DataFrame\u001b[0m\u001b[0m…\n",
       "  \"EA\"   => \u001b[1m182×8 DataFrame\u001b[0m\u001b[0m…\n",
       "  \"NWSA\" => \u001b[1m182×8 DataFrame\u001b[0m\u001b[0m…\n",
       "  ⋮      => ⋮"
      ]
     },
     "metadata": {},
     "output_type": "display_data"
    }
   ],
   "source": [
    "original_dataset = MyTestingMarketDataSet() |> x-> x[\"dataset\"] # load the original dataset (testing)"
   ]
  },
  {
   "cell_type": "markdown",
   "id": "7ee23930-149c-49ee-b468-2405dfa9d786",
   "metadata": {},
   "source": [
    "Not all tickers in our dataset have the maximum number of trading days for various reasons, such as acquisition or delisting events. Let's collect only those tickers with the maximum number of trading days.\n",
    "\n",
    "First, let's compute the number of records for a firm that we know has the maximum value, e.g., `AAPL`, and save that value in the `maximum_number_trading_days::Int64` variable:"
   ]
  },
  {
   "cell_type": "code",
   "execution_count": 3,
   "id": "9229500e-ccad-46db-8df4-5665fb9e2589",
   "metadata": {
    "tags": []
   },
   "outputs": [],
   "source": [
    "maximum_number_trading_days = original_dataset[\"AAPL\"] |> nrow; # maximum number of trading days in our dataset"
   ]
  },
  {
   "cell_type": "markdown",
   "id": "3a74846d-0fc9-40b3-bddc-c9fee656114b",
   "metadata": {},
   "source": [
    "Now, let's iterate through our data and collect only tickers with `maximum_number_trading_days` records. Save that data in the `dataset::Dict{String,DataFrame}` variable:"
   ]
  },
  {
   "cell_type": "code",
   "execution_count": 4,
   "id": "d75b54c3-c1d7-4f93-be35-2da7e42a86f1",
   "metadata": {
    "tags": []
   },
   "outputs": [],
   "source": [
    "dataset = let\n",
    "\n",
    "    # initialize -\n",
    "    dataset = Dict{String, DataFrame}();\n",
    "\n",
    "    # iterate through the dictionary; we can't guarantee a particular order\n",
    "    for (ticker, data) ∈ original_dataset  # we get each (K, V) pair!\n",
    "        if (nrow(data) == maximum_number_trading_days) # check if ticker has maximum trading days\n",
    "            dataset[ticker] = data;\n",
    "        end\n",
    "    end\n",
    "    dataset; # return\n",
    "end;"
   ]
  },
  {
   "cell_type": "markdown",
   "id": "7d776d45-97d1-48c6-9d70-c2e6840687a7",
   "metadata": {},
   "source": [
    "Let's get a list of the firms in our cleaned dataset and sort them alphabetically. We store the sorted firm ticker symbols in the `list_of_tickers::Array{String,1}` variable:"
   ]
  },
  {
   "cell_type": "code",
   "execution_count": 5,
   "id": "5c80006a-3338-4f4b-9983-f2b366af5719",
   "metadata": {
    "tags": []
   },
   "outputs": [],
   "source": [
    "list_of_tickers = keys(dataset) |> collect |> sort;"
   ]
  },
  {
   "cell_type": "markdown",
   "id": "5487bb63",
   "metadata": {},
   "source": [
    "Next, we'll compute the growth rate matrix for all firms in the dataset. We've implemented [the `log_growth_matrix(...)` function](https://varnerlab.github.io/VLDataScienceMachineLearningPackage.jl/dev/data/#VLDataScienceMachineLearningPackage.log_growth_matrix) which takes the cleaned dataset and a list of ticker symbols, and returns the growth rate array. Each row of the growth rate array is a time step, while each column corresponds to a firm from the `list_of_tickers::Array{String,1}` array.\n",
    "\n",
    "We'll save this data in the `growth_rate_array::Array{Float64,2}` variable:"
   ]
  },
  {
   "cell_type": "code",
   "execution_count": 6,
   "id": "9d0a9eba",
   "metadata": {},
   "outputs": [],
   "source": [
    "growth_rate_array = let\n",
    "\n",
    "    # initialize -\n",
    "    r̄ = 0.0; # assume the risk-free rate is 0\n",
    "    Δt = 1.0/252.0; # assume daily trading (252 trading days in a year)\n",
    "\n",
    "    # compute the growth matrix -\n",
    "    growth_rate_array = log_growth_matrix(dataset, list_of_tickers, Δt = Δt, \n",
    "        risk_free_rate = r̄); # other optional parameters are at their defaults\n",
    "\n",
    "    growth_rate_array; # return\n",
    "end;"
   ]
  },
  {
   "cell_type": "markdown",
   "id": "ddb016b4",
   "metadata": {},
   "source": [
    "Next, let's load the covariance matrix that we computed in the previous example:"
   ]
  },
  {
   "cell_type": "code",
   "execution_count": 7,
   "id": "fea0c042",
   "metadata": {},
   "outputs": [],
   "source": [
    "covariance_dictionary = let\n",
    "\n",
    "    # initialize -\n",
    "    path_to_covariance = joinpath(_PATH_TO_DATA,\"Covariance-Return-Training-Fall-2025.jld2\");\n",
    "    covariance = JLD2.load(path_to_covariance);\n",
    "    covariance;\n",
    "end;"
   ]
  },
  {
   "cell_type": "markdown",
   "id": "c14231b0",
   "metadata": {},
   "source": [
    "Fill me in"
   ]
  },
  {
   "cell_type": "code",
   "execution_count": 8,
   "id": "6fc18c1d",
   "metadata": {},
   "outputs": [],
   "source": [
    "parameters_df = let\n",
    "\n",
    "    # load -\n",
    "    df = CSV.read(joinpath(_PATH_TO_DATA,\"SAGBM-Parameters-Fall-2025.csv\"), DataFrame);\n",
    "    df; # return\n",
    "end;"
   ]
  },
  {
   "cell_type": "markdown",
   "id": "8609ccb3",
   "metadata": {},
   "source": [
    "Finally, let's load up the single index model parameters that we computed in the previous example."
   ]
  },
  {
   "cell_type": "code",
   "execution_count": 9,
   "id": "49ce4ecd",
   "metadata": {},
   "outputs": [],
   "source": [
    "sim_model_parameters = let\n",
    "\n",
    "    # initialize -\n",
    "    path_to_sim_model_parameters = joinpath(_PATH_TO_DATA,\"SIMs-SP500-01-03-14-to-12-31-24.jld2\");\n",
    "    sim_model_parameters = JLD2.load(path_to_sim_model_parameters);\n",
    "    sim_model_parameters[\"data\"]; # return\n",
    "end;"
   ]
  },
  {
   "cell_type": "markdown",
   "id": "3489f983-ddb4-4f71-9500-51167768cc14",
   "metadata": {},
   "source": [
    "### Constants\n",
    "Finally, let's set some constants we'll use later in this notebook. The comments describe the constants, their units, and permissible values:"
   ]
  },
  {
   "cell_type": "code",
   "execution_count": 10,
   "id": "82ff7747-f489-4750-bd52-81b9410ac379",
   "metadata": {
    "tags": []
   },
   "outputs": [],
   "source": [
    "risk_free_rate = 0.0389; # hypothetical continuous compounded risk free rate (units: 1/year)\n",
    "Δt = (1.0/252.0); # time step for 1-trading day (units: 1/year)"
   ]
  },
  {
   "cell_type": "markdown",
   "id": "1b143a56",
   "metadata": {},
   "source": [
    "___"
   ]
  },
  {
   "cell_type": "markdown",
   "id": "c5335b23",
   "metadata": {},
   "source": [
    "## Task 1: Setup Risk and Return Matrices\n",
    "In this task, we will set up the risk and return matrices that we will use in the minimum variance portfolio allocation. We'll do two versions: one using a pure data driven approach and another using the single index model parameters.\n",
    "\n",
    "Let's start by specifying a collection of ticker symbols, e.g., `AAPL`, `MSFT`, etc., that interest you in the `my_list_of_tickers::Array{String,1}` array."
   ]
  },
  {
   "cell_type": "code",
   "execution_count": 11,
   "id": "a6bdcea2",
   "metadata": {},
   "outputs": [],
   "source": [
    "my_list_of_tickers = [\"AAPL\", \"MSFT\", \"INTC\", \"MU\", \"AMD\", \"NVDA\", \"GS\", \"BAC\", \"WFC\", \"C\", \"F\", \"GM\", \"JNJ\"]; # random tickers that I selected."
   ]
  },
  {
   "cell_type": "markdown",
   "id": "b34152de",
   "metadata": {},
   "source": [
    "### Data-Driven Risk and Return Matrices\n",
    "Now that we have selected the firms in our risky portfolio, we'll compute the firm-specific expected return vector and covariance matrix. We'll store these in the $\\hat{\\mu}$ and $\\hat{\\Sigma}$ variables. "
   ]
  },
  {
   "cell_type": "code",
   "execution_count": 12,
   "id": "ef4151c1",
   "metadata": {},
   "outputs": [],
   "source": [
    "μ̂_data, Σ̂_data = let\n",
    "\n",
    "    # initialize -\n",
    "    M = length(my_list_of_tickers); # number of assets in portfolio\n",
    "    μ = Array{Float64,1}(); # drift vector\n",
    "    Σᵣ = Array{Float64,2}(undef, M, M); # covariance matrix for *our* portfolio\n",
    "    tickers_in_parameters = parameters_df[:, :ticker] |> collect; # list of tickers in parameters_df\n",
    "    covariance_ticker_list = covariance_dictionary[\"list_of_tickers\"] |> collect; # list of tickers in covariance dictionary\n",
    "    Σ = covariance_dictionary[\"covariance_matrix\"]; # full covariance matrix\n",
    "\n",
    "    # compute drift vector -\n",
    "    for ticker ∈ my_list_of_tickers\n",
    "        i = findfirst(x-> x == ticker, tickers_in_parameters); # find index of ticker in the parameters_df\n",
    "        push!(μ, parameters_df[i, :drift]); # append drift value to μ\n",
    "    end\n",
    "\n",
    "    # compute covariance matrix -\n",
    "    for i ∈ 1:M\n",
    "        for j ∈ 1:M\n",
    "            row_index = findfirst(x-> x == my_list_of_tickers[i], covariance_ticker_list); # find row index in full covariance matrix\n",
    "            col_index = findfirst(x-> x == my_list_of_tickers[j], covariance_ticker_list); # find column index in full covariance matrix\n",
    "            Σᵣ[i,j] = Σ[row_index, col_index]; # assign value to Σᵣ\n",
    "        end\n",
    "    end\n",
    "\n",
    "    (μ, Σᵣ); # return\n",
    "end;"
   ]
  },
  {
   "cell_type": "markdown",
   "id": "6c42b307",
   "metadata": {},
   "source": [
    "Next, we need to pull out the growth rate of the market portfolio from `growth_rate_array::Array{Float64,2}`. To do this, look up the index for our market portfolio surrogate `SPY`, then store the growth rate (column from the growth rate array) in the `Gₘ::Array{Float64,1}` variable:"
   ]
  },
  {
   "cell_type": "code",
   "execution_count": 13,
   "id": "8bcd2588",
   "metadata": {},
   "outputs": [],
   "source": [
    "Gₘ = findfirst(x->x==\"SPY\", list_of_tickers) |> i -> growth_rate_array[:,i];"
   ]
  },
  {
   "cell_type": "markdown",
   "id": "ba8ba6d4-726d-4254-a396-39478ef6ce0c",
   "metadata": {},
   "source": [
    "### Compute the expected returns using single index models\n",
    "Fill me in."
   ]
  },
  {
   "cell_type": "code",
   "execution_count": 14,
   "id": "57960682",
   "metadata": {},
   "outputs": [
    {
     "data": {
      "text/plain": [
       "(ticker = \"AAPL\", n = 2766, p = 2, t = 1.96, alpha = 0.10605520914187137, beta = 1.1945864028660338, alpha_SE = 0.05142331293781634, beta_SE = 0.023948874510820575, alpha_95_CI_lower = 0.005265515783751354, alpha_95_CI_upper = 0.20684490249999138, beta_95_CI_lower = 1.1476466088248254, beta_95_CI_upper = 1.2415261969072422, training_variance = 1838.7010778838012)"
      ]
     },
     "metadata": {},
     "output_type": "display_data"
    }
   ],
   "source": [
    "sim_model_parameters[\"AAPL\"]"
   ]
  },
  {
   "cell_type": "code",
   "execution_count": 15,
   "id": "6d9258a1-0c39-4721-8d8c-e67070072ff5",
   "metadata": {
    "tags": []
   },
   "outputs": [],
   "source": [
    "μ̂_sim, Σ̂_sim = let\n",
    "\n",
    "    # initialize -\n",
    "    N = length(my_list_of_tickers); # number of assets in portfolio\n",
    "    μ_sim = Array{Float64,1}(); # drift vector\n",
    "    Σ̂_sim = Array{Float64,2}(undef, N, N); # covariance matrix for *our* portfolio\n",
    "    Ḡₘ = mean(Gₘ); # average market factor -\n",
    "    σ²ₘ = var(Gₘ); # variance of market factor\n",
    "\n",
    "    # compute the expected growth rate (return) for each of our tickers -\n",
    "    for i ∈ eachindex(my_list_of_tickers)\n",
    "        ticker = my_list_of_tickers[i];\n",
    "        data = sim_model_parameters[ticker]; # get the data for this ticker\n",
    "        αᵢ = data.alpha; # get alpha\n",
    "        βᵢ = data.beta; # get beta\n",
    "        Ḡᵢ = αᵢ + βᵢ* Ḡₘ; # compute the growth rate for this ticker\n",
    "        push!(μ_sim, Ḡᵢ); # append drift value to μ_sim\n",
    "    end\n",
    "\n",
    "    # compute the covariance matrix using the single index model -\n",
    "    for i ∈ eachindex(my_list_of_tickers)\n",
    "\n",
    "        ticker_i = my_list_of_tickers[i];\n",
    "        data_i = sim_model_parameters[ticker_i]; # get the data for ticker i\n",
    "        βᵢ = data_i.beta; # get beta for ticker i\n",
    "        σ²_εᵢ = (Δt)*data_i.training_variance; # residual variance for ticker i\n",
    "\n",
    "        for j ∈ eachindex(my_list_of_tickers)\n",
    "            \n",
    "            ticker_j = my_list_of_tickers[j];\n",
    "            data_j = sim_model_parameters[ticker_j]; # get the data for ticker j\n",
    "            βⱼ = data_j.beta; # get beta for ticker j\n",
    "            σ²_εⱼ = (Δt)*data_j.training_variance; # residual variance for ticker j\n",
    "            \n",
    "            if i == j\n",
    "                Σ̂_sim[i,j] = βᵢ*βⱼ*σ²ₘ + σ²_εᵢ; # diagonal elements\n",
    "            else\n",
    "                Σ̂_sim[i,j] = βᵢ*βⱼ*σ²ₘ; # off-diagonal elements\n",
    "            end\n",
    "        end\n",
    "    end\n",
    "\n",
    "    (μ_sim, Σ̂_sim*Δt); # return\n",
    "end;"
   ]
  },
  {
   "cell_type": "code",
   "execution_count": 16,
   "id": "2c1892df",
   "metadata": {},
   "outputs": [
    {
     "data": {
      "text/plain": [
       "13×13 Matrix{Float64}:\n",
       " 0.061982   0.0318509  0.0327428  …  0.039635   0.0406288  0.0149176\n",
       " 0.0318509  0.0529216  0.0315759     0.0382225  0.0391808  0.014386\n",
       " 0.0327428  0.0315759  0.0934778     0.0392928  0.040278   0.0147888\n",
       " 0.0468707  0.0452003  0.046466      0.0562469  0.0576572  0.02117\n",
       " 0.048084   0.0463704  0.0476689     0.057703   0.0591498  0.021718\n",
       " 0.0483635  0.0466399  0.0479459  …  0.0580383  0.0594936  0.0218442\n",
       " 0.036219   0.0349283  0.0359063     0.0434645  0.0445543  0.016359\n",
       " 0.0375853  0.0362458  0.0372608     0.045104   0.0462349  0.0169761\n",
       " 0.0342366  0.0330165  0.033941      0.0410855  0.0421156  0.0154636\n",
       " 0.0414928  0.0400141  0.0411346     0.0497933  0.0510417  0.018741\n",
       " 0.039635   0.0382225  0.0392928  …  0.11332    0.0487563  0.0179018\n",
       " 0.0406288  0.0391808  0.040278      0.0487563  0.113855   0.0183507\n",
       " 0.0149176  0.014386   0.0147888     0.0179018  0.0183507  0.0250658"
      ]
     },
     "metadata": {},
     "output_type": "display_data"
    }
   ],
   "source": [
    "Σ̂_sim"
   ]
  },
  {
   "cell_type": "code",
   "execution_count": 17,
   "id": "7141262d",
   "metadata": {},
   "outputs": [
    {
     "data": {
      "text/plain": [
       "13×13 Matrix{Float64}:\n",
       " 0.054998   0.0301101  0.02693     …  0.024752   0.0256372  0.0102411\n",
       " 0.0301101  0.0464282  0.028659       0.021397   0.0220835  0.0101588\n",
       " 0.02693    0.028659   0.086602       0.0300845  0.0332688  0.00955275\n",
       " 0.0386414  0.0364987  0.0564706      0.0487509  0.0512663  0.00885736\n",
       " 0.0418636  0.0405472  0.0461653      0.0421099  0.042669   0.00937637\n",
       " 0.0457208  0.0463697  0.0465067   …  0.0415535  0.0436856  0.0067175\n",
       " 0.0228452  0.0215869  0.0289937      0.0437096  0.0473049  0.011942\n",
       " 0.0216485  0.0204548  0.0284563      0.0474835  0.051084   0.0124359\n",
       " 0.0179128  0.0176504  0.0261185      0.0445623  0.0461418  0.0120416\n",
       " 0.0251574  0.0231297  0.0323765      0.0531001  0.0565119  0.0128019\n",
       " 0.024752   0.021397   0.0300845   …  0.103253   0.0784669  0.011166\n",
       " 0.0256372  0.0220835  0.0332688      0.0784669  0.10328    0.010851\n",
       " 0.0102411  0.0101588  0.00955275     0.011166   0.010851   0.0236365"
      ]
     },
     "metadata": {},
     "output_type": "display_data"
    }
   ],
   "source": [
    "Σ̂_data"
   ]
  },
  {
   "cell_type": "markdown",
   "id": "401a2d24-deb1-4bbb-ba05-2f6c7611ea20",
   "metadata": {},
   "source": [
    "## Task 2: Compute thedata-driven efficient frontier for your collection of tickers\n",
    "Now, we can compute the data-driven and single index model efficient frontiers, assuming only risky assets. To begin, create an instance of the [MyMarkowitzRiskyAssetOnlyPortfiolioChoiceProblem type](https://varnerlab.github.io/VLQuantitativeFinancePackage.jl/dev/portfolio/#VLQuantitativeFinancePackage.MyMarkowitzRiskyAssetOnlyPortfiolioChoiceProblem) using a custom [build(...) method](https://varnerlab.github.io/VLQuantitativeFinancePackage.jl/dev/portfolio/#VLQuantitativeFinancePackage.build-Tuple{Type{MyMarkowitzRiskyAssetOnlyPortfiolioChoiceProblem},%20NamedTuple}). Store this in the `problem_risk` variable. \n",
    "\n",
    "You'll need to pass your covariance array $\\hat{\\Sigma}_{\\star}$, the expected return array $\\hat{\\mu}_{\\star}$, along with bounds and an initial guess, to the [build(...) method](https://varnerlab.github.io/VLQuantitativeFinancePackage.jl/dev/portfolio/#VLQuantitativeFinancePackage.build-Tuple{Type{MyMarkowitzRiskyAssetOnlyPortfiolioChoiceProblem},%20NamedTuple}). Start by setting up the bounds and constants in the problem:"
   ]
  },
  {
   "cell_type": "code",
   "execution_count": 18,
   "id": "0840da92-f0f9-4072-9df6-39f09e6c4e4d",
   "metadata": {
    "tags": []
   },
   "outputs": [],
   "source": [
    "number_of_firms = length(my_list_of_tickers);\n",
    "wₒ = zeros(number_of_firms);\n",
    "wₒ[1] = 1.0;\n",
    "bounds = zeros(number_of_firms,2);\n",
    "bounds[:,2] .= 1.0;\n",
    "number_of_points = 50;"
   ]
  },
  {
   "cell_type": "markdown",
   "id": "ba901c71-c62c-44d9-9976-1d08e83f8350",
   "metadata": {},
   "source": [
    "Build an instance of the [MyMarkowitzRiskyAssetOnlyPortfolioChoiceProblem type](https://varnerlab.github.io/VLQuantitativeFinancePackage.jl/dev/portfolio/#VLQuantitativeFinancePackage.MyMarkowitzRiskyAssetOnlyPortfolioChoiceProblem) using a custom [build(...) method](https://varnerlab.github.io/VLQuantitativeFinancePackage.jl/dev/portfolio/#VLQuantitativeFinancePackage.build-Tuple{Type{MyMarkowitzRiskyAssetOnlyPortfolioChoiceProblem},%20NamedTuple}) for the `data` version of the problem:"
   ]
  },
  {
   "cell_type": "code",
   "execution_count": 19,
   "id": "4ba80199-8917-4357-a800-4c973148de3d",
   "metadata": {
    "tags": []
   },
   "outputs": [],
   "source": [
    "problem_data = build(MyMarkowitzRiskyAssetOnlyPortfolioChoiceProblem, (\n",
    "    Σ = Σ̂_data, # data cov matrix\n",
    "    μ = μ̂_data, # data expected return\n",
    "    bounds = bounds,\n",
    "    initial = wₒ,\n",
    "    R = 0.0\n",
    "));"
   ]
  },
  {
   "cell_type": "markdown",
   "id": "10d8346c-4d38-495c-8550-d63576c4051a",
   "metadata": {},
   "source": [
    "and the `single index model` version of the problem (store the single index version of the problem in the `problem_risk_sim` variable):"
   ]
  },
  {
   "cell_type": "code",
   "execution_count": 20,
   "id": "8fe92cd2-dd7f-46e2-9a10-7a9f1de3f2d0",
   "metadata": {
    "tags": []
   },
   "outputs": [],
   "source": [
    "problem_sim = build(MyMarkowitzRiskyAssetOnlyPortfolioChoiceProblem, (\n",
    "    Σ = Σ̂_sim, # sim cov matrix\n",
    "    μ = μ̂_sim, # sim expected array\n",
    "    bounds = bounds,\n",
    "    initial = wₒ,\n",
    "    R = 0.0\n",
    "));"
   ]
  },
  {
   "cell_type": "markdown",
   "id": "287c4ec0-e9d4-45c9-9c2e-7db7911b4b41",
   "metadata": {},
   "source": [
    "Next, we create an array with the minimum desired rewards (the calculation must achieve at least this much reward). In this case, assume we go from `0` to `10`$\\times{r_{f}}$ and take `number_of_points` steps.  We store these values in the `minimum_desired_reward_array` variable:"
   ]
  },
  {
   "cell_type": "code",
   "execution_count": 21,
   "id": "a62e9f23-02cb-4c3c-b5a0-30215ca2c86f",
   "metadata": {
    "tags": []
   },
   "outputs": [],
   "source": [
    "minimum_desired_reward_array = range(0.0, stop = 20*risk_free_rate, length = number_of_points) |> collect; # excess return from zero"
   ]
  },
  {
   "cell_type": "markdown",
   "id": "9e583610-fae9-4325-a3d1-70476ad2847c",
   "metadata": {},
   "source": [
    "We now iterate through the `minimum_desired_reward_array::Array{Float64,1}` and compute the minimum risk required to achieve the specified reward level using a `for-loop`.\n",
    "\n",
    "For each pass through the loop, we:\n",
    "* Update the `problem_risk` variable with the minimum desired reward (set the `R` field). We then pass the updated `problem` object to the [solve(...) method](https://varnerlab.github.io/VLQuantitativeFinancePackage.jl/dev/portfolio/#VLQuantitativeFinancePackage.solve-Tuple{MyMarkowitzRiskyAssetOnlyPortfolioChoiceProblem}) (which initializes and solves the optimization problem). The solution returned from the [solve(...) method](https://varnerlab.github.io/VLQuantitativeFinancePackage.jl/dev/portfolio/#VLQuantitativeFinancePackage.solve-Tuple{MyMarkowitzRiskyAssetOnlyPortfolioChoiceProblem}) is stored in the `solution` dictionary. \n",
    "* We check the `status` of the solution. If the `status` indicates an optimal solution was found, we store that solution in the `efficient_frontier` dictionary. In particular, we store the portfolio risk as the `key` and the expected return, risk and allocation as the `value` in the `efficient_frontier` dictionary.\n",
    "\n",
    "Why the [try-catch environment](https://docs.julialang.org/en/v1/base/base/#try)? The [solve(...) method](https://varnerlab.github.io/VLQuantitativeFinancePackage.jl/dev/portfolio/#VLQuantitativeFinancePackage.solve-Tuple{MyMarkowitzRiskyAssetOnlyPortfolioChoiceProblem}) has an [@assert statement](https://docs.julialang.org/en/v1/base/base/#Base.@assert) to check if the calculation has converged. Thus, the solve method can [throw](https://docs.julialang.org/en/v1/base/base/#Core.throw) an [AssertionError](https://docs.julialang.org/en/v1/base/base/#Core.AssertionError) if the optimization problem fails to converge. To gracefully handle this case, we use a [try-catch construct](https://docs.julialang.org/en/v1/base/base/#try). See the [is_solved_and_feasible method from the JuMP package](https://jump.dev/JuMP.jl/stable/api/JuMP/#JuMP.is_solved_and_feasible) for more information."
   ]
  },
  {
   "cell_type": "code",
   "execution_count": 22,
   "id": "8c80968c-cdf4-4759-9bc5-c21a32a40055",
   "metadata": {
    "tags": []
   },
   "outputs": [],
   "source": [
    "efficient_frontier_data = let\n",
    "\n",
    "    # initialize -\n",
    "    efficient_frontier = Dict{Float64, NamedTuple}();\n",
    "\n",
    "    # main loop\n",
    "    for i ∈ eachindex(minimum_desired_reward_array)\n",
    "        problem_data.R = minimum_desired_reward_array[i]; # update the problem object with the min desired reward value\n",
    "    \n",
    "        try\n",
    "            solution = solve(problem_data)\n",
    "            status_flag = solution[\"status\"];    \n",
    "\n",
    "            if (status_flag == MathOptInterface.LOCALLY_SOLVED)\n",
    "                risk_value = solution[\"objective_value\"]; # get the sqrt of the risk -\n",
    "                reward_value = solution[\"reward\"];\n",
    "                allocation = solution[\"argmax\"]; # TODO: need to update this key\n",
    "                efficient_frontier[risk_value] = (risk = risk_value, reward = reward_value, w = allocation)\n",
    "            end\n",
    "        catch err\n",
    "            # Uncomment to see which R's failed ...\n",
    "            # println(\"Failed: desired R = $(problem_risk.R). Infeasible\");\n",
    "        end    \n",
    "    end\n",
    "    efficient_frontier;\n",
    "end;"
   ]
  },
  {
   "cell_type": "markdown",
   "id": "60b0b348-5129-46cf-836f-7c407bfbc032",
   "metadata": {},
   "source": [
    "Let's now do the same thing for the single index model case, where we store the results in the `efficient_frontier_sim` dictionary:"
   ]
  },
  {
   "cell_type": "code",
   "execution_count": 23,
   "id": "ef9652f6-cd88-4036-8efd-ed0cc11132cb",
   "metadata": {
    "tags": []
   },
   "outputs": [],
   "source": [
    "efficient_frontier_sim = let\n",
    "\n",
    "    # initialize -\n",
    "    efficient_frontier = Dict{Float64, NamedTuple}();\n",
    "\n",
    "    # main loop\n",
    "    for i ∈ eachindex(minimum_desired_reward_array)\n",
    "        problem_sim.R = minimum_desired_reward_array[i]; # update the problem object with the min desired reward value\n",
    "    \n",
    "        try\n",
    "            solution = solve(problem_sim)\n",
    "            status_flag = solution[\"status\"];    \n",
    "\n",
    "            if (status_flag == MathOptInterface.LOCALLY_SOLVED)\n",
    "                risk_value = solution[\"objective_value\"]; # get the sqrt of the risk -\n",
    "                reward_value = solution[\"reward\"];\n",
    "                allocation = solution[\"argmax\"]; # TODO: need to update this key\n",
    "                efficient_frontier[risk_value] = (risk = risk_value, reward = reward_value, w = allocation)\n",
    "            end\n",
    "        catch err\n",
    "            # Uncomment to see which R's failed ...\n",
    "            # println(\"Failed: desired R = $(problem_sim.R). Infeasible\");\n",
    "        end    \n",
    "    end\n",
    "    efficient_frontier;\n",
    "end;"
   ]
  },
  {
   "cell_type": "code",
   "execution_count": 24,
   "id": "6b484f15",
   "metadata": {},
   "outputs": [
    {
     "data": {
      "text/plain": [
       "Dict{Float64, NamedTuple} with 39 entries:\n",
       "  0.0221388 => (risk = 0.0221388, reward = 0.111145, w = [0.0797735, 0.135475, …\n",
       "  0.088726  => (risk = 0.088726, reward = 0.476327, w = [0.184312, 0.187243, 2.…\n",
       "  0.0221358 => (risk = 0.0221358, reward = 0.108815, w = [0.074737, 0.129501, 0…\n",
       "  0.0221358 => (risk = 0.0221358, reward = 0.108815, w = [0.0747371, 0.129501, …\n",
       "  0.070613  => (risk = 0.070613, reward = 0.428694, w = [0.240217, 0.284007, 2.…\n",
       "  0.0400096 => (risk = 0.0400096, reward = 0.301673, w = [0.231231, 0.302008, 6…\n",
       "  0.129347  => (risk = 0.129347, reward = 0.555714, w = [0.0911362, 0.0259704, …\n",
       "  0.111534  => (risk = 0.111534, reward = 0.523959, w = [0.128407, 0.0904792, 9…\n",
       "  0.0656185 => (risk = 0.0656185, reward = 0.412816, w = [0.258852, 0.316261, 3…\n",
       "  0.0285628 => (risk = 0.0285628, reward = 0.222286, w = [0.189426, 0.258904, 1…\n",
       "  0.0372711 => (risk = 0.0372711, reward = 0.285796, w = [0.223263, 0.293864, 7…\n",
       "  0.0495692 => (risk = 0.0495692, reward = 0.349306, w = [0.255135, 0.32644, 5.…\n",
       "  0.076129  => (risk = 0.076129, reward = 0.444571, w = [0.221582, 0.251753, 2.…\n",
       "  0.0221358 => (risk = 0.0221358, reward = 0.108815, w = [0.0747373, 0.129502, …\n",
       "  0.0227744 => (risk = 0.0227744, reward = 0.142898, w = [0.144468, 0.211975, 3…\n",
       "  0.0223179 => (risk = 0.0223179, reward = 0.12702, w = [0.114091, 0.176181, 0.…\n",
       "  0.0255668 => (risk = 0.0255668, reward = 0.190531, w = [0.171447, 0.240137, 2…\n",
       "  0.0221358 => (risk = 0.0221358, reward = 0.108815, w = [0.074737, 0.129501, 0…\n",
       "  0.0347566 => (risk = 0.0347566, reward = 0.269918, w = [0.215296, 0.28572, -6…\n",
       "  ⋮         => ⋮"
      ]
     },
     "metadata": {},
     "output_type": "display_data"
    }
   ],
   "source": [
    "efficient_frontier_sim"
   ]
  },
  {
   "cell_type": "markdown",
   "id": "a71680c7",
   "metadata": {},
   "source": [
    "### Organize efficient frontier results into a matrix for analysis and visualization\n",
    "Transform the `efficient_frontier::Dict{Float64,NamedTuple}` dictionary into a matrix format for plotting and analysis.\n",
    "\n",
    "> __What are we doing?__ Extract portfolio data from the `efficient_frontier::Dict{Float64,NamedTuple}` dictionary and organize it into the `results_array_data::Array{Float64,2}` matrix. Sort portfolios by risk level and store risk, return, and allocation weights in matrix columns.\n",
    "\n",
    "> __What's in the results array?__ The `results_array_data::Array{Float64,2}` has `number_of_portfolios::Int64` rows and `M+2` columns:\n",
    "> * Column 1: Portfolio risk (standard deviation = √variance)  \n",
    "> * Column 2: Portfolio expected return\n",
    "> * Columns 3 to M+2: Asset allocation weights for the `M::Int64` tickers\n",
    "\n",
    "Let's build the `results_array_data::Array{Float64,2}` from our efficient frontier solutions:"
   ]
  },
  {
   "cell_type": "code",
   "execution_count": 25,
   "id": "e508f7aa",
   "metadata": {},
   "outputs": [
    {
     "data": {
      "text/plain": [
       "32×15 Matrix{Float64}:\n",
       " 0.137008  0.0924052  0.0901422   0.14233    …   0.00205482   0.627754\n",
       " 0.137008  0.0924051  0.0901419   0.14233        0.00205821   0.627754\n",
       " 0.137008  0.0924051  0.0901419   0.142329       0.00205825   0.627755\n",
       " 0.137008  0.0924051  0.0901419   0.142329       0.00205862   0.627755\n",
       " 0.137008  0.0924051  0.0901418   0.142329       0.00205868   0.627755\n",
       " 0.137008  0.0924051  0.0901418   0.142329   …   0.00205895   0.627755\n",
       " 0.137025  0.0952661  0.0943575   0.1493         0.00223508   0.623201\n",
       " 0.137651  0.111143   0.108065    0.171721       0.00152487   0.607991\n",
       " 0.139012  0.12702    0.116406    0.187789       1.12485e-7   0.595576\n",
       " 0.141208  0.142898   0.124862    0.201896       8.11335e-7   0.570508\n",
       " ⋮                                           ⋱               \n",
       " 0.257562  0.365184   0.188765    0.330563       2.66248e-8   4.17189e-7\n",
       " 0.270192  0.381061   0.162068    0.294335       2.10661e-8   1.46564e-7\n",
       " 0.283564  0.396939   0.13537     0.258107   …   1.70169e-8   9.52529e-8\n",
       " 0.297579  0.412816   0.108673    0.221878       1.39017e-8   6.92806e-8\n",
       " 0.312149  0.428694   0.0819754   0.18565        1.14306e-8   5.35896e-8\n",
       " 0.327201  0.444571   0.055278    0.149421       9.4226e-9    4.30843e-8\n",
       " 0.342671  0.460449   0.028581    0.113192       7.75869e-9   3.55579e-8\n",
       " 0.358505  0.476327   0.00189147  0.0769561  …  -9.34635e-9  -8.4033e-9\n",
       " 0.37469   0.492204   1.91197e-6  0.0157273      5.00376e-9   2.47909e-8"
      ]
     },
     "metadata": {},
     "output_type": "display_data"
    }
   ],
   "source": [
    "results_array_data = let\n",
    "\n",
    "    # initialize -\n",
    "    efficient_frontier = efficient_frontier_data; # use the data efficient frontier\n",
    "    number_of_portfolios = length(efficient_frontier); # how many portfolios do we have? (these all exited correctly)\n",
    "    M = length(my_list_of_tickers); # how many tickers do we have?\n",
    "    results_array = Array{Float64,2}(undef, number_of_portfolios, M+2);\n",
    "    risk_array_sorted = keys(efficient_frontier) |> collect |> sort;\n",
    "\n",
    "    for i ∈ eachindex(risk_array_sorted)\n",
    "        risk_value = risk_array_sorted[i] |> sqrt; # let's plot the sqrt of the risk\n",
    "        \n",
    "        data = efficient_frontier[risk_array_sorted[i]] # get the NamedTuple corresponding to this risk level\n",
    "        reward_value = data.reward;\n",
    "        w = data.w;\n",
    "\n",
    "        results_array[i,1] = risk_value;\n",
    "        results_array[i,2] = reward_value;\n",
    "        for j ∈ 1:M\n",
    "            results_array[i,2+j] = w[j];\n",
    "        end\n",
    "    end\n",
    "\n",
    "    results_array\n",
    "end"
   ]
  },
  {
   "cell_type": "markdown",
   "id": "72e67c20",
   "metadata": {},
   "source": [
    "in a similar manner, we can build the `results_array_sim::Array{Float64,2}` from our single index model efficient frontier solutions:"
   ]
  },
  {
   "cell_type": "code",
   "execution_count": 26,
   "id": "ae7c13e1",
   "metadata": {},
   "outputs": [
    {
     "data": {
      "text/plain": [
       "39×15 Matrix{Float64}:\n",
       " 0.148781  0.108815  0.074737    0.129501    …   5.05167e-7   0.715582\n",
       " 0.148781  0.108815  0.074737    0.129501        5.05167e-7   0.715582\n",
       " 0.148781  0.108815  0.074737    0.129501        5.05168e-7   0.715582\n",
       " 0.148781  0.108815  0.074737    0.129501        5.0517e-7    0.715582\n",
       " 0.148781  0.108815  0.0747371   0.129501        5.05173e-7   0.715582\n",
       " 0.148781  0.108815  0.0747371   0.129501    …   5.05179e-7   0.715582\n",
       " 0.148781  0.108815  0.0747373   0.129502        5.05197e-7   0.715582\n",
       " 0.148791  0.111145  0.0797735   0.135475        4.81966e-7   0.710529\n",
       " 0.149392  0.12702   0.114091    0.176181        4.86805e-9   0.676106\n",
       " 0.150912  0.142898  0.144468    0.211975        2.80673e-7   0.639884\n",
       " ⋮                                           ⋱               \n",
       " 0.297869  0.476327  0.184312    0.187243    …   3.03397e-8   1.62359e-7\n",
       " 0.309527  0.492204  0.165677    0.154989       -8.9992e-9   -7.7796e-9\n",
       " 0.321573  0.508082  0.147042    0.122734        1.32579e-8   3.7755e-8\n",
       " 0.333966  0.523959  0.128407    0.0904792       1.16838e-8   3.18288e-8\n",
       " 0.346669  0.539837  0.109772    0.0582246       1.03093e-8   2.7212e-8\n",
       " 0.359648  0.555714  0.0911362   0.0259704   …   9.09858e-9   2.35121e-8\n",
       " 0.372877  0.571592  0.066387    5.06548e-6      7.94583e-9   2.02395e-8\n",
       " 0.386423  0.587469  0.0164014   1.5598e-8      -9.33576e-9  -8.93223e-9\n",
       " 0.400891  0.603347  7.85193e-8  6.19307e-8      2.22588e-9   6.58209e-9"
      ]
     },
     "metadata": {},
     "output_type": "display_data"
    }
   ],
   "source": [
    "results_array_sim = let\n",
    "\n",
    "    # initialize -\n",
    "    efficient_frontier = efficient_frontier_sim; # use the SIM efficient frontier\n",
    "    number_of_portfolios = length(efficient_frontier); # how many portfolios do we have? (these all exited correctly)\n",
    "    M = length(my_list_of_tickers); # how many tickers do we have?\n",
    "    results_array = Array{Float64,2}(undef, number_of_portfolios, M+2);\n",
    "    risk_array_sorted = keys(efficient_frontier) |> collect |> sort;\n",
    "\n",
    "    for i ∈ eachindex(risk_array_sorted)\n",
    "        risk_value = risk_array_sorted[i] |> sqrt; # let's plot the sqrt of the risk\n",
    "        \n",
    "        data = efficient_frontier[risk_array_sorted[i]] # get the NamedTuple corresponding to this risk level\n",
    "        reward_value = data.reward;\n",
    "        w = data.w;\n",
    "\n",
    "        results_array[i,1] = risk_value;\n",
    "        results_array[i,2] = reward_value;\n",
    "        for j ∈ 1:M\n",
    "            results_array[i,2+j] = w[j];\n",
    "        end\n",
    "    end\n",
    "\n",
    "    results_array\n",
    "end"
   ]
  },
  {
   "cell_type": "markdown",
   "id": "7166f52d",
   "metadata": {},
   "source": [
    "### Visualize the efficient frontier\n",
    "Now that we have computed the optimal portfolios, let's visualize the classic risk-return trade-off that Markowitz theory reveals. The efficient frontier shows the boundary of achievable risk-return combinations for our selected assets.\n",
    "\n",
    "`Unhide` the code block below to see how we plotted the efficient frontier for the collection of equities and ETFs specified in the `my_list_of_tickers::Array{String,1}` array."
   ]
  },
  {
   "cell_type": "code",
   "execution_count": 27,
   "id": "b2af1534",
   "metadata": {},
   "outputs": [
    {
     "data": {
      "image/png": "[encoded data removed]",
      "image/svg+xml": [
       "<?xml version=\"1.0\" encoding=\"utf-8\"?>\n",
       "<svg xmlns=\"http://www.w3.org/2000/svg\" xmlns:xlink=\"http://www.w3.org/1999/xlink\" width=\"600\" height=\"400\" viewBox=\"0 0 2400 1600\">\n",
       "<defs>\n",
       "  <clipPath id=\"clip080\">\n",
       "    <rect x=\"0\" y=\"0\" width=\"2400\" height=\"1600\"/>\n",
       "  </clipPath>\n",
       "</defs>\n",
       "<path clip-path=\"url(#clip080)\" d=\"M0 1600 L2400 1600 L2400 8.88178e-14 L0 8.88178e-14  Z\" fill=\"#ffffff\" fill-rule=\"evenodd\" fill-opacity=\"1\"/>\n",
       "<defs>\n",
       "  <clipPath id=\"clip081\">\n",
       "    <rect x=\"480\" y=\"0\" width=\"1681\" height=\"1600\"/>\n",
       "  </clipPath>\n",
       "</defs>\n",
       "<path clip-path=\"url(#clip080)\" d=\"M219.866 1423.18 L2352.76 1423.18 L2352.76 47.2441 L219.866 47.2441  Z\" fill=\"#f2f2f2\" fill-rule=\"evenodd\" fill-opacity=\"1\"/>\n",
       "<defs>\n",
       "  <clipPath id=\"clip082\">\n",
       "    <rect x=\"219\" y=\"47\" width=\"2134\" height=\"1377\"/>\n",
       "  </clipPath>\n",
       "</defs>\n",
       "<polyline clip-path=\"url(#clip082)\" style=\"stroke:#000000; stroke-linecap:round; stroke-linejoin:round; stroke-width:2; stroke-opacity:0.1; fill:none\" points=\"219.866,1423.18 219.866,47.2441 \"/>\n",
       "<polyline clip-path=\"url(#clip082)\" style=\"stroke:#000000; stroke-linecap:round; stroke-linejoin:round; stroke-width:2; stroke-opacity:0.1; fill:none\" points=\"703.536,1423.18 703.536,47.2441 \"/>\n",
       "<polyline clip-path=\"url(#clip082)\" style=\"stroke:#000000; stroke-linecap:round; stroke-linejoin:round; stroke-width:2; stroke-opacity:0.1; fill:none\" points=\"1187.21,1423.18 1187.21,47.2441 \"/>\n",
       "<polyline clip-path=\"url(#clip082)\" style=\"stroke:#000000; stroke-linecap:round; stroke-linejoin:round; stroke-width:2; stroke-opacity:0.1; fill:none\" points=\"1670.88,1423.18 1670.88,47.2441 \"/>\n",
       "<polyline clip-path=\"url(#clip082)\" style=\"stroke:#000000; stroke-linecap:round; stroke-linejoin:round; stroke-width:2; stroke-opacity:0.1; fill:none\" points=\"2154.55,1423.18 2154.55,47.2441 \"/>\n",
       "<polyline clip-path=\"url(#clip082)\" style=\"stroke:#000000; stroke-linecap:round; stroke-linejoin:round; stroke-width:2; stroke-opacity:0.1; fill:none\" points=\"219.866,1423.18 219.866,47.2441 \"/>\n",
       "<polyline clip-path=\"url(#clip082)\" style=\"stroke:#000000; stroke-linecap:round; stroke-linejoin:round; stroke-width:2; stroke-opacity:0.1; fill:none\" points=\"703.536,1423.18 703.536,47.2441 \"/>\n",
       "<polyline clip-path=\"url(#clip082)\" style=\"stroke:#000000; stroke-linecap:round; stroke-linejoin:round; stroke-width:2; stroke-opacity:0.1; fill:none\" points=\"1187.21,1423.18 1187.21,47.2441 \"/>\n",
       "<polyline clip-path=\"url(#clip082)\" style=\"stroke:#000000; stroke-linecap:round; stroke-linejoin:round; stroke-width:2; stroke-opacity:0.1; fill:none\" points=\"1670.88,1423.18 1670.88,47.2441 \"/>\n",
       "<polyline clip-path=\"url(#clip082)\" style=\"stroke:#000000; stroke-linecap:round; stroke-linejoin:round; stroke-width:2; stroke-opacity:0.1; fill:none\" points=\"2154.55,1423.18 2154.55,47.2441 \"/>\n",
       "<polyline clip-path=\"url(#clip082)\" style=\"stroke:#000000; stroke-linecap:round; stroke-linejoin:round; stroke-width:2; stroke-opacity:0.1; fill:none\" points=\"219.866,1423.18 2352.76,1423.18 \"/>\n",
       "<polyline clip-path=\"url(#clip082)\" style=\"stroke:#000000; stroke-linecap:round; stroke-linejoin:round; stroke-width:2; stroke-opacity:0.1; fill:none\" points=\"219.866,1215.86 2352.76,1215.86 \"/>\n",
       "<polyline clip-path=\"url(#clip082)\" style=\"stroke:#000000; stroke-linecap:round; stroke-linejoin:round; stroke-width:2; stroke-opacity:0.1; fill:none\" points=\"219.866,1008.54 2352.76,1008.54 \"/>\n",
       "<polyline clip-path=\"url(#clip082)\" style=\"stroke:#000000; stroke-linecap:round; stroke-linejoin:round; stroke-width:2; stroke-opacity:0.1; fill:none\" points=\"219.866,801.224 2352.76,801.224 \"/>\n",
       "<polyline clip-path=\"url(#clip082)\" style=\"stroke:#000000; stroke-linecap:round; stroke-linejoin:round; stroke-width:2; stroke-opacity:0.1; fill:none\" points=\"219.866,593.905 2352.76,593.905 \"/>\n",
       "<polyline clip-path=\"url(#clip082)\" style=\"stroke:#000000; stroke-linecap:round; stroke-linejoin:round; stroke-width:2; stroke-opacity:0.1; fill:none\" points=\"219.866,386.587 2352.76,386.587 \"/>\n",
       "<polyline clip-path=\"url(#clip082)\" style=\"stroke:#000000; stroke-linecap:round; stroke-linejoin:round; stroke-width:2; stroke-opacity:0.1; fill:none\" points=\"219.866,179.268 2352.76,179.268 \"/>\n",
       "<polyline clip-path=\"url(#clip082)\" style=\"stroke:#000000; stroke-linecap:round; stroke-linejoin:round; stroke-width:2; stroke-opacity:0.1; fill:none\" points=\"219.866,1423.18 2352.76,1423.18 \"/>\n",
       "<polyline clip-path=\"url(#clip082)\" style=\"stroke:#000000; stroke-linecap:round; stroke-linejoin:round; stroke-width:2; stroke-opacity:0.1; fill:none\" points=\"219.866,1215.86 2352.76,1215.86 \"/>\n",
       "<polyline clip-path=\"url(#clip082)\" style=\"stroke:#000000; stroke-linecap:round; stroke-linejoin:round; stroke-width:2; stroke-opacity:0.1; fill:none\" points=\"219.866,1008.54 2352.76,1008.54 \"/>\n",
       "<polyline clip-path=\"url(#clip082)\" style=\"stroke:#000000; stroke-linecap:round; stroke-linejoin:round; stroke-width:2; stroke-opacity:0.1; fill:none\" points=\"219.866,801.224 2352.76,801.224 \"/>\n",
       "<polyline clip-path=\"url(#clip082)\" style=\"stroke:#000000; stroke-linecap:round; stroke-linejoin:round; stroke-width:2; stroke-opacity:0.1; fill:none\" points=\"219.866,593.905 2352.76,593.905 \"/>\n",
       "<polyline clip-path=\"url(#clip082)\" style=\"stroke:#000000; stroke-linecap:round; stroke-linejoin:round; stroke-width:2; stroke-opacity:0.1; fill:none\" points=\"219.866,386.587 2352.76,386.587 \"/>\n",
       "<polyline clip-path=\"url(#clip082)\" style=\"stroke:#000000; stroke-linecap:round; stroke-linejoin:round; stroke-width:2; stroke-opacity:0.1; fill:none\" points=\"219.866,179.268 2352.76,179.268 \"/>\n",
       "<polyline clip-path=\"url(#clip080)\" style=\"stroke:#000000; stroke-linecap:round; stroke-linejoin:round; stroke-width:4; stroke-opacity:1; fill:none\" points=\"219.866,1423.18 2352.76,1423.18 \"/>\n",
       "<polyline clip-path=\"url(#clip080)\" style=\"stroke:#000000; stroke-linecap:round; stroke-linejoin:round; stroke-width:4; stroke-opacity:1; fill:none\" points=\"219.866,47.2441 2352.76,47.2441 \"/>\n",
       "<polyline clip-path=\"url(#clip080)\" style=\"stroke:#000000; stroke-linecap:round; stroke-linejoin:round; stroke-width:4; stroke-opacity:1; fill:none\" points=\"219.866,1423.18 219.866,1404.28 \"/>\n",
       "<polyline clip-path=\"url(#clip080)\" style=\"stroke:#000000; stroke-linecap:round; stroke-linejoin:round; stroke-width:4; stroke-opacity:1; fill:none\" points=\"703.536,1423.18 703.536,1404.28 \"/>\n",
       "<polyline clip-path=\"url(#clip080)\" style=\"stroke:#000000; stroke-linecap:round; stroke-linejoin:round; stroke-width:4; stroke-opacity:1; fill:none\" points=\"1187.21,1423.18 1187.21,1404.28 \"/>\n",
       "<polyline clip-path=\"url(#clip080)\" style=\"stroke:#000000; stroke-linecap:round; stroke-linejoin:round; stroke-width:4; stroke-opacity:1; fill:none\" points=\"1670.88,1423.18 1670.88,1404.28 \"/>\n",
       "<polyline clip-path=\"url(#clip080)\" style=\"stroke:#000000; stroke-linecap:round; stroke-linejoin:round; stroke-width:4; stroke-opacity:1; fill:none\" points=\"2154.55,1423.18 2154.55,1404.28 \"/>\n",
       "<polyline clip-path=\"url(#clip080)\" style=\"stroke:#000000; stroke-linecap:round; stroke-linejoin:round; stroke-width:4; stroke-opacity:1; fill:none\" points=\"219.866,47.2441 219.866,66.1417 \"/>\n",
       "<polyline clip-path=\"url(#clip080)\" style=\"stroke:#000000; stroke-linecap:round; stroke-linejoin:round; stroke-width:4; stroke-opacity:1; fill:none\" points=\"703.536,47.2441 703.536,66.1417 \"/>\n",
       "<polyline clip-path=\"url(#clip080)\" style=\"stroke:#000000; stroke-linecap:round; stroke-linejoin:round; stroke-width:4; stroke-opacity:1; fill:none\" points=\"1187.21,47.2441 1187.21,66.1417 \"/>\n",
       "<polyline clip-path=\"url(#clip080)\" style=\"stroke:#000000; stroke-linecap:round; stroke-linejoin:round; stroke-width:4; stroke-opacity:1; fill:none\" points=\"1670.88,47.2441 1670.88,66.1417 \"/>\n",
       "<polyline clip-path=\"url(#clip080)\" style=\"stroke:#000000; stroke-linecap:round; stroke-linejoin:round; stroke-width:4; stroke-opacity:1; fill:none\" points=\"2154.55,47.2441 2154.55,66.1417 \"/>\n",
       "<path clip-path=\"url(#clip080)\" d=\"M197.251 1454.1 Q193.64 1454.1 191.811 1457.66 Q190.005 1461.2 190.005 1468.33 Q190.005 1475.44 191.811 1479.01 Q193.64 1482.55 197.251 1482.55 Q200.885 1482.55 202.69 1479.01 Q204.519 1475.44 204.519 1468.33 Q204.519 1461.2 202.69 1457.66 Q200.885 1454.1 197.251 1454.1 M197.251 1450.39 Q203.061 1450.39 206.116 1455 Q209.195 1459.58 209.195 1468.33 Q209.195 1477.06 206.116 1481.67 Q203.061 1486.25 197.251 1486.25 Q191.44 1486.25 188.362 1481.67 Q185.306 1477.06 185.306 1468.33 Q185.306 1459.58 188.362 1455 Q191.44 1450.39 197.251 1450.39 Z\" fill=\"#000000\" fill-rule=\"nonzero\" fill-opacity=\"1\" /><path clip-path=\"url(#clip080)\" d=\"M217.413 1479.7 L222.297 1479.7 L222.297 1485.58 L217.413 1485.58 L217.413 1479.7 Z\" fill=\"#000000\" fill-rule=\"nonzero\" fill-opacity=\"1\" /><path clip-path=\"url(#clip080)\" d=\"M242.482 1454.1 Q238.871 1454.1 237.042 1457.66 Q235.237 1461.2 235.237 1468.33 Q235.237 1475.44 237.042 1479.01 Q238.871 1482.55 242.482 1482.55 Q246.116 1482.55 247.922 1479.01 Q249.75 1475.44 249.75 1468.33 Q249.75 1461.2 247.922 1457.66 Q246.116 1454.1 242.482 1454.1 M242.482 1450.39 Q248.292 1450.39 251.348 1455 Q254.426 1459.58 254.426 1468.33 Q254.426 1477.06 251.348 1481.67 Q248.292 1486.25 242.482 1486.25 Q236.672 1486.25 233.593 1481.67 Q230.538 1477.06 230.538 1468.33 Q230.538 1459.58 233.593 1455 Q236.672 1450.39 242.482 1450.39 Z\" fill=\"#000000\" fill-rule=\"nonzero\" fill-opacity=\"1\" /><path clip-path=\"url(#clip080)\" d=\"M681.534 1454.1 Q677.923 1454.1 676.094 1457.66 Q674.289 1461.2 674.289 1468.33 Q674.289 1475.44 676.094 1479.01 Q677.923 1482.55 681.534 1482.55 Q685.168 1482.55 686.974 1479.01 Q688.802 1475.44 688.802 1468.33 Q688.802 1461.2 686.974 1457.66 Q685.168 1454.1 681.534 1454.1 M681.534 1450.39 Q687.344 1450.39 690.4 1455 Q693.478 1459.58 693.478 1468.33 Q693.478 1477.06 690.4 1481.67 Q687.344 1486.25 681.534 1486.25 Q675.724 1486.25 672.645 1481.67 Q669.59 1477.06 669.59 1468.33 Q669.59 1459.58 672.645 1455 Q675.724 1450.39 681.534 1450.39 Z\" fill=\"#000000\" fill-rule=\"nonzero\" fill-opacity=\"1\" /><path clip-path=\"url(#clip080)\" d=\"M701.696 1479.7 L706.58 1479.7 L706.58 1485.58 L701.696 1485.58 L701.696 1479.7 Z\" fill=\"#000000\" fill-rule=\"nonzero\" fill-opacity=\"1\" /><path clip-path=\"url(#clip080)\" d=\"M717.575 1481.64 L725.214 1481.64 L725.214 1455.28 L716.904 1456.95 L716.904 1452.69 L725.168 1451.02 L729.844 1451.02 L729.844 1481.64 L737.483 1481.64 L737.483 1485.58 L717.575 1485.58 L717.575 1481.64 Z\" fill=\"#000000\" fill-rule=\"nonzero\" fill-opacity=\"1\" /><path clip-path=\"url(#clip080)\" d=\"M1165.39 1454.1 Q1161.78 1454.1 1159.95 1457.66 Q1158.14 1461.2 1158.14 1468.33 Q1158.14 1475.44 1159.95 1479.01 Q1161.78 1482.55 1165.39 1482.55 Q1169.02 1482.55 1170.83 1479.01 Q1172.66 1475.44 1172.66 1468.33 Q1172.66 1461.2 1170.83 1457.66 Q1169.02 1454.1 1165.39 1454.1 M1165.39 1450.39 Q1171.2 1450.39 1174.25 1455 Q1177.33 1459.58 1177.33 1468.33 Q1177.33 1477.06 1174.25 1481.67 Q1171.2 1486.25 1165.39 1486.25 Q1159.58 1486.25 1156.5 1481.67 Q1153.44 1477.06 1153.44 1468.33 Q1153.44 1459.58 1156.5 1455 Q1159.58 1450.39 1165.39 1450.39 Z\" fill=\"#000000\" fill-rule=\"nonzero\" fill-opacity=\"1\" /><path clip-path=\"url(#clip080)\" d=\"M1185.55 1479.7 L1190.44 1479.7 L1190.44 1485.58 L1185.55 1485.58 L1185.55 1479.7 Z\" fill=\"#000000\" fill-rule=\"nonzero\" fill-opacity=\"1\" /><path clip-path=\"url(#clip080)\" d=\"M1204.65 1481.64 L1220.97 1481.64 L1220.97 1485.58 L1199.02 1485.58 L1199.02 1481.64 Q1201.68 1478.89 1206.27 1474.26 Q1210.87 1469.61 1212.06 1468.27 Q1214.3 1465.74 1215.18 1464.01 Q1216.08 1462.25 1216.08 1460.56 Q1216.08 1457.8 1214.14 1456.07 Q1212.22 1454.33 1209.12 1454.33 Q1206.92 1454.33 1204.46 1455.09 Q1202.03 1455.86 1199.25 1457.41 L1199.25 1452.69 Q1202.08 1451.55 1204.53 1450.97 Q1206.99 1450.39 1209.02 1450.39 Q1214.39 1450.39 1217.59 1453.08 Q1220.78 1455.77 1220.78 1460.26 Q1220.78 1462.39 1219.97 1464.31 Q1219.18 1466.2 1217.08 1468.8 Q1216.5 1469.47 1213.4 1472.69 Q1210.3 1475.88 1204.65 1481.64 Z\" fill=\"#000000\" fill-rule=\"nonzero\" fill-opacity=\"1\" /><path clip-path=\"url(#clip080)\" d=\"M1648.58 1454.1 Q1644.97 1454.1 1643.14 1457.66 Q1641.34 1461.2 1641.34 1468.33 Q1641.34 1475.44 1643.14 1479.01 Q1644.97 1482.55 1648.58 1482.55 Q1652.22 1482.55 1654.02 1479.01 Q1655.85 1475.44 1655.85 1468.33 Q1655.85 1461.2 1654.02 1457.66 Q1652.22 1454.1 1648.58 1454.1 M1648.58 1450.39 Q1654.39 1450.39 1657.45 1455 Q1660.53 1459.58 1660.53 1468.33 Q1660.53 1477.06 1657.45 1481.67 Q1654.39 1486.25 1648.58 1486.25 Q1642.77 1486.25 1639.7 1481.67 Q1636.64 1477.06 1636.64 1468.33 Q1636.64 1459.58 1639.7 1455 Q1642.77 1450.39 1648.58 1450.39 Z\" fill=\"#000000\" fill-rule=\"nonzero\" fill-opacity=\"1\" /><path clip-path=\"url(#clip080)\" d=\"M1668.75 1479.7 L1673.63 1479.7 L1673.63 1485.58 L1668.75 1485.58 L1668.75 1479.7 Z\" fill=\"#000000\" fill-rule=\"nonzero\" fill-opacity=\"1\" /><path clip-path=\"url(#clip080)\" d=\"M1697.98 1466.95 Q1701.34 1467.66 1703.21 1469.93 Q1705.11 1472.2 1705.11 1475.53 Q1705.11 1480.65 1701.59 1483.45 Q1698.07 1486.25 1691.59 1486.25 Q1689.42 1486.25 1687.1 1485.81 Q1684.81 1485.39 1682.36 1484.54 L1682.36 1480.02 Q1684.3 1481.16 1686.62 1481.74 Q1688.93 1482.32 1691.45 1482.32 Q1695.85 1482.32 1698.14 1480.58 Q1700.46 1478.84 1700.46 1475.53 Q1700.46 1472.48 1698.31 1470.77 Q1696.18 1469.03 1692.36 1469.03 L1688.33 1469.03 L1688.33 1465.19 L1692.54 1465.19 Q1695.99 1465.19 1697.82 1463.82 Q1699.65 1462.43 1699.65 1459.84 Q1699.65 1457.18 1697.75 1455.77 Q1695.88 1454.33 1692.36 1454.33 Q1690.44 1454.33 1688.24 1454.75 Q1686.04 1455.16 1683.4 1456.04 L1683.4 1451.88 Q1686.06 1451.14 1688.38 1450.77 Q1690.71 1450.39 1692.77 1450.39 Q1698.1 1450.39 1701.2 1452.83 Q1704.3 1455.23 1704.3 1459.35 Q1704.3 1462.22 1702.66 1464.21 Q1701.01 1466.18 1697.98 1466.95 Z\" fill=\"#000000\" fill-rule=\"nonzero\" fill-opacity=\"1\" /><path clip-path=\"url(#clip080)\" d=\"M2131.69 1454.1 Q2128.08 1454.1 2126.25 1457.66 Q2124.44 1461.2 2124.44 1468.33 Q2124.44 1475.44 2126.25 1479.01 Q2128.08 1482.55 2131.69 1482.55 Q2135.32 1482.55 2137.13 1479.01 Q2138.96 1475.44 2138.96 1468.33 Q2138.96 1461.2 2137.13 1457.66 Q2135.32 1454.1 2131.69 1454.1 M2131.69 1450.39 Q2137.5 1450.39 2140.55 1455 Q2143.63 1459.58 2143.63 1468.33 Q2143.63 1477.06 2140.55 1481.67 Q2137.5 1486.25 2131.69 1486.25 Q2125.88 1486.25 2122.8 1481.67 Q2119.74 1477.06 2119.74 1468.33 Q2119.74 1459.58 2122.8 1455 Q2125.88 1450.39 2131.69 1450.39 Z\" fill=\"#000000\" fill-rule=\"nonzero\" fill-opacity=\"1\" /><path clip-path=\"url(#clip080)\" d=\"M2151.85 1479.7 L2156.73 1479.7 L2156.73 1485.58 L2151.85 1485.58 L2151.85 1479.7 Z\" fill=\"#000000\" fill-rule=\"nonzero\" fill-opacity=\"1\" /><path clip-path=\"url(#clip080)\" d=\"M2179.77 1455.09 L2167.96 1473.54 L2179.77 1473.54 L2179.77 1455.09 M2178.54 1451.02 L2184.42 1451.02 L2184.42 1473.54 L2189.35 1473.54 L2189.35 1477.43 L2184.42 1477.43 L2184.42 1485.58 L2179.77 1485.58 L2179.77 1477.43 L2164.16 1477.43 L2164.16 1472.92 L2178.54 1451.02 Z\" fill=\"#000000\" fill-rule=\"nonzero\" fill-opacity=\"1\" /><path clip-path=\"url(#clip080)\" d=\"M1007.33 1545.76 Q1009.4 1546.46 1011.34 1548.76 Q1013.32 1551.05 1015.29 1555.06 L1021.82 1568.04 L1014.91 1568.04 L1008.83 1555.85 Q1006.47 1551.08 1004.25 1549.52 Q1002.05 1547.96 998.231 1547.96 L991.229 1547.96 L991.229 1568.04 L984.799 1568.04 L984.799 1520.52 L999.313 1520.52 Q1007.46 1520.52 1011.47 1523.93 Q1015.48 1527.34 1015.48 1534.21 Q1015.48 1538.7 1013.38 1541.66 Q1011.31 1544.62 1007.33 1545.76 M991.229 1525.81 L991.229 1542.68 L999.313 1542.68 Q1003.96 1542.68 1006.32 1540.54 Q1008.7 1538.38 1008.7 1534.21 Q1008.7 1530.04 1006.32 1527.94 Q1003.96 1525.81 999.313 1525.81 L991.229 1525.81 Z\" fill=\"#000000\" fill-rule=\"nonzero\" fill-opacity=\"1\" /><path clip-path=\"url(#clip080)\" d=\"M1029.84 1532.4 L1035.69 1532.4 L1035.69 1568.04 L1029.84 1568.04 L1029.84 1532.4 M1029.84 1518.52 L1035.69 1518.52 L1035.69 1525.93 L1029.84 1525.93 L1029.84 1518.52 Z\" fill=\"#000000\" fill-rule=\"nonzero\" fill-opacity=\"1\" /><path clip-path=\"url(#clip080)\" d=\"M1070.67 1533.45 L1070.67 1538.98 Q1068.19 1537.71 1065.52 1537.07 Q1062.84 1536.44 1059.98 1536.44 Q1055.62 1536.44 1053.42 1537.77 Q1051.26 1539.11 1051.26 1541.79 Q1051.26 1543.82 1052.82 1545 Q1054.38 1546.15 1059.09 1547.2 L1061.09 1547.64 Q1067.33 1548.98 1069.94 1551.43 Q1072.58 1553.85 1072.58 1558.21 Q1072.58 1563.17 1068.64 1566.07 Q1064.72 1568.97 1057.85 1568.97 Q1054.98 1568.97 1051.86 1568.39 Q1048.77 1567.85 1045.34 1566.74 L1045.34 1560.69 Q1048.58 1562.38 1051.73 1563.24 Q1054.89 1564.07 1057.97 1564.07 Q1062.11 1564.07 1064.34 1562.66 Q1066.57 1561.23 1066.57 1558.65 Q1066.57 1556.27 1064.94 1554.99 Q1063.35 1553.72 1057.91 1552.54 L1055.87 1552.07 Q1050.43 1550.92 1048.01 1548.56 Q1045.59 1546.18 1045.59 1542.04 Q1045.59 1537.01 1049.16 1534.27 Q1052.72 1531.54 1059.28 1531.54 Q1062.52 1531.54 1065.39 1532.01 Q1068.25 1532.49 1070.67 1533.45 Z\" fill=\"#000000\" fill-rule=\"nonzero\" fill-opacity=\"1\" /><path clip-path=\"url(#clip080)\" d=\"M1081.69 1518.52 L1087.57 1518.52 L1087.57 1547.77 L1105.05 1532.4 L1112.53 1532.4 L1093.62 1549.07 L1113.32 1568.04 L1105.68 1568.04 L1087.57 1550.63 L1087.57 1568.04 L1081.69 1568.04 L1081.69 1518.52 Z\" fill=\"#000000\" fill-rule=\"nonzero\" fill-opacity=\"1\" /><path clip-path=\"url(#clip080)\" d=\"M1163.1 1533.45 L1163.1 1538.98 Q1160.62 1537.71 1157.95 1537.07 Q1155.27 1536.44 1152.41 1536.44 Q1148.05 1536.44 1145.85 1537.77 Q1143.69 1539.11 1143.69 1541.79 Q1143.69 1543.82 1145.25 1545 Q1146.81 1546.15 1151.52 1547.2 L1153.52 1547.64 Q1159.76 1548.98 1162.37 1551.43 Q1165.01 1553.85 1165.01 1558.21 Q1165.01 1563.17 1161.07 1566.07 Q1157.15 1568.97 1150.28 1568.97 Q1147.41 1568.97 1144.29 1568.39 Q1141.2 1567.85 1137.77 1566.74 L1137.77 1560.69 Q1141.01 1562.38 1144.16 1563.24 Q1147.32 1564.07 1150.4 1564.07 Q1154.54 1564.07 1156.77 1562.66 Q1159 1561.23 1159 1558.65 Q1159 1556.27 1157.37 1554.99 Q1155.78 1553.72 1150.34 1552.54 L1148.3 1552.07 Q1142.86 1550.92 1140.44 1548.56 Q1138.02 1546.18 1138.02 1542.04 Q1138.02 1537.01 1141.59 1534.27 Q1145.15 1531.54 1151.71 1531.54 Q1154.95 1531.54 1157.82 1532.01 Q1160.68 1532.49 1163.1 1533.45 Z\" fill=\"#000000\" fill-rule=\"nonzero\" fill-opacity=\"1\" /><path clip-path=\"url(#clip080)\" d=\"M1177.84 1550.25 Q1177.84 1556.71 1180.48 1560.4 Q1183.15 1564.07 1187.8 1564.07 Q1192.45 1564.07 1195.12 1560.4 Q1197.8 1556.71 1197.8 1550.25 Q1197.8 1543.79 1195.12 1540.13 Q1192.45 1536.44 1187.8 1536.44 Q1183.15 1536.44 1180.48 1540.13 Q1177.84 1543.79 1177.84 1550.25 M1197.8 1562.7 Q1195.95 1565.88 1193.12 1567.44 Q1190.32 1568.97 1186.37 1568.97 Q1179.91 1568.97 1175.83 1563.81 Q1171.79 1558.65 1171.79 1550.25 Q1171.79 1541.85 1175.83 1536.69 Q1179.91 1531.54 1186.37 1531.54 Q1190.32 1531.54 1193.12 1533.1 Q1195.95 1534.62 1197.8 1537.81 L1197.8 1532.4 L1203.65 1532.4 L1203.65 1581.6 L1197.8 1581.6 L1197.8 1562.7 Z\" fill=\"#000000\" fill-rule=\"nonzero\" fill-opacity=\"1\" /><path clip-path=\"url(#clip080)\" d=\"M1236.37 1537.87 Q1235.39 1537.3 1234.21 1537.04 Q1233.06 1536.76 1231.66 1536.76 Q1226.7 1536.76 1224.02 1540 Q1221.38 1543.22 1221.38 1549.27 L1221.38 1568.04 L1215.49 1568.04 L1215.49 1532.4 L1221.38 1532.4 L1221.38 1537.93 Q1223.23 1534.69 1226.19 1533.13 Q1229.15 1531.54 1233.38 1531.54 Q1233.98 1531.54 1234.72 1531.63 Q1235.45 1531.7 1236.34 1531.85 L1236.37 1537.87 Z\" fill=\"#000000\" fill-rule=\"nonzero\" fill-opacity=\"1\" /><path clip-path=\"url(#clip080)\" d=\"M1248.31 1522.27 L1248.31 1532.4 L1260.37 1532.4 L1260.37 1536.95 L1248.31 1536.95 L1248.31 1556.3 Q1248.31 1560.66 1249.49 1561.9 Q1250.69 1563.14 1254.36 1563.14 L1260.37 1563.14 L1260.37 1568.04 L1254.36 1568.04 Q1247.58 1568.04 1245 1565.53 Q1242.42 1562.98 1242.42 1556.3 L1242.42 1536.95 L1238.12 1536.95 L1238.12 1532.4 L1242.42 1532.4 L1242.42 1522.27 L1248.31 1522.27 Z\" fill=\"#000000\" fill-rule=\"nonzero\" fill-opacity=\"1\" /><path clip-path=\"url(#clip080)\" d=\"M1282.14 1518.58 Q1277.88 1525.9 1275.81 1533.06 Q1273.74 1540.23 1273.74 1547.58 Q1273.74 1554.93 1275.81 1562.16 Q1277.91 1569.35 1282.14 1576.64 L1277.05 1576.64 Q1272.27 1569.16 1269.89 1561.93 Q1267.53 1554.71 1267.53 1547.58 Q1267.53 1540.48 1269.89 1533.29 Q1272.24 1526.09 1277.05 1518.58 L1282.14 1518.58 Z\" fill=\"#000000\" fill-rule=\"nonzero\" fill-opacity=\"1\" /><path clip-path=\"url(#clip080)\" d=\"M1289.3 1532.4 L1295.51 1532.4 L1306.65 1562.31 L1317.79 1532.4 L1324 1532.4 L1310.63 1568.04 L1302.67 1568.04 L1289.3 1532.4 Z\" fill=\"#000000\" fill-rule=\"nonzero\" fill-opacity=\"1\" /><path clip-path=\"url(#clip080)\" d=\"M1348.28 1550.12 Q1341.18 1550.12 1338.45 1551.75 Q1335.71 1553.37 1335.71 1557.29 Q1335.71 1560.4 1337.75 1562.25 Q1339.81 1564.07 1343.35 1564.07 Q1348.22 1564.07 1351.15 1560.63 Q1354.11 1557.16 1354.11 1551.43 L1354.11 1550.12 L1348.28 1550.12 M1359.96 1547.71 L1359.96 1568.04 L1354.11 1568.04 L1354.11 1562.63 Q1352.1 1565.88 1349.11 1567.44 Q1346.12 1568.97 1341.79 1568.97 Q1336.31 1568.97 1333.07 1565.91 Q1329.85 1562.82 1329.85 1557.67 Q1329.85 1551.65 1333.86 1548.6 Q1337.91 1545.54 1345.89 1545.54 L1354.11 1545.54 L1354.11 1544.97 Q1354.11 1540.93 1351.43 1538.73 Q1348.79 1536.5 1343.98 1536.5 Q1340.93 1536.5 1338.03 1537.23 Q1335.14 1537.97 1332.46 1539.43 L1332.46 1534.02 Q1335.68 1532.78 1338.7 1532.17 Q1341.72 1531.54 1344.59 1531.54 Q1352.32 1531.54 1356.14 1535.55 Q1359.96 1539.56 1359.96 1547.71 Z\" fill=\"#000000\" fill-rule=\"nonzero\" fill-opacity=\"1\" /><path clip-path=\"url(#clip080)\" d=\"M1392.68 1537.87 Q1391.7 1537.3 1390.52 1537.04 Q1389.37 1536.76 1387.97 1536.76 Q1383.01 1536.76 1380.33 1540 Q1377.69 1543.22 1377.69 1549.27 L1377.69 1568.04 L1371.8 1568.04 L1371.8 1532.4 L1377.69 1532.4 L1377.69 1537.93 Q1379.54 1534.69 1382.5 1533.13 Q1385.46 1531.54 1389.69 1531.54 Q1390.29 1531.54 1391.03 1531.63 Q1391.76 1531.7 1392.65 1531.85 L1392.68 1537.87 Z\" fill=\"#000000\" fill-rule=\"nonzero\" fill-opacity=\"1\" /><path clip-path=\"url(#clip080)\" d=\"M1398.82 1532.4 L1404.68 1532.4 L1404.68 1568.04 L1398.82 1568.04 L1398.82 1532.4 M1398.82 1518.52 L1404.68 1518.52 L1404.68 1525.93 L1398.82 1525.93 L1398.82 1518.52 Z\" fill=\"#000000\" fill-rule=\"nonzero\" fill-opacity=\"1\" /><path clip-path=\"url(#clip080)\" d=\"M1433.14 1550.12 Q1426.04 1550.12 1423.3 1551.75 Q1420.56 1553.37 1420.56 1557.29 Q1420.56 1560.4 1422.6 1562.25 Q1424.67 1564.07 1428.2 1564.07 Q1433.07 1564.07 1436 1560.63 Q1438.96 1557.16 1438.96 1551.43 L1438.96 1550.12 L1433.14 1550.12 M1444.82 1547.71 L1444.82 1568.04 L1438.96 1568.04 L1438.96 1562.63 Q1436.96 1565.88 1433.96 1567.44 Q1430.97 1568.97 1426.64 1568.97 Q1421.17 1568.97 1417.92 1565.91 Q1414.71 1562.82 1414.71 1557.67 Q1414.71 1551.65 1418.72 1548.6 Q1422.76 1545.54 1430.75 1545.54 L1438.96 1545.54 L1438.96 1544.97 Q1438.96 1540.93 1436.29 1538.73 Q1433.65 1536.5 1428.84 1536.5 Q1425.78 1536.5 1422.89 1537.23 Q1419.99 1537.97 1417.32 1539.43 L1417.32 1534.02 Q1420.53 1532.78 1423.56 1532.17 Q1426.58 1531.54 1429.44 1531.54 Q1437.18 1531.54 1441 1535.55 Q1444.82 1539.56 1444.82 1547.71 Z\" fill=\"#000000\" fill-rule=\"nonzero\" fill-opacity=\"1\" /><path clip-path=\"url(#clip080)\" d=\"M1486.51 1546.53 L1486.51 1568.04 L1480.66 1568.04 L1480.66 1546.72 Q1480.66 1541.66 1478.68 1539.14 Q1476.71 1536.63 1472.76 1536.63 Q1468.02 1536.63 1465.28 1539.65 Q1462.55 1542.68 1462.55 1547.9 L1462.55 1568.04 L1456.66 1568.04 L1456.66 1532.4 L1462.55 1532.4 L1462.55 1537.93 Q1464.65 1534.72 1467.48 1533.13 Q1470.34 1531.54 1474.07 1531.54 Q1480.21 1531.54 1483.36 1535.36 Q1486.51 1539.14 1486.51 1546.53 Z\" fill=\"#000000\" fill-rule=\"nonzero\" fill-opacity=\"1\" /><path clip-path=\"url(#clip080)\" d=\"M1523.85 1533.76 L1523.85 1539.24 Q1521.36 1537.87 1518.85 1537.2 Q1516.37 1536.5 1513.82 1536.5 Q1508.12 1536.5 1504.97 1540.13 Q1501.82 1543.73 1501.82 1550.25 Q1501.82 1556.78 1504.97 1560.4 Q1508.12 1564 1513.82 1564 Q1516.37 1564 1518.85 1563.33 Q1521.36 1562.63 1523.85 1561.26 L1523.85 1566.68 Q1521.4 1567.82 1518.75 1568.39 Q1516.14 1568.97 1513.18 1568.97 Q1505.13 1568.97 1500.39 1563.91 Q1495.65 1558.85 1495.65 1550.25 Q1495.65 1541.53 1500.42 1536.53 Q1505.23 1531.54 1513.57 1531.54 Q1516.27 1531.54 1518.85 1532.11 Q1521.43 1532.65 1523.85 1533.76 Z\" fill=\"#000000\" fill-rule=\"nonzero\" fill-opacity=\"1\" /><path clip-path=\"url(#clip080)\" d=\"M1564.52 1548.76 L1564.52 1551.62 L1537.6 1551.62 Q1537.98 1557.67 1541.23 1560.85 Q1544.5 1564 1550.33 1564 Q1553.7 1564 1556.85 1563.17 Q1560.04 1562.35 1563.16 1560.69 L1563.16 1566.23 Q1560 1567.57 1556.69 1568.27 Q1553.38 1568.97 1549.98 1568.97 Q1541.45 1568.97 1536.45 1564 Q1531.49 1559.04 1531.49 1550.57 Q1531.49 1541.82 1536.2 1536.69 Q1540.94 1531.54 1548.96 1531.54 Q1556.15 1531.54 1560.32 1536.18 Q1564.52 1540.8 1564.52 1548.76 M1558.67 1547.04 Q1558.6 1542.23 1555.96 1539.37 Q1553.35 1536.5 1549.02 1536.5 Q1544.12 1536.5 1541.16 1539.27 Q1538.23 1542.04 1537.79 1547.07 L1558.67 1547.04 Z\" fill=\"#000000\" fill-rule=\"nonzero\" fill-opacity=\"1\" /><path clip-path=\"url(#clip080)\" d=\"M1573.21 1518.58 L1578.31 1518.58 Q1583.08 1526.09 1585.44 1533.29 Q1587.82 1540.48 1587.82 1547.58 Q1587.82 1554.71 1585.44 1561.93 Q1583.08 1569.16 1578.31 1576.64 L1573.21 1576.64 Q1577.45 1569.35 1579.52 1562.16 Q1581.62 1554.93 1581.62 1547.58 Q1581.62 1540.23 1579.52 1533.06 Q1577.45 1525.9 1573.21 1518.58 Z\" fill=\"#000000\" fill-rule=\"nonzero\" fill-opacity=\"1\" /><polyline clip-path=\"url(#clip080)\" style=\"stroke:#000000; stroke-linecap:round; stroke-linejoin:round; stroke-width:4; stroke-opacity:1; fill:none\" points=\"219.866,1423.18 219.866,47.2441 \"/>\n",
       "<polyline clip-path=\"url(#clip080)\" style=\"stroke:#000000; stroke-linecap:round; stroke-linejoin:round; stroke-width:4; stroke-opacity:1; fill:none\" points=\"2352.76,1423.18 2352.76,47.2441 \"/>\n",
       "<polyline clip-path=\"url(#clip080)\" style=\"stroke:#000000; stroke-linecap:round; stroke-linejoin:round; stroke-width:4; stroke-opacity:1; fill:none\" points=\"219.866,1423.18 238.764,1423.18 \"/>\n",
       "<polyline clip-path=\"url(#clip080)\" style=\"stroke:#000000; stroke-linecap:round; stroke-linejoin:round; stroke-width:4; stroke-opacity:1; fill:none\" points=\"219.866,1215.86 238.764,1215.86 \"/>\n",
       "<polyline clip-path=\"url(#clip080)\" style=\"stroke:#000000; stroke-linecap:round; stroke-linejoin:round; stroke-width:4; stroke-opacity:1; fill:none\" points=\"219.866,1008.54 238.764,1008.54 \"/>\n",
       "<polyline clip-path=\"url(#clip080)\" style=\"stroke:#000000; stroke-linecap:round; stroke-linejoin:round; stroke-width:4; stroke-opacity:1; fill:none\" points=\"219.866,801.224 238.764,801.224 \"/>\n",
       "<polyline clip-path=\"url(#clip080)\" style=\"stroke:#000000; stroke-linecap:round; stroke-linejoin:round; stroke-width:4; stroke-opacity:1; fill:none\" points=\"219.866,593.905 238.764,593.905 \"/>\n",
       "<polyline clip-path=\"url(#clip080)\" style=\"stroke:#000000; stroke-linecap:round; stroke-linejoin:round; stroke-width:4; stroke-opacity:1; fill:none\" points=\"219.866,386.587 238.764,386.587 \"/>\n",
       "<polyline clip-path=\"url(#clip080)\" style=\"stroke:#000000; stroke-linecap:round; stroke-linejoin:round; stroke-width:4; stroke-opacity:1; fill:none\" points=\"219.866,179.268 238.764,179.268 \"/>\n",
       "<polyline clip-path=\"url(#clip080)\" style=\"stroke:#000000; stroke-linecap:round; stroke-linejoin:round; stroke-width:4; stroke-opacity:1; fill:none\" points=\"2352.76,1423.18 2333.86,1423.18 \"/>\n",
       "<polyline clip-path=\"url(#clip080)\" style=\"stroke:#000000; stroke-linecap:round; stroke-linejoin:round; stroke-width:4; stroke-opacity:1; fill:none\" points=\"2352.76,1215.86 2333.86,1215.86 \"/>\n",
       "<polyline clip-path=\"url(#clip080)\" style=\"stroke:#000000; stroke-linecap:round; stroke-linejoin:round; stroke-width:4; stroke-opacity:1; fill:none\" points=\"2352.76,1008.54 2333.86,1008.54 \"/>\n",
       "<polyline clip-path=\"url(#clip080)\" style=\"stroke:#000000; stroke-linecap:round; stroke-linejoin:round; stroke-width:4; stroke-opacity:1; fill:none\" points=\"2352.76,801.224 2333.86,801.224 \"/>\n",
       "<polyline clip-path=\"url(#clip080)\" style=\"stroke:#000000; stroke-linecap:round; stroke-linejoin:round; stroke-width:4; stroke-opacity:1; fill:none\" points=\"2352.76,593.905 2333.86,593.905 \"/>\n",
       "<polyline clip-path=\"url(#clip080)\" style=\"stroke:#000000; stroke-linecap:round; stroke-linejoin:round; stroke-width:4; stroke-opacity:1; fill:none\" points=\"2352.76,386.587 2333.86,386.587 \"/>\n",
       "<polyline clip-path=\"url(#clip080)\" style=\"stroke:#000000; stroke-linecap:round; stroke-linejoin:round; stroke-width:4; stroke-opacity:1; fill:none\" points=\"2352.76,179.268 2333.86,179.268 \"/>\n",
       "<path clip-path=\"url(#clip080)\" d=\"M126.691 1408.98 Q123.08 1408.98 121.251 1412.54 Q119.445 1416.08 119.445 1423.21 Q119.445 1430.32 121.251 1433.89 Q123.08 1437.43 126.691 1437.43 Q130.325 1437.43 132.13 1433.89 Q133.959 1430.32 133.959 1423.21 Q133.959 1416.08 132.13 1412.54 Q130.325 1408.98 126.691 1408.98 M126.691 1405.27 Q132.501 1405.27 135.556 1409.88 Q138.635 1414.46 138.635 1423.21 Q138.635 1431.94 135.556 1436.55 Q132.501 1441.13 126.691 1441.13 Q120.88 1441.13 117.802 1436.55 Q114.746 1431.94 114.746 1423.21 Q114.746 1414.46 117.802 1409.88 Q120.88 1405.27 126.691 1405.27 Z\" fill=\"#000000\" fill-rule=\"nonzero\" fill-opacity=\"1\" /><path clip-path=\"url(#clip080)\" d=\"M146.853 1434.58 L151.737 1434.58 L151.737 1440.46 L146.853 1440.46 L146.853 1434.58 Z\" fill=\"#000000\" fill-rule=\"nonzero\" fill-opacity=\"1\" /><path clip-path=\"url(#clip080)\" d=\"M171.922 1408.98 Q168.311 1408.98 166.482 1412.54 Q164.677 1416.08 164.677 1423.21 Q164.677 1430.32 166.482 1433.89 Q168.311 1437.43 171.922 1437.43 Q175.556 1437.43 177.362 1433.89 Q179.19 1430.32 179.19 1423.21 Q179.19 1416.08 177.362 1412.54 Q175.556 1408.98 171.922 1408.98 M171.922 1405.27 Q177.732 1405.27 180.788 1409.88 Q183.866 1414.46 183.866 1423.21 Q183.866 1431.94 180.788 1436.55 Q177.732 1441.13 171.922 1441.13 Q166.112 1441.13 163.033 1436.55 Q159.978 1431.94 159.978 1423.21 Q159.978 1414.46 163.033 1409.88 Q166.112 1405.27 171.922 1405.27 Z\" fill=\"#000000\" fill-rule=\"nonzero\" fill-opacity=\"1\" /><path clip-path=\"url(#clip080)\" d=\"M127.917 1201.66 Q124.306 1201.66 122.478 1205.22 Q120.672 1208.77 120.672 1215.9 Q120.672 1223 122.478 1226.57 Q124.306 1230.11 127.917 1230.11 Q131.552 1230.11 133.357 1226.57 Q135.186 1223 135.186 1215.9 Q135.186 1208.77 133.357 1205.22 Q131.552 1201.66 127.917 1201.66 M127.917 1197.96 Q133.728 1197.96 136.783 1202.56 Q139.862 1207.15 139.862 1215.9 Q139.862 1224.62 136.783 1229.23 Q133.728 1233.81 127.917 1233.81 Q122.107 1233.81 119.029 1229.23 Q115.973 1224.62 115.973 1215.9 Q115.973 1207.15 119.029 1202.56 Q122.107 1197.96 127.917 1197.96 Z\" fill=\"#000000\" fill-rule=\"nonzero\" fill-opacity=\"1\" /><path clip-path=\"url(#clip080)\" d=\"M148.079 1227.26 L152.964 1227.26 L152.964 1233.14 L148.079 1233.14 L148.079 1227.26 Z\" fill=\"#000000\" fill-rule=\"nonzero\" fill-opacity=\"1\" /><path clip-path=\"url(#clip080)\" d=\"M163.959 1229.21 L171.598 1229.21 L171.598 1202.84 L163.288 1204.51 L163.288 1200.25 L171.552 1198.58 L176.227 1198.58 L176.227 1229.21 L183.866 1229.21 L183.866 1233.14 L163.959 1233.14 L163.959 1229.21 Z\" fill=\"#000000\" fill-rule=\"nonzero\" fill-opacity=\"1\" /><path clip-path=\"url(#clip080)\" d=\"M128.288 994.341 Q124.677 994.341 122.848 997.906 Q121.043 1001.45 121.043 1008.58 Q121.043 1015.68 122.848 1019.25 Q124.677 1022.79 128.288 1022.79 Q131.922 1022.79 133.728 1019.25 Q135.556 1015.68 135.556 1008.58 Q135.556 1001.45 133.728 997.906 Q131.922 994.341 128.288 994.341 M128.288 990.638 Q134.098 990.638 137.154 995.244 Q140.232 999.827 140.232 1008.58 Q140.232 1017.3 137.154 1021.91 Q134.098 1026.49 128.288 1026.49 Q122.478 1026.49 119.399 1021.91 Q116.343 1017.3 116.343 1008.58 Q116.343 999.827 119.399 995.244 Q122.478 990.638 128.288 990.638 Z\" fill=\"#000000\" fill-rule=\"nonzero\" fill-opacity=\"1\" /><path clip-path=\"url(#clip080)\" d=\"M148.45 1019.94 L153.334 1019.94 L153.334 1025.82 L148.45 1025.82 L148.45 1019.94 Z\" fill=\"#000000\" fill-rule=\"nonzero\" fill-opacity=\"1\" /><path clip-path=\"url(#clip080)\" d=\"M167.547 1021.89 L183.866 1021.89 L183.866 1025.82 L161.922 1025.82 L161.922 1021.89 Q164.584 1019.13 169.167 1014.5 Q173.774 1009.85 174.954 1008.51 Q177.2 1005.98 178.079 1004.25 Q178.982 1002.49 178.982 1000.8 Q178.982 998.045 177.038 996.309 Q175.116 994.573 172.014 994.573 Q169.815 994.573 167.362 995.337 Q164.931 996.1 162.153 997.651 L162.153 992.929 Q164.977 991.795 167.431 991.216 Q169.885 990.638 171.922 990.638 Q177.292 990.638 180.487 993.323 Q183.681 996.008 183.681 1000.5 Q183.681 1002.63 182.871 1004.55 Q182.084 1006.45 179.977 1009.04 Q179.399 1009.71 176.297 1012.93 Q173.195 1016.12 167.547 1021.89 Z\" fill=\"#000000\" fill-rule=\"nonzero\" fill-opacity=\"1\" /><path clip-path=\"url(#clip080)\" d=\"M127.339 787.023 Q123.728 787.023 121.899 790.587 Q120.093 794.129 120.093 801.259 Q120.093 808.365 121.899 811.93 Q123.728 815.472 127.339 815.472 Q130.973 815.472 132.779 811.93 Q134.607 808.365 134.607 801.259 Q134.607 794.129 132.779 790.587 Q130.973 787.023 127.339 787.023 M127.339 783.319 Q133.149 783.319 136.204 787.925 Q139.283 792.509 139.283 801.259 Q139.283 809.985 136.204 814.592 Q133.149 819.175 127.339 819.175 Q121.529 819.175 118.45 814.592 Q115.394 809.985 115.394 801.259 Q115.394 792.509 118.45 787.925 Q121.529 783.319 127.339 783.319 Z\" fill=\"#000000\" fill-rule=\"nonzero\" fill-opacity=\"1\" /><path clip-path=\"url(#clip080)\" d=\"M147.501 812.624 L152.385 812.624 L152.385 818.504 L147.501 818.504 L147.501 812.624 Z\" fill=\"#000000\" fill-rule=\"nonzero\" fill-opacity=\"1\" /><path clip-path=\"url(#clip080)\" d=\"M176.737 799.87 Q180.093 800.587 181.968 802.856 Q183.866 805.124 183.866 808.458 Q183.866 813.573 180.348 816.374 Q176.829 819.175 170.348 819.175 Q168.172 819.175 165.857 818.735 Q163.565 818.319 161.112 817.462 L161.112 812.948 Q163.056 814.083 165.371 814.661 Q167.686 815.24 170.209 815.24 Q174.607 815.24 176.899 813.504 Q179.214 811.768 179.214 808.458 Q179.214 805.402 177.061 803.689 Q174.931 801.953 171.112 801.953 L167.084 801.953 L167.084 798.111 L171.297 798.111 Q174.746 798.111 176.575 796.745 Q178.403 795.356 178.403 792.763 Q178.403 790.101 176.505 788.689 Q174.63 787.254 171.112 787.254 Q169.19 787.254 166.991 787.671 Q164.792 788.087 162.153 788.967 L162.153 784.8 Q164.815 784.06 167.13 783.689 Q169.468 783.319 171.528 783.319 Q176.852 783.319 179.954 785.749 Q183.056 788.157 183.056 792.277 Q183.056 795.148 181.413 797.138 Q179.769 799.106 176.737 799.87 Z\" fill=\"#000000\" fill-rule=\"nonzero\" fill-opacity=\"1\" /><path clip-path=\"url(#clip080)\" d=\"M126.205 579.704 Q122.593 579.704 120.765 583.269 Q118.959 586.81 118.959 593.94 Q118.959 601.046 120.765 604.611 Q122.593 608.153 126.205 608.153 Q129.839 608.153 131.644 604.611 Q133.473 601.046 133.473 593.94 Q133.473 586.81 131.644 583.269 Q129.839 579.704 126.205 579.704 M126.205 576 Q132.015 576 135.07 580.607 Q138.149 585.19 138.149 593.94 Q138.149 602.667 135.07 607.273 Q132.015 611.857 126.205 611.857 Q120.394 611.857 117.316 607.273 Q114.26 602.667 114.26 593.94 Q114.26 585.19 117.316 580.607 Q120.394 576 126.205 576 Z\" fill=\"#000000\" fill-rule=\"nonzero\" fill-opacity=\"1\" /><path clip-path=\"url(#clip080)\" d=\"M146.366 605.306 L151.251 605.306 L151.251 611.185 L146.366 611.185 L146.366 605.306 Z\" fill=\"#000000\" fill-rule=\"nonzero\" fill-opacity=\"1\" /><path clip-path=\"url(#clip080)\" d=\"M174.283 580.699 L162.477 599.148 L174.283 599.148 L174.283 580.699 M173.056 576.625 L178.936 576.625 L178.936 599.148 L183.866 599.148 L183.866 603.037 L178.936 603.037 L178.936 611.185 L174.283 611.185 L174.283 603.037 L158.681 603.037 L158.681 598.523 L173.056 576.625 Z\" fill=\"#000000\" fill-rule=\"nonzero\" fill-opacity=\"1\" /><path clip-path=\"url(#clip080)\" d=\"M127.686 372.385 Q124.075 372.385 122.246 375.95 Q120.441 379.492 120.441 386.621 Q120.441 393.728 122.246 397.293 Q124.075 400.834 127.686 400.834 Q131.32 400.834 133.126 397.293 Q134.954 393.728 134.954 386.621 Q134.954 379.492 133.126 375.95 Q131.32 372.385 127.686 372.385 M127.686 368.682 Q133.496 368.682 136.552 373.288 Q139.63 377.871 139.63 386.621 Q139.63 395.348 136.552 399.955 Q133.496 404.538 127.686 404.538 Q121.876 404.538 118.797 399.955 Q115.742 395.348 115.742 386.621 Q115.742 377.871 118.797 373.288 Q121.876 368.682 127.686 368.682 Z\" fill=\"#000000\" fill-rule=\"nonzero\" fill-opacity=\"1\" /><path clip-path=\"url(#clip080)\" d=\"M147.848 397.987 L152.732 397.987 L152.732 403.867 L147.848 403.867 L147.848 397.987 Z\" fill=\"#000000\" fill-rule=\"nonzero\" fill-opacity=\"1\" /><path clip-path=\"url(#clip080)\" d=\"M162.964 369.307 L181.32 369.307 L181.32 373.242 L167.246 373.242 L167.246 381.714 Q168.264 381.367 169.283 381.205 Q170.302 381.02 171.32 381.02 Q177.107 381.02 180.487 384.191 Q183.866 387.362 183.866 392.779 Q183.866 398.357 180.394 401.459 Q176.922 404.538 170.602 404.538 Q168.427 404.538 166.158 404.168 Q163.913 403.797 161.505 403.056 L161.505 398.357 Q163.589 399.492 165.811 400.047 Q168.033 400.603 170.51 400.603 Q174.514 400.603 176.852 398.496 Q179.19 396.39 179.19 392.779 Q179.19 389.168 176.852 387.061 Q174.514 384.955 170.51 384.955 Q168.635 384.955 166.76 385.371 Q164.908 385.788 162.964 386.668 L162.964 369.307 Z\" fill=\"#000000\" fill-rule=\"nonzero\" fill-opacity=\"1\" /><path clip-path=\"url(#clip080)\" d=\"M126.529 165.067 Q122.918 165.067 121.089 168.631 Q119.283 172.173 119.283 179.303 Q119.283 186.409 121.089 189.974 Q122.918 193.516 126.529 193.516 Q130.163 193.516 131.968 189.974 Q133.797 186.409 133.797 179.303 Q133.797 172.173 131.968 168.631 Q130.163 165.067 126.529 165.067 M126.529 161.363 Q132.339 161.363 135.394 165.969 Q138.473 170.553 138.473 179.303 Q138.473 188.03 135.394 192.636 Q132.339 197.219 126.529 197.219 Q120.718 197.219 117.64 192.636 Q114.584 188.03 114.584 179.303 Q114.584 170.553 117.64 165.969 Q120.718 161.363 126.529 161.363 Z\" fill=\"#000000\" fill-rule=\"nonzero\" fill-opacity=\"1\" /><path clip-path=\"url(#clip080)\" d=\"M146.691 190.668 L151.575 190.668 L151.575 196.548 L146.691 196.548 L146.691 190.668 Z\" fill=\"#000000\" fill-rule=\"nonzero\" fill-opacity=\"1\" /><path clip-path=\"url(#clip080)\" d=\"M172.339 177.405 Q169.19 177.405 167.339 179.557 Q165.51 181.71 165.51 185.46 Q165.51 189.187 167.339 191.363 Q169.19 193.516 172.339 193.516 Q175.487 193.516 177.315 191.363 Q179.167 189.187 179.167 185.46 Q179.167 181.71 177.315 179.557 Q175.487 177.405 172.339 177.405 M181.621 162.752 L181.621 167.011 Q179.862 166.178 178.056 165.738 Q176.274 165.298 174.514 165.298 Q169.885 165.298 167.431 168.423 Q165.001 171.548 164.653 177.868 Q166.019 175.854 168.079 174.789 Q170.139 173.701 172.616 173.701 Q177.825 173.701 180.834 176.872 Q183.866 180.02 183.866 185.46 Q183.866 190.784 180.718 194.002 Q177.57 197.219 172.339 197.219 Q166.343 197.219 163.172 192.636 Q160.001 188.03 160.001 179.303 Q160.001 171.108 163.89 166.247 Q167.778 161.363 174.329 161.363 Q176.089 161.363 177.871 161.71 Q179.676 162.057 181.621 162.752 Z\" fill=\"#000000\" fill-rule=\"nonzero\" fill-opacity=\"1\" /><path clip-path=\"url(#clip080)\" d=\"M21.7677 1140.87 L39.6235 1140.87 L39.6235 1132.78 Q39.6235 1128.29 37.3 1125.84 Q34.9765 1123.39 30.6797 1123.39 Q26.4147 1123.39 24.0912 1125.84 Q21.7677 1128.29 21.7677 1132.78 L21.7677 1140.87 M16.4842 1147.3 L16.4842 1132.78 Q16.4842 1124.79 20.1126 1120.72 Q23.7092 1116.61 30.6797 1116.61 Q37.7138 1116.61 41.3104 1120.72 Q44.907 1124.79 44.907 1132.78 L44.907 1140.87 L64.0042 1140.87 L64.0042 1147.3 L16.4842 1147.3 Z\" fill=\"#000000\" fill-rule=\"nonzero\" fill-opacity=\"1\" /><path clip-path=\"url(#clip080)\" d=\"M32.4621 1096.75 Q32.4621 1101.46 36.1542 1104.2 Q39.8145 1106.94 46.212 1106.94 Q52.6095 1106.94 56.3017 1104.23 Q59.9619 1101.49 59.9619 1096.75 Q59.9619 1092.07 56.2698 1089.34 Q52.5777 1086.6 46.212 1086.6 Q39.8781 1086.6 36.186 1089.34 Q32.4621 1092.07 32.4621 1096.75 M27.4968 1096.75 Q27.4968 1089.11 32.4621 1084.75 Q37.4273 1080.39 46.212 1080.39 Q54.9649 1080.39 59.9619 1084.75 Q64.9272 1089.11 64.9272 1096.75 Q64.9272 1104.42 59.9619 1108.78 Q54.9649 1113.11 46.212 1113.11 Q37.4273 1113.11 32.4621 1108.78 Q27.4968 1104.42 27.4968 1096.75 Z\" fill=\"#000000\" fill-rule=\"nonzero\" fill-opacity=\"1\" /><path clip-path=\"url(#clip080)\" d=\"M33.8307 1050.03 Q33.2578 1051.01 33.0032 1052.19 Q32.7167 1053.34 32.7167 1054.74 Q32.7167 1059.7 35.9632 1062.38 Q39.1779 1065.02 45.2253 1065.02 L64.0042 1065.02 L64.0042 1070.91 L28.3562 1070.91 L28.3562 1065.02 L33.8944 1065.02 Q30.6479 1063.17 29.0883 1060.21 Q27.4968 1057.25 27.4968 1053.02 Q27.4968 1052.42 27.5923 1051.68 Q27.656 1050.95 27.8151 1050.06 L33.8307 1050.03 Z\" fill=\"#000000\" fill-rule=\"nonzero\" fill-opacity=\"1\" /><path clip-path=\"url(#clip080)\" d=\"M18.2347 1038.09 L28.3562 1038.09 L28.3562 1026.03 L32.9077 1026.03 L32.9077 1038.09 L52.2594 1038.09 Q56.6199 1038.09 57.8613 1036.91 Q59.1026 1035.71 59.1026 1032.04 L59.1026 1026.03 L64.0042 1026.03 L64.0042 1032.04 Q64.0042 1038.82 61.4897 1041.4 Q58.9434 1043.98 52.2594 1043.98 L32.9077 1043.98 L32.9077 1048.28 L28.3562 1048.28 L28.3562 1043.98 L18.2347 1043.98 L18.2347 1038.09 Z\" fill=\"#000000\" fill-rule=\"nonzero\" fill-opacity=\"1\" /><path clip-path=\"url(#clip080)\" d=\"M14.479 1000.28 L19.3487 1000.28 L19.3487 1005.88 Q19.3487 1009.03 20.6219 1010.27 Q21.895 1011.48 25.2052 1011.48 L28.3562 1011.48 L28.3562 1001.84 L32.9077 1001.84 L32.9077 1011.48 L64.0042 1011.48 L64.0042 1017.37 L32.9077 1017.37 L32.9077 1022.97 L28.3562 1022.97 L28.3562 1017.37 L25.8736 1017.37 Q19.9216 1017.37 17.2162 1014.6 Q14.479 1011.83 14.479 1005.82 L14.479 1000.28 Z\" fill=\"#000000\" fill-rule=\"nonzero\" fill-opacity=\"1\" /><path clip-path=\"url(#clip080)\" d=\"M32.4621 981.565 Q32.4621 986.275 36.1542 989.013 Q39.8145 991.75 46.212 991.75 Q52.6095 991.75 56.3017 989.045 Q59.9619 986.307 59.9619 981.565 Q59.9619 976.886 56.2698 974.149 Q52.5777 971.412 46.212 971.412 Q39.8781 971.412 36.186 974.149 Q32.4621 976.886 32.4621 981.565 M27.4968 981.565 Q27.4968 973.926 32.4621 969.565 Q37.4273 965.205 46.212 965.205 Q54.9649 965.205 59.9619 969.565 Q64.9272 973.926 64.9272 981.565 Q64.9272 989.235 59.9619 993.596 Q54.9649 997.925 46.212 997.925 Q37.4273 997.925 32.4621 993.596 Q27.4968 989.235 27.4968 981.565 Z\" fill=\"#000000\" fill-rule=\"nonzero\" fill-opacity=\"1\" /><path clip-path=\"url(#clip080)\" d=\"M14.479 955.497 L14.479 949.641 L64.0042 949.641 L64.0042 955.497 L14.479 955.497 Z\" fill=\"#000000\" fill-rule=\"nonzero\" fill-opacity=\"1\" /><path clip-path=\"url(#clip080)\" d=\"M28.3562 937.387 L28.3562 931.53 L64.0042 931.53 L64.0042 937.387 L28.3562 937.387 M14.479 937.387 L14.479 931.53 L21.895 931.53 L21.895 937.387 L14.479 937.387 Z\" fill=\"#000000\" fill-rule=\"nonzero\" fill-opacity=\"1\" /><path clip-path=\"url(#clip080)\" d=\"M32.4621 905.463 Q32.4621 910.173 36.1542 912.911 Q39.8145 915.648 46.212 915.648 Q52.6095 915.648 56.3017 912.942 Q59.9619 910.205 59.9619 905.463 Q59.9619 900.784 56.2698 898.047 Q52.5777 895.309 46.212 895.309 Q39.8781 895.309 36.186 898.047 Q32.4621 900.784 32.4621 905.463 M27.4968 905.463 Q27.4968 897.824 32.4621 893.463 Q37.4273 889.103 46.212 889.103 Q54.9649 889.103 59.9619 893.463 Q64.9272 897.824 64.9272 905.463 Q64.9272 913.133 59.9619 917.494 Q54.9649 921.823 46.212 921.823 Q37.4273 921.823 32.4621 917.494 Q27.4968 913.133 27.4968 905.463 Z\" fill=\"#000000\" fill-rule=\"nonzero\" fill-opacity=\"1\" /><path clip-path=\"url(#clip080)\" d=\"M14.479 858.675 L14.479 852.818 L64.0042 852.818 L64.0042 858.675 L14.479 858.675 Z\" fill=\"#000000\" fill-rule=\"nonzero\" fill-opacity=\"1\" /><path clip-path=\"url(#clip080)\" d=\"M32.4621 826.751 Q32.4621 831.461 36.1542 834.199 Q39.8145 836.936 46.212 836.936 Q52.6095 836.936 56.3017 834.231 Q59.9619 831.493 59.9619 826.751 Q59.9619 822.072 56.2698 819.335 Q52.5777 816.598 46.212 816.598 Q39.8781 816.598 36.186 819.335 Q32.4621 822.072 32.4621 826.751 M27.4968 826.751 Q27.4968 819.112 32.4621 814.751 Q37.4273 810.391 46.212 810.391 Q54.9649 810.391 59.9619 814.751 Q64.9272 819.112 64.9272 826.751 Q64.9272 834.422 59.9619 838.782 Q54.9649 843.111 46.212 843.111 Q37.4273 843.111 32.4621 838.782 Q27.4968 834.422 27.4968 826.751 Z\" fill=\"#000000\" fill-rule=\"nonzero\" fill-opacity=\"1\" /><path clip-path=\"url(#clip080)\" d=\"M45.7664 777.226 Q39.4007 777.226 35.8996 779.867 Q32.3984 782.477 32.3984 787.22 Q32.3984 791.93 35.8996 794.572 Q39.4007 797.182 45.7664 797.182 Q52.1003 797.182 55.6014 794.572 Q59.1026 791.93 59.1026 787.22 Q59.1026 782.477 55.6014 779.867 Q52.1003 777.226 45.7664 777.226 M59.58 771.369 Q68.683 771.369 73.1071 775.411 Q77.5631 779.454 77.5631 787.793 Q77.5631 790.88 77.0857 793.617 Q76.6401 796.355 75.6852 798.933 L69.9879 798.933 Q71.3884 796.355 72.0568 793.84 Q72.7252 791.326 72.7252 788.716 Q72.7252 782.955 69.7015 780.09 Q66.7096 777.226 60.6303 777.226 L57.7339 777.226 Q60.885 779.04 62.4446 781.873 Q64.0042 784.705 64.0042 788.652 Q64.0042 795.209 59.0071 799.219 Q54.01 803.23 45.7664 803.23 Q37.491 803.23 32.4939 799.219 Q27.4968 795.209 27.4968 788.652 Q27.4968 784.705 29.0564 781.873 Q30.616 779.04 33.7671 777.226 L28.3562 777.226 L28.3562 771.369 L59.58 771.369 Z\" fill=\"#000000\" fill-rule=\"nonzero\" fill-opacity=\"1\" /><path clip-path=\"url(#clip080)\" d=\"M45.7664 715.128 Q39.4007 715.128 35.8996 717.77 Q32.3984 720.38 32.3984 725.122 Q32.3984 729.833 35.8996 732.475 Q39.4007 735.085 45.7664 735.085 Q52.1003 735.085 55.6014 732.475 Q59.1026 729.833 59.1026 725.122 Q59.1026 720.38 55.6014 717.77 Q52.1003 715.128 45.7664 715.128 M59.58 709.272 Q68.683 709.272 73.1071 713.314 Q77.5631 717.356 77.5631 725.695 Q77.5631 728.783 77.0857 731.52 Q76.6401 734.257 75.6852 736.835 L69.9879 736.835 Q71.3884 734.257 72.0568 731.743 Q72.7252 729.228 72.7252 726.618 Q72.7252 720.857 69.7015 717.993 Q66.7096 715.128 60.6303 715.128 L57.7339 715.128 Q60.885 716.942 62.4446 719.775 Q64.0042 722.608 64.0042 726.555 Q64.0042 733.111 59.0071 737.122 Q54.01 741.132 45.7664 741.132 Q37.491 741.132 32.4939 737.122 Q27.4968 733.111 27.4968 726.555 Q27.4968 722.608 29.0564 719.775 Q30.616 716.942 33.7671 715.128 L28.3562 715.128 L28.3562 709.272 L59.58 709.272 Z\" fill=\"#000000\" fill-rule=\"nonzero\" fill-opacity=\"1\" /><path clip-path=\"url(#clip080)\" d=\"M33.8307 676.552 Q33.2578 677.539 33.0032 678.716 Q32.7167 679.862 32.7167 681.263 Q32.7167 686.228 35.9632 688.901 Q39.1779 691.543 45.2253 691.543 L64.0042 691.543 L64.0042 697.431 L28.3562 697.431 L28.3562 691.543 L33.8944 691.543 Q30.6479 689.697 29.0883 686.737 Q27.4968 683.777 27.4968 679.544 Q27.4968 678.939 27.5923 678.207 Q27.656 677.475 27.8151 676.584 L33.8307 676.552 Z\" fill=\"#000000\" fill-rule=\"nonzero\" fill-opacity=\"1\" /><path clip-path=\"url(#clip080)\" d=\"M32.4621 658.028 Q32.4621 662.738 36.1542 665.476 Q39.8145 668.213 46.212 668.213 Q52.6095 668.213 56.3017 665.507 Q59.9619 662.77 59.9619 658.028 Q59.9619 653.349 56.2698 650.612 Q52.5777 647.874 46.212 647.874 Q39.8781 647.874 36.186 650.612 Q32.4621 653.349 32.4621 658.028 M27.4968 658.028 Q27.4968 650.389 32.4621 646.028 Q37.4273 641.668 46.212 641.668 Q54.9649 641.668 59.9619 646.028 Q64.9272 650.389 64.9272 658.028 Q64.9272 665.698 59.9619 670.059 Q54.9649 674.388 46.212 674.388 Q37.4273 674.388 32.4621 670.059 Q27.4968 665.698 27.4968 658.028 Z\" fill=\"#000000\" fill-rule=\"nonzero\" fill-opacity=\"1\" /><path clip-path=\"url(#clip080)\" d=\"M28.3562 635.366 L28.3562 629.509 L56.1743 622.189 L28.3562 614.9 L28.3562 607.993 L56.1743 600.673 L28.3562 593.384 L28.3562 587.528 L64.0042 596.853 L64.0042 603.76 L34.7856 611.431 L64.0042 619.133 L64.0042 626.04 L28.3562 635.366 Z\" fill=\"#000000\" fill-rule=\"nonzero\" fill-opacity=\"1\" /><path clip-path=\"url(#clip080)\" d=\"M18.2347 572.855 L28.3562 572.855 L28.3562 560.792 L32.9077 560.792 L32.9077 572.855 L52.2594 572.855 Q56.6199 572.855 57.8613 571.677 Q59.1026 570.467 59.1026 566.807 L59.1026 560.792 L64.0042 560.792 L64.0042 566.807 Q64.0042 573.587 61.4897 576.165 Q58.9434 578.743 52.2594 578.743 L32.9077 578.743 L32.9077 583.04 L28.3562 583.04 L28.3562 578.743 L18.2347 578.743 L18.2347 572.855 Z\" fill=\"#000000\" fill-rule=\"nonzero\" fill-opacity=\"1\" /><path clip-path=\"url(#clip080)\" d=\"M42.4881 523.457 L64.0042 523.457 L64.0042 529.313 L42.679 529.313 Q37.6183 529.313 35.1038 531.287 Q32.5894 533.26 32.5894 537.207 Q32.5894 541.949 35.6131 544.686 Q38.6368 547.424 43.8567 547.424 L64.0042 547.424 L64.0042 553.312 L14.479 553.312 L14.479 547.424 L33.8944 547.424 Q30.6797 545.323 29.0883 542.49 Q27.4968 539.626 27.4968 535.902 Q27.4968 529.759 31.3163 526.608 Q35.1038 523.457 42.4881 523.457 Z\" fill=\"#000000\" fill-rule=\"nonzero\" fill-opacity=\"1\" /><path clip-path=\"url(#clip080)\" d=\"M14.5426 476.987 Q21.8632 481.252 29.0246 483.321 Q36.186 485.39 43.5384 485.39 Q50.8908 485.39 58.1159 483.321 Q65.3091 481.22 72.5979 476.987 L72.5979 482.08 Q65.1182 486.854 57.8931 489.241 Q50.668 491.596 43.5384 491.596 Q36.4406 491.596 29.2474 489.241 Q22.0542 486.886 14.5426 482.08 L14.5426 476.987 Z\" fill=\"#000000\" fill-rule=\"nonzero\" fill-opacity=\"1\" /><path clip-path=\"url(#clip080)\" d=\"M58.5933 463.683 L58.5933 453.179 L22.3406 453.179 L24.6323 464.606 L18.7758 464.606 L16.4842 453.243 L16.4842 446.814 L58.5933 446.814 L58.5933 436.31 L64.0042 436.31 L64.0042 463.683 L58.5933 463.683 Z\" fill=\"#000000\" fill-rule=\"nonzero\" fill-opacity=\"1\" /><path clip-path=\"url(#clip080)\" d=\"M16.4842 413.744 L16.4842 408.333 L70.0516 424.884 L70.0516 430.295 L16.4842 413.744 Z\" fill=\"#000000\" fill-rule=\"nonzero\" fill-opacity=\"1\" /><path clip-path=\"url(#clip080)\" d=\"M67.3143 387.358 Q73.68 389.841 75.6216 392.196 Q77.5631 394.551 77.5631 398.498 L77.5631 403.177 L72.6615 403.177 L72.6615 399.739 Q72.6615 397.32 71.5157 395.983 Q70.3699 394.647 66.1048 393.023 L63.4312 391.973 L28.3562 406.391 L28.3562 400.185 L56.238 389.045 L28.3562 377.905 L28.3562 371.698 L67.3143 387.358 Z\" fill=\"#000000\" fill-rule=\"nonzero\" fill-opacity=\"1\" /><path clip-path=\"url(#clip080)\" d=\"M33.8307 342.957 Q33.2578 343.944 33.0032 345.121 Q32.7167 346.267 32.7167 347.668 Q32.7167 352.633 35.9632 355.307 Q39.1779 357.948 45.2253 357.948 L64.0042 357.948 L64.0042 363.837 L28.3562 363.837 L28.3562 357.948 L33.8944 357.948 Q30.6479 356.102 29.0883 353.142 Q27.4968 350.182 27.4968 345.949 Q27.4968 345.344 27.5923 344.612 Q27.656 343.88 27.8151 342.989 L33.8307 342.957 Z\" fill=\"#000000\" fill-rule=\"nonzero\" fill-opacity=\"1\" /><path clip-path=\"url(#clip080)\" d=\"M14.5426 337.737 L14.5426 332.645 Q22.0542 327.87 29.2474 325.515 Q36.4406 323.128 43.5384 323.128 Q50.668 323.128 57.8931 325.515 Q65.1182 327.87 72.5979 332.645 L72.5979 337.737 Q65.3091 333.504 58.1159 331.435 Q50.8908 329.335 43.5384 329.335 Q36.186 329.335 29.0246 331.435 Q21.8632 333.504 14.5426 337.737 Z\" fill=\"#000000\" fill-rule=\"nonzero\" fill-opacity=\"1\" /><polyline clip-path=\"url(#clip082)\" style=\"stroke:#333333; stroke-linecap:round; stroke-linejoin:round; stroke-width:16; stroke-opacity:1; fill:none\" points=\"882.534,1231.61 882.534,1231.61 882.534,1231.61 882.534,1231.61 882.534,1231.61 882.534,1231.61 882.616,1225.68 885.644,1192.76 892.224,1159.84 902.847,1126.93 918.65,1094.01 939.54,1061.09 965.289,1028.17 995.76,995.257 1030.5,962.34 1068.98,929.423 1110.72,896.506 1155.28,863.589 1202.28,830.672 1251.38,797.754 1302.3,764.837 1354.8,731.92 1408.67,699.003 1465.61,666.086 1526.7,633.169 1591.38,600.252 1659.17,567.335 1729.64,534.418 1802.44,501.5 1877.26,468.583 1953.84,435.666 2032.13,402.749 \"/>\n",
       "<circle clip-path=\"url(#clip082)\" cx=\"882.534\" cy=\"1231.61\" r=\"14.4\" fill=\"#ffffff\" fill-rule=\"evenodd\" fill-opacity=\"1\" stroke=\"#b0b0b0\" stroke-opacity=\"1\" stroke-width=\"3.2\"/>\n",
       "<circle clip-path=\"url(#clip082)\" cx=\"882.534\" cy=\"1231.61\" r=\"14.4\" fill=\"#ffffff\" fill-rule=\"evenodd\" fill-opacity=\"1\" stroke=\"#b0b0b0\" stroke-opacity=\"1\" stroke-width=\"3.2\"/>\n",
       "<circle clip-path=\"url(#clip082)\" cx=\"882.616\" cy=\"1225.68\" r=\"14.4\" fill=\"#ffffff\" fill-rule=\"evenodd\" fill-opacity=\"1\" stroke=\"#b0b0b0\" stroke-opacity=\"1\" stroke-width=\"3.2\"/>\n",
       "<circle clip-path=\"url(#clip082)\" cx=\"902.847\" cy=\"1126.93\" r=\"14.4\" fill=\"#ffffff\" fill-rule=\"evenodd\" fill-opacity=\"1\" stroke=\"#b0b0b0\" stroke-opacity=\"1\" stroke-width=\"3.2\"/>\n",
       "<circle clip-path=\"url(#clip082)\" cx=\"965.289\" cy=\"1028.17\" r=\"14.4\" fill=\"#ffffff\" fill-rule=\"evenodd\" fill-opacity=\"1\" stroke=\"#b0b0b0\" stroke-opacity=\"1\" stroke-width=\"3.2\"/>\n",
       "<circle clip-path=\"url(#clip082)\" cx=\"1068.98\" cy=\"929.423\" r=\"14.4\" fill=\"#ffffff\" fill-rule=\"evenodd\" fill-opacity=\"1\" stroke=\"#b0b0b0\" stroke-opacity=\"1\" stroke-width=\"3.2\"/>\n",
       "<circle clip-path=\"url(#clip082)\" cx=\"1202.28\" cy=\"830.672\" r=\"14.4\" fill=\"#ffffff\" fill-rule=\"evenodd\" fill-opacity=\"1\" stroke=\"#b0b0b0\" stroke-opacity=\"1\" stroke-width=\"3.2\"/>\n",
       "<circle clip-path=\"url(#clip082)\" cx=\"1354.8\" cy=\"731.92\" r=\"14.4\" fill=\"#ffffff\" fill-rule=\"evenodd\" fill-opacity=\"1\" stroke=\"#b0b0b0\" stroke-opacity=\"1\" stroke-width=\"3.2\"/>\n",
       "<circle clip-path=\"url(#clip082)\" cx=\"1526.7\" cy=\"633.169\" r=\"14.4\" fill=\"#ffffff\" fill-rule=\"evenodd\" fill-opacity=\"1\" stroke=\"#b0b0b0\" stroke-opacity=\"1\" stroke-width=\"3.2\"/>\n",
       "<circle clip-path=\"url(#clip082)\" cx=\"1729.64\" cy=\"534.418\" r=\"14.4\" fill=\"#ffffff\" fill-rule=\"evenodd\" fill-opacity=\"1\" stroke=\"#b0b0b0\" stroke-opacity=\"1\" stroke-width=\"3.2\"/>\n",
       "<circle clip-path=\"url(#clip082)\" cx=\"1953.84\" cy=\"435.666\" r=\"14.4\" fill=\"#ffffff\" fill-rule=\"evenodd\" fill-opacity=\"1\" stroke=\"#b0b0b0\" stroke-opacity=\"1\" stroke-width=\"3.2\"/>\n",
       "<polyline clip-path=\"url(#clip082)\" style=\"stroke:#ff0000; stroke-linecap:round; stroke-linejoin:round; stroke-width:16; stroke-opacity:1; fill:none\" points=\"939.475,1197.59 939.475,1197.59 939.475,1197.59 939.475,1197.59 939.475,1197.59 939.475,1197.59 939.475,1197.59 939.524,1192.75 942.429,1159.84 949.782,1126.93 960.976,1094.01 975.524,1061.09 993.236,1028.17 1013.9,995.257 1037.29,962.34 1063.19,929.423 1091.36,896.506 1121.58,863.589 1153.63,830.672 1187.32,797.754 1222.5,764.837 1259.01,731.92 1296.72,699.003 1335.5,666.086 1375.24,633.169 1415.87,600.252 1458.84,567.335 1505.13,534.418 1554.38,501.5 1606.29,468.583 1660.57,435.666 1716.95,402.749 1775.22,369.832 1835.16,336.915 1896.6,303.998 1959.37,271.081 2023.36,238.163 2088.88,205.246 2158.86,172.329 \"/>\n",
       "<circle clip-path=\"url(#clip082)\" cx=\"939.475\" cy=\"1197.59\" r=\"14.4\" fill=\"#ffffff\" fill-rule=\"evenodd\" fill-opacity=\"1\" stroke=\"#ff0000\" stroke-opacity=\"1\" stroke-width=\"3.2\"/>\n",
       "<circle clip-path=\"url(#clip082)\" cx=\"939.475\" cy=\"1197.59\" r=\"14.4\" fill=\"#ffffff\" fill-rule=\"evenodd\" fill-opacity=\"1\" stroke=\"#ff0000\" stroke-opacity=\"1\" stroke-width=\"3.2\"/>\n",
       "<circle clip-path=\"url(#clip082)\" cx=\"939.475\" cy=\"1197.59\" r=\"14.4\" fill=\"#ffffff\" fill-rule=\"evenodd\" fill-opacity=\"1\" stroke=\"#ff0000\" stroke-opacity=\"1\" stroke-width=\"3.2\"/>\n",
       "<circle clip-path=\"url(#clip082)\" cx=\"949.782\" cy=\"1126.93\" r=\"14.4\" fill=\"#ffffff\" fill-rule=\"evenodd\" fill-opacity=\"1\" stroke=\"#ff0000\" stroke-opacity=\"1\" stroke-width=\"3.2\"/>\n",
       "<circle clip-path=\"url(#clip082)\" cx=\"993.236\" cy=\"1028.17\" r=\"14.4\" fill=\"#ffffff\" fill-rule=\"evenodd\" fill-opacity=\"1\" stroke=\"#ff0000\" stroke-opacity=\"1\" stroke-width=\"3.2\"/>\n",
       "<circle clip-path=\"url(#clip082)\" cx=\"1063.19\" cy=\"929.423\" r=\"14.4\" fill=\"#ffffff\" fill-rule=\"evenodd\" fill-opacity=\"1\" stroke=\"#ff0000\" stroke-opacity=\"1\" stroke-width=\"3.2\"/>\n",
       "<circle clip-path=\"url(#clip082)\" cx=\"1153.63\" cy=\"830.672\" r=\"14.4\" fill=\"#ffffff\" fill-rule=\"evenodd\" fill-opacity=\"1\" stroke=\"#ff0000\" stroke-opacity=\"1\" stroke-width=\"3.2\"/>\n",
       "<circle clip-path=\"url(#clip082)\" cx=\"1259.01\" cy=\"731.92\" r=\"14.4\" fill=\"#ffffff\" fill-rule=\"evenodd\" fill-opacity=\"1\" stroke=\"#ff0000\" stroke-opacity=\"1\" stroke-width=\"3.2\"/>\n",
       "<circle clip-path=\"url(#clip082)\" cx=\"1375.24\" cy=\"633.169\" r=\"14.4\" fill=\"#ffffff\" fill-rule=\"evenodd\" fill-opacity=\"1\" stroke=\"#ff0000\" stroke-opacity=\"1\" stroke-width=\"3.2\"/>\n",
       "<circle clip-path=\"url(#clip082)\" cx=\"1505.13\" cy=\"534.418\" r=\"14.4\" fill=\"#ffffff\" fill-rule=\"evenodd\" fill-opacity=\"1\" stroke=\"#ff0000\" stroke-opacity=\"1\" stroke-width=\"3.2\"/>\n",
       "<circle clip-path=\"url(#clip082)\" cx=\"1660.57\" cy=\"435.666\" r=\"14.4\" fill=\"#ffffff\" fill-rule=\"evenodd\" fill-opacity=\"1\" stroke=\"#ff0000\" stroke-opacity=\"1\" stroke-width=\"3.2\"/>\n",
       "<circle clip-path=\"url(#clip082)\" cx=\"1835.16\" cy=\"336.915\" r=\"14.4\" fill=\"#ffffff\" fill-rule=\"evenodd\" fill-opacity=\"1\" stroke=\"#ff0000\" stroke-opacity=\"1\" stroke-width=\"3.2\"/>\n",
       "<circle clip-path=\"url(#clip082)\" cx=\"2023.36\" cy=\"238.163\" r=\"14.4\" fill=\"#ffffff\" fill-rule=\"evenodd\" fill-opacity=\"1\" stroke=\"#ff0000\" stroke-opacity=\"1\" stroke-width=\"3.2\"/>\n",
       "<path clip-path=\"url(#clip080)\" d=\"M290.963 248.629 L608.487 248.629 L608.487 93.1086 L290.963 93.1086  Z\" fill=\"#f2f2f2\" fill-rule=\"evenodd\" fill-opacity=\"1\"/>\n",
       "<polyline clip-path=\"url(#clip080)\" style=\"stroke:#000000; stroke-linecap:round; stroke-linejoin:round; stroke-width:4; stroke-opacity:0; fill:none\" points=\"290.963,248.629 608.487,248.629 608.487,93.1086 290.963,93.1086 290.963,248.629 \"/>\n",
       "<polyline clip-path=\"url(#clip080)\" style=\"stroke:#333333; stroke-linecap:round; stroke-linejoin:round; stroke-width:16; stroke-opacity:1; fill:none\" points=\"314.661,144.949 456.854,144.949 \"/>\n",
       "<path clip-path=\"url(#clip080)\" d=\"M485.229 131.511 L485.229 158.386 L490.877 158.386 Q498.03 158.386 501.34 155.145 Q504.673 151.905 504.673 144.914 Q504.673 137.969 501.34 134.752 Q498.03 131.511 490.877 131.511 L485.229 131.511 M480.553 127.669 L490.159 127.669 Q500.205 127.669 504.904 131.858 Q509.604 136.025 509.604 144.914 Q509.604 153.849 504.881 158.039 Q500.159 162.229 490.159 162.229 L480.553 162.229 L480.553 127.669 Z\" fill=\"#000000\" fill-rule=\"nonzero\" fill-opacity=\"1\" /><path clip-path=\"url(#clip080)\" d=\"M528.654 149.196 Q523.492 149.196 521.502 150.377 Q519.511 151.557 519.511 154.405 Q519.511 156.673 520.992 158.016 Q522.497 159.335 525.066 159.335 Q528.608 159.335 530.738 156.835 Q532.89 154.312 532.89 150.145 L532.89 149.196 L528.654 149.196 M537.15 147.437 L537.15 162.229 L532.89 162.229 L532.89 158.293 Q531.432 160.655 529.256 161.789 Q527.08 162.9 523.932 162.9 Q519.951 162.9 517.59 160.678 Q515.252 158.432 515.252 154.682 Q515.252 150.307 518.168 148.085 Q521.108 145.863 526.918 145.863 L532.89 145.863 L532.89 145.446 Q532.89 142.507 530.946 140.909 Q529.025 139.289 525.529 139.289 Q523.307 139.289 521.201 139.821 Q519.094 140.354 517.15 141.419 L517.15 137.483 Q519.488 136.581 521.687 136.141 Q523.886 135.678 525.969 135.678 Q531.594 135.678 534.372 138.594 Q537.15 141.511 537.15 147.437 Z\" fill=\"#000000\" fill-rule=\"nonzero\" fill-opacity=\"1\" /><path clip-path=\"url(#clip080)\" d=\"M550.136 128.942 L550.136 136.303 L558.909 136.303 L558.909 139.613 L550.136 139.613 L550.136 153.687 Q550.136 156.858 550.992 157.761 Q551.872 158.664 554.534 158.664 L558.909 158.664 L558.909 162.229 L554.534 162.229 Q549.603 162.229 547.728 160.4 Q545.853 158.548 545.853 153.687 L545.853 139.613 L542.728 139.613 L542.728 136.303 L545.853 136.303 L545.853 128.942 L550.136 128.942 Z\" fill=\"#000000\" fill-rule=\"nonzero\" fill-opacity=\"1\" /><path clip-path=\"url(#clip080)\" d=\"M576.293 149.196 Q571.131 149.196 569.14 150.377 Q567.15 151.557 567.15 154.405 Q567.15 156.673 568.631 158.016 Q570.136 159.335 572.705 159.335 Q576.247 159.335 578.376 156.835 Q580.529 154.312 580.529 150.145 L580.529 149.196 L576.293 149.196 M584.788 147.437 L584.788 162.229 L580.529 162.229 L580.529 158.293 Q579.071 160.655 576.895 161.789 Q574.719 162.9 571.571 162.9 Q567.589 162.9 565.228 160.678 Q562.89 158.432 562.89 154.682 Q562.89 150.307 565.807 148.085 Q568.747 145.863 574.557 145.863 L580.529 145.863 L580.529 145.446 Q580.529 142.507 578.585 140.909 Q576.663 139.289 573.168 139.289 Q570.946 139.289 568.839 139.821 Q566.733 140.354 564.788 141.419 L564.788 137.483 Q567.126 136.581 569.325 136.141 Q571.525 135.678 573.608 135.678 Q579.233 135.678 582.011 138.594 Q584.788 141.511 584.788 147.437 Z\" fill=\"#000000\" fill-rule=\"nonzero\" fill-opacity=\"1\" /><polyline clip-path=\"url(#clip080)\" style=\"stroke:#ff0000; stroke-linecap:round; stroke-linejoin:round; stroke-width:16; stroke-opacity:1; fill:none\" points=\"314.661,196.789 456.854,196.789 \"/>\n",
       "<path clip-path=\"url(#clip080)\" d=\"M502.798 180.643 L502.798 185.203 Q500.136 183.93 497.775 183.305 Q495.414 182.68 493.215 182.68 Q489.395 182.68 487.312 184.161 Q485.252 185.643 485.252 188.374 Q485.252 190.666 486.618 191.847 Q488.006 193.004 491.849 193.722 L494.673 194.3 Q499.905 195.296 502.381 197.819 Q504.881 200.319 504.881 204.532 Q504.881 209.555 501.502 212.147 Q498.145 214.74 491.641 214.74 Q489.187 214.74 486.409 214.184 Q483.655 213.629 480.692 212.541 L480.692 207.726 Q483.539 209.323 486.27 210.133 Q489.002 210.944 491.641 210.944 Q495.645 210.944 497.821 209.37 Q499.997 207.796 499.997 204.879 Q499.997 202.333 498.423 200.897 Q496.872 199.462 493.307 198.745 L490.46 198.189 Q485.229 197.147 482.891 194.925 Q480.553 192.703 480.553 188.745 Q480.553 184.161 483.77 181.522 Q487.011 178.884 492.682 178.884 Q495.113 178.884 497.636 179.323 Q500.159 179.763 502.798 180.643 Z\" fill=\"#000000\" fill-rule=\"nonzero\" fill-opacity=\"1\" /><path clip-path=\"url(#clip080)\" d=\"M512.173 179.509 L516.849 179.509 L516.849 214.069 L512.173 214.069 L512.173 179.509 Z\" fill=\"#000000\" fill-rule=\"nonzero\" fill-opacity=\"1\" /><path clip-path=\"url(#clip080)\" d=\"M526.154 179.509 L533.122 179.509 L541.941 203.027 L550.807 179.509 L557.775 179.509 L557.775 214.069 L553.214 214.069 L553.214 183.722 L544.302 207.425 L539.603 207.425 L530.691 183.722 L530.691 214.069 L526.154 214.069 L526.154 179.509 Z\" fill=\"#000000\" fill-rule=\"nonzero\" fill-opacity=\"1\" /></svg>\n"
      ],
      "text/html": [
       "<img src=\"data:image/png;base64,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\" />"
      ]
     },
     "metadata": {},
     "output_type": "display_data"
    }
   ],
   "source": [
    "let\n",
    "\n",
    "    # initialize -\n",
    "    max_risk_value = results_array_data[end,1]; # what is the biggest risk we have (x-axis value)\n",
    "    max_reward_value = results_array_data[end,2]; # what is the biggest reward that we have (y-axis value)\n",
    "    number_of_portfolios_data = length(efficient_frontier_data); # how many portfolios did we recover?\n",
    "    skip = 3;\n",
    "\n",
    "    plot(results_array_data[:,1], results_array_data[:,2], lw=4, xlabel=\"Risk sqrt(variance)\", \n",
    "        ylabel=\"Portfolio log growth (1/yr)\", fontsize=18, label=\"Data\", c=:gray20, \n",
    "        xlim=(0.0, 1.1*max_risk_value), ylim = (0.0, 1.1*max_reward_value))\n",
    "    scatter!(results_array_data[1:skip:number_of_portfolios_data,1], results_array_data[1:skip:number_of_portfolios_data,2], \n",
    "        label=\"\", c=:white, ms=4, msc=:gray69)\n",
    "\n",
    "    max_risk_value = results_array_sim[end,1]; # what is the biggest risk we have (x-axis value)\n",
    "    max_reward_value = results_array_sim[end,2]; # what is the biggest reward that we have (y-axis value)\n",
    "    number_of_portfolios_sim = length(efficient_frontier_sim); # how many portfolios did we recover?\n",
    "    plot!(results_array_sim[:,1], results_array_sim[:,2], lw=4, xlabel=\"Risk sqrt(variance)\", \n",
    "        ylabel=\"Portfolio log growth (1/yr)\", fontsize=18, label=\"SIM\", c=:red, \n",
    "        xlim=(0.0, 1.1*max_risk_value), ylim = (0.0, 1.1*max_reward_value))\n",
    "    scatter!(results_array_sim[1:skip:number_of_portfolios_sim,1], results_array_sim[1:skip:number_of_portfolios_sim,2], \n",
    "        label=\"\", c=:white, ms=4, msc=:red)\n",
    "\n",
    "    plot!(bg=\"gray95\", background_color_outside=\"white\", framestyle = :box, fg_legend = :transparent);\n",
    "\n",
    "end"
   ]
  },
  {
   "cell_type": "markdown",
   "id": "a967a000-5c52-4592-9b57-c1352785832a",
   "metadata": {},
   "source": [
    "## Task 3: What's in a data-driven versus single index model portfolio?\n",
    "The single index model efficient frontier is shifted to the left compared with the data-driven portfolio. Let's explore how this left shift is reflected in the choices of the weights of the assets in the portfolio. To begin, specify a desired portfolio growth rate in the `desired_growth_rate` variable:"
   ]
  },
  {
   "cell_type": "code",
   "execution_count": 50,
   "id": "7d78bbf3-437c-4585-905e-63f624e43f75",
   "metadata": {},
   "outputs": [],
   "source": [
    "desired_growth_rate = 0.10; # select a desired *excess* return where both approaches have data"
   ]
  },
  {
   "cell_type": "markdown",
   "id": "08bea4c9-c150-49a2-a289-bb8a24db7c40",
   "metadata": {},
   "source": [
    "Next, let's resolve the minimum variance problem for the data-driven and single-index models, assuming a `desired_growth_rate` value. Update the `problem_risk` and `problem_risk_sim` problem instances with the new `R` field:"
   ]
  },
  {
   "cell_type": "markdown",
   "id": "7dc44a36-83af-49db-b866-df3cdf0b6ccd",
   "metadata": {},
   "source": [
    "and solve the minimum-variance allocation problem for both versions of the problem instance:"
   ]
  },
  {
   "cell_type": "code",
   "execution_count": 51,
   "id": "6b51e88f-330f-46a7-b219-a48866d89112",
   "metadata": {
    "jupyter": {
     "source_hidden": true
    }
   },
   "outputs": [],
   "source": [
    "solution_data, solution_sim = let\n",
    "\n",
    "    # initialize -\n",
    "    problem_data.R = desired_growth_rate;\n",
    "    problem_sim.R = desired_growth_rate;\n",
    "    solution_data = nothing;\n",
    "    solution_sim = nothing;\n",
    "    \n",
    "    try\n",
    "        solution_data = solve(problem_data);\n",
    "        solution_sim = solve(problem_sim);\n",
    "    catch err\n",
    "        # uncoment below to see error message\n",
    "        println(\"What the what? Something happened: $(err)\");\n",
    "    end\n",
    "\n",
    "    (solution_data, solution_sim); # return\n",
    "end;"
   ]
  },
  {
   "cell_type": "markdown",
   "id": "c770ef2f-435f-4d1a-915b-77902be99da0",
   "metadata": {},
   "source": [
    "`Unhide` the code block below to see how we constructed the portfolio allocation table for the data-driven and single-index model portfolios.\n",
    "\n",
    "__Summary__: The data-driven and single-index model allocations are similar, where each non-zero allocation for the data-driven portfolio is preserved in the case of the single-index model. However, several minor differences between the two portfolios do not appear to be correlated with the $\\beta$ of the ticker. "
   ]
  },
  {
   "cell_type": "code",
   "execution_count": 52,
   "id": "6022fe05-6aa1-490a-bf83-a62d1827d3ca",
   "metadata": {},
   "outputs": [
    {
     "name": "stdout",
     "output_type": "stream",
     "text": [
      " -------- ------------ ---------- --------- --------- --------------\n",
      " \u001b[1m ticker \u001b[0m \u001b[1m          α \u001b[0m \u001b[1m        β \u001b[0m \u001b[1m  w_data \u001b[0m \u001b[1m   w_sim \u001b[0m \u001b[1m Δ_percentage \u001b[0m\n",
      " \u001b[90m String \u001b[0m \u001b[90m    Float64 \u001b[0m \u001b[90m  Float64 \u001b[0m \u001b[90m Float64 \u001b[0m \u001b[90m Float64 \u001b[0m \u001b[90m      Float64 \u001b[0m\n",
      " -------- ------------ ---------- --------- --------- --------------\n",
      "    AAPL     0.106055    1.19459    0.1012    0.0747         -26.16\n",
      "    MSFT    0.0999256    1.15201    0.1606    0.1295       -19.3805\n",
      "    INTC    -0.148435    1.18427     0.031    0.0383        23.3697\n",
      "      MU    -0.053226    1.69527       0.0       0.0            0.0\n",
      "     AMD     0.127466    1.73915       0.0       0.0            0.0\n",
      "    NVDA      0.34678    1.74926    0.0002       0.0            0.0\n",
      "      GS   -0.0325528    1.31001    0.0323    0.0081       -74.9457\n",
      "     BAC   -0.0545152    1.35942       0.0       0.0            0.0\n",
      "     WFC   -0.0914062     1.2383    0.0492    0.0338       -31.3513\n",
      "       C    -0.133436    1.50075       0.0       0.0            0.0\n",
      "       F    -0.192761    1.43356    0.0072       0.0            0.0\n",
      "      GM    -0.129065     1.4695    0.0025       0.0            0.0\n",
      "     JNJ   -0.0162091   0.539556    0.6158    0.7156        16.2054\n",
      " -------- ------------ ---------- --------- --------- --------------\n"
     ]
    }
   ],
   "source": [
    "let\n",
    "    ω_data = solution_data[\"argmax\"];\n",
    "    ω_sim = solution_sim[\"argmax\"];\n",
    "    table_df = DataFrame();\n",
    "    for i ∈ eachindex(my_list_of_tickers)\n",
    "        ticker = my_list_of_tickers[i];\n",
    "        ω_dataᵢ = ω_data[i];\n",
    "        ω_simᵢ = ω_sim[i];\n",
    "        row_data = (\n",
    "            ticker = ticker,\n",
    "            α = sim_model_parameters[ticker].alpha,\n",
    "            β = sim_model_parameters[ticker].beta,\n",
    "            w_data = round(ω_dataᵢ, digits=4) |> abs,\n",
    "            w_sim = round(ω_simᵢ, digits=4) |> abs,\n",
    "            Δ_percentage = isapprox(ω_dataᵢ,0.0, atol=1e-2) ? 0.0 : ((ω_simᵢ - ω_dataᵢ)/(ω_dataᵢ))*100\n",
    "        );\n",
    "        push!(table_df,row_data)\n",
    "    end\n",
    "\n",
    "    \n",
    "    pretty_table(table_df, backend = :text,\n",
    "         table_format = TextTableFormat(borders = text_table_borders__compact)\n",
    "    );\n",
    "end"
   ]
  },
  {
   "cell_type": "markdown",
   "id": "f5783b18-2f56-4641-9464-82658cc68a38",
   "metadata": {},
   "source": [
    "## Disclaimer and Risks\n",
    "__This content is offered solely for training and informational purposes__. No offer or solicitation to buy or sell securities or derivative products or any investment or trading advice or strategy is made, given, or endorsed by the teaching team. \n",
    "\n",
    "__Trading involves risk__. Carefully review your financial situation before investing in securities, futures contracts, options, or commodity interests. Past performance, whether actual or indicated by historical tests of strategies, is no guarantee of future performance or success. Trading is generally inappropriate for someone with limited resources, investment or trading experience, or a low-risk tolerance.  Only risk capital that is not required for living expenses.\n",
    "\n",
    "__You are fully responsible for any investment or trading decisions you make__. You should decide solely based on your financial circumstances, investment or trading objectives, risk tolerance, and liquidity needs."
   ]
  }
 ],
 "metadata": {
  "kernelspec": {
   "display_name": "Julia 1.11.7",
   "language": "julia",
   "name": "julia-1.11"
  },
  "language_info": {
   "file_extension": ".jl",
   "mimetype": "application/julia",
   "name": "julia",
   "version": "1.11.7"
  }
 },
 "nbformat": 4,
 "nbformat_minor": 5
}
