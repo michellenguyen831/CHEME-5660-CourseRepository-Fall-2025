{
 "cells": [
  {
   "cell_type": "markdown",
   "id": "61c159bd",
   "metadata": {},
   "source": [
    "# L6a: Multiple Asset Geometric Brownian Motion (MAGBM) Model\n",
    "In this lecture, we will extend our single asset geometric Brownian motion (SAGBM) model to multiple assets. We will also develop expressions for trade entry and exit rules based on the net present value (NPV) of a trade.\n",
    "\n",
    "> __Learning Objectives:__\n",
    "> \n",
    "> Fill me in later.\n",
    "\n",
    "This is going to be fun, so let's get started!\n",
    "___"
   ]
  },
  {
   "cell_type": "markdown",
   "id": "097c2116",
   "metadata": {},
   "source": [
    "## Multiple Asset Geometric Brownian Motion (MAGBM) Model\n",
    "Consider an equity portfolio $\\mathcal{P}$ with an annualized return covariance matrix $\\mathbf{\\Sigma}$ and drift vector $\\mathbf{\\mu}$. A multi-asset geometric Brownian motion model describing the share price $S_{i}(t)$ for asset $i\\in\\mathcal{P}$ is given by: \n",
    "$$\n",
    "\\begin{equation*}\n",
    "\\frac{dS_{i}\\left(t\\right)}{S_{i}(t)} = \\mu_{i}\\,{dt}+\\sum_{j\\in\\mathcal{P}}a_{ij}\\cdot{dW_{j}(t)}\\qquad\\text{for}\\quad{i\\in\\mathcal{P}}\n",
    "\\end{equation*}\n",
    "$$\n",
    "where $a_{ij}\\in\\mathbf{A}$ and $\\mathbf{A}\\mathbf{A}^{\\top} = \\mathbf{\\Sigma}$, and $\\mu_{i}$ denotes the drift parameter for asset $i$. \n",
    "The multi-asset geometric Brownian model has the solution $S_{i}(t_{k})$ at time $t_{k}$ given by:\n",
    "$$\n",
    "\\begin{equation*}\n",
    "S_{i}(t_{k}) = S_{i}(t_{k-1})\\cdot\\exp\\Biggl[\\left(\\mu_{i}-\\frac{\\sigma_{i}^{2}}{2}\\right)\\cdot\\Delta{t} + \\sqrt{\\Delta{t}}\\cdot\\sum_{j\\in\\mathcal{P}}a_{ij}\\cdot{Z_{j}}\\Biggr]\\quad{i\\in\\mathcal{P}}\n",
    "\\end{equation*}\n",
    "$$\n",
    "where $S_{i}(t_{k-1})$ is the share price of asset $i\\in\\mathcal{P}$ at time $t_{k-1}$,  $\\Delta{t} = t_{k} - t_{k-1}$ is the time-step size (fixed), and $Z_{j}\\sim\\mathcal{N}(0,1)$. "
   ]
  },
  {
   "cell_type": "markdown",
   "id": "01bb3d76",
   "metadata": {},
   "source": [
    "## Disclaimer and Risks\n",
    "__This content is offered solely for training and informational purposes__. No offer or solicitation to buy or sell securities or derivative products or any investment or trading advice or strategy is made, given, or endorsed by the teaching team. \n",
    "\n",
    "__Trading involves risk__. Carefully review your financial situation before investing in securities, futures contracts, options, or commodity interests. Past performance, whether actual or indicated by historical tests of strategies, is no guarantee of future performance or success. Trading is generally inappropriate for someone with limited resources, investment or trading experience, or a low-risk tolerance. Only risk capital that is not required for living expenses should be used.\n",
    "\n",
    "__You are fully responsible for any investment or trading decisions you make__. Such decisions should be based solely on evaluating your financial circumstances, investment or trading objectives, risk tolerance, and liquidity needs.\n",
    "\n",
    "___"
   ]
  }
 ],
 "metadata": {
  "language_info": {
   "name": "python"
  }
 },
 "nbformat": 4,
 "nbformat_minor": 5
}
