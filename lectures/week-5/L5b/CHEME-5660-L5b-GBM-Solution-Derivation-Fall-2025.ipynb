{
 "cells": [
  {
   "cell_type": "markdown",
   "id": "127987ac",
   "metadata": {},
   "source": [
    "# Advanced: Derivation of the Geometric Brownian Motion Model Solution\n",
    "Let's walk through the derivation of the Geometric Brownian Motion (GBM) model solution step by step. The key idea that we need to introduce is **Itô's Lemma**, which is a fundamental result in stochastic calculus. Then, we will apply Itô's Lemma to derive the GBM solution.\n",
    "\n",
    "> __Learning Objectives:__\n",
    "> \n",
    "> Fill me in later!\n",
    ">\n",
    "\n",
    "Let's get started!\n",
    "___"
   ]
  },
  {
   "cell_type": "markdown",
   "id": "c3ca4a83",
   "metadata": {},
   "source": [
    "## Ito's Lemma\n",
    "Ito's Lemma, developed by K. Ito in 1951, is an analog of the Taylor series for stochastic systems.\n",
    "Let the random variable $X(t)$ be governed by the stochastic differential equation:\n",
    "$$\n",
    "\\begin{align*}\n",
    "dX &= a\\left(X(t),t\\right)dt + b\\left(X(t),t\\right)dW(t)\\\\\n",
    "\\end{align*}\n",
    "$$\n",
    "where $dW(t)$ is a one-dimensional Wiener process and $a$ and $b$ are functions of $X(t)$ and $t$. \n",
    "Let $Y(t) = \\phi\\left(t,X(t)\\right)$ be twice differentiable with respect to $X(t)$, \n",
    "and singly differentiable with respect to $t$. Then, $Y(t)$ is governed by the equation:\n",
    "$$\n",
    "\\begin{align*}\n",
    "dY &= \\left(\\frac{\\partial{Y}}{\\partial{t}}+a\\frac{\\partial{Y}}{\\partial{X}}+\\frac{b^{2}}{2}\\frac{\\partial^{2}{Y}}{\\partial{X}^{2}}\\right)dt+b\\left(\\frac{\\partial{Y}}{\\partial{X}}\\right)dW(t)\n",
    "\\end{align*}\n",
    "$$"
   ]
  },
  {
   "cell_type": "markdown",
   "id": "8b29aecc",
   "metadata": {},
   "source": [
    "## Derivation of the GBM Model Solution\n",
    "Geometric Brownian motion (GBM) is a stochastic differential equation describing the share price $S(t)$ \n",
    "as a random walk with drift and volatility proportional to $S(t)$:\n",
    "$$\n",
    "\\begin{align*}\n",
    "\\frac{dS\\left(t\\right)}{S(t)} &= \\mu\\,{dt}+\\sigma\\,{dW(t)}\\\\\n",
    "\\end{align*}\n",
    "$$\n",
    "Here, $\\mu\\in\\mathbb{R}$ denotes a constant drift parameter, $\\sigma>0$ is a constant __volatility__ parameter, and $dW$ represents a Wiener noise (randomness) process. Let $Y = \\ln(S)$, $a = \\mu\\cdot{S}$, and $b = \\sigma\\cdot{S}$. \n",
    "Then, $Y$ is governed by the stochastic differential equation (using Ito's Lemma):\n",
    "$$\n",
    "\\begin{align*}\n",
    "d\\ln(S) &= \\left(\\mu - \\frac{\\sigma^{2}}{2}\\right)dt + \\sigma\\cdot{dW(t)}\n",
    "\\end{align*}\n",
    "$$\n",
    "We integrate both sides of the equation to obtain from $t_{\\circ}$ to $t$:\n",
    "$$\n",
    "\\begin{align*}\n",
    "\\int_{t_{\\circ}}^{t}d\\ln(S) &= \\int_{t_{\\circ}}^{t}\\left(\\mu - \\frac{\\sigma^{2}}{2}\\right)dt + \\int_{t_{\\circ}}^{t}\\sigma\\cdot{dW(t)}\n",
    "\\end{align*}\n",
    "$$\n",
    "which gives:\n",
    "$$\n",
    "\\begin{align*}\n",
    "\\ln\\left(\\frac{S_{t}}{S_{\\circ}}\\right) &= \\left(\\mu - \\frac{\\sigma^{2}}{2}\\right)\\left(t - t_{\\circ}\\right) + \\sigma\\cdot\\sqrt{t-t_{\\circ}}\\cdot{Z(0,1)}\n",
    "\\end{align*}\n",
    "$$\n",
    "where the noise term makes use of the definition of the integral of a Wiener process. Taking the exponential of both sides, we obtain the GBM model solution:\n",
    "$$\n",
    "\\boxed{\n",
    "\\begin{align*}\n",
    "S_{t} &= S_{\\circ}\\cdot\\exp\\left[\\left(\\mu - \\frac{\\sigma^{2}}{2}\\right)\\left(t - t_{\\circ}\\right) + \\sigma\\cdot\\sqrt{t-t_{\\circ}}\\cdot{Z(0,1)}\\right]\n",
    "\\end{align*}}\n",
    "$$\n",
    "where $Z(0,1)$ is a standard normal random variable."
   ]
  },
  {
   "cell_type": "markdown",
   "id": "1548bc24",
   "metadata": {},
   "source": []
  }
 ],
 "metadata": {
  "language_info": {
   "name": "python"
  }
 },
 "nbformat": 4,
 "nbformat_minor": 5
}
